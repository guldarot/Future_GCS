{
 "cells": [
  {
   "cell_type": "markdown",
   "metadata": {},
   "source": [
    "# Class 4: Reading/Writing Data and Mini-Project Wrap-Up\n",
    "\n",
    "**Objective**: Learn to read/write CSV files with pandas, combine NumPy, pandas, and Matplotlib skills, and complete the Iris dataset mini-project.\n",
    "\n",
    "**Topics**:\n",
    "- Reading CSV files with `pd.read_csv()`\n",
    "- Writing CSV files with `df.to_csv()`\n",
    "- Combining NumPy, pandas, and Matplotlib for data analysis\n",
    "- Best practices: checking data integrity, saving plots\n",
    "- Mini-project: Analyze and visualize the Iris dataset\n",
    "\n",
    "This notebook includes examples, exercises, and the final mini-project. Run the code, try the exercises, and let’s finish strong!"
   ]
  },
  {
   "cell_type": "markdown",
   "metadata": {},
   "source": [
    "## 1. Setup\n",
    "\n",
    "We’ll use pandas for data I/O, NumPy for calculations, and Matplotlib for visualization. Run the cell below to import everything."
   ]
  },
  {
   "cell_type": "code",
   "execution_count": null,
   "metadata": {},
   "outputs": [],
   "source": [
    "import pandas as pd\n",
    "import numpy as np\n",
    "import matplotlib.pyplot as plt\n",
    "\n",
    "# Ensure plots display in the notebook\n",
    "%matplotlib inline"
   ]
  },
  {
   "cell_type": "markdown",
   "metadata": {},
   "source": [
    "## 2. Reading CSV Files\n",
    "\n",
    "pandas’ `pd.read_csv()` loads data from CSV files into DataFrames. You can specify headers, skip rows, or handle missing values.\n",
    "\n",
    "### Example 1: Loading a Sample CSV\n",
    "\n",
    "Let’s create a small CSV in-memory and load it. (We’ll use Iris later.)"
   ]
  },
  {
   "cell_type": "code",
   "execution_count": null,
   "metadata": {},
   "outputs": [],
   "source": [
    "# Create a sample CSV (simulating a file)\n",
    "sample_data = pd.DataFrame({\n",
    "    'name': ['Alice', 'Bob', 'Charlie'],\n",
    "    'score': [85, 90, 78]\n",
    "})\n",
    "sample_data.to_csv('sample.csv', index=False)\n",
    "\n",
    "# Read it back\n",
    "df_sample = pd.read_csv('sample.csv')\n",
    "print(\"Sample DataFrame:\\n\", df_sample)\n",
    "\n",
    "# Check data types\n",
    "print(\"\\nData types:\\n\", df_sample.dtypes)"
   ]
  },
  {
   "cell_type": "markdown",
   "metadata": {},
   "source": [
    "**Quick Check**: Why do we use `index=False` when saving? (Hint: It avoids saving the DataFrame index as a column.)"
   ]
  },
  {
   "cell_type": "markdown",
   "metadata": {},
   "source": [
    "## 3. Writing CSV Files\n",
    "\n",
    "You can save DataFrames to CSV with `df.to_csv()` for sharing or later use.\n",
    "\n",
    "### Example 2: Modifying and Saving a CSV"
   ]
  },
  {
   "cell_type": "code",
   "execution_count": null,
   "metadata": {},
   "outputs": [],
   "source": [
    "# Add a new column\n",
    "df_sample['score_squared'] = df_sample['score'] ** 2\n",
    "print(\"Modified DataFrame:\\n\", df_sample)\n",
    "\n",
    "# Save to a new CSV\n",
    "df_sample.to_csv('sample_modified.csv', index=False)\n",
    "print(\"\\nSaved to 'sample_modified.csv'. Check your folder!\")"
   ]
  },
  {
   "cell_type": "markdown",
   "metadata": {},
   "source": [
    "## 4. Combining Skills\n",
    "\n",
    "Let’s combine NumPy, pandas, and Matplotlib to analyze data and visualize results.\n",
    "\n",
    "### Example 3: Analysis and Visualization Workflow"
   ]
  },
  {
   "cell_type": "code",
   "execution_count": null,
   "metadata": {},
   "outputs": [],
   "source": [
    "# Load Iris dataset (use iris.csv or sklearn)\n",
    "from sklearn.datasets import load_iris\n",
    "iris = load_iris()\n",
    "df_iris = pd.DataFrame(iris.data, columns=iris.feature_names)\n",
    "df_iris['species'] = iris.target_names[iris.target]\n",
    "\n",
    "# NumPy: Compute mean petal length\n",
    "mean_petal_length = np.mean(df_iris['petal length (cm)'])\n",
    "print(\"Mean petal length:\", mean_petal_length)\n",
    "\n",
    "# pandas: Filter for setosa species\n",
    "df_setosa = df_iris[df_iris['species'] == 'setosa']\n",
    "print(\"\\nSetosa rows (first 5):\\n\", df_setosa.head())\n",
    "\n",
    "# Matplotlib: Plot petal length distribution\n",
    "plt.hist(df_iris['petal length (cm)'], bins=20, color='skyblue', edgecolor='black')\n",
    "plt.title('Petal Length Distribution')\n",
    "plt.xlabel('Petal Length (cm)')\n",
    "plt.ylabel('Frequency')\n",
    "plt.show()"
   ]
  },
  {
   "cell_type": "markdown",
   "metadata": {},
   "source": [
    "## 5. Best Practices\n",
    "\n",
    "- **Check Data Integrity**: Use `df.info()` or `df.isna().sum()` to ensure data loaded correctly.\n",
    "- **File Paths**: Double-check paths when reading/writing CSVs (e.g., `'data/iris.csv'` if in a subfolder).\n",
    "- **Save Plots**: Use `plt.savefig()` before `plt.show()` to avoid blank files.\n",
    "- **Comment Code**: Explain your steps for clarity (e.g., “Filtering for versicolor”)."
   ]
  },
  {
   "cell_type": "markdown",
   "metadata": {},
   "source": [
    "## Exercises\n",
    "\n",
    "Practice reading, writing, and combining skills with these exercises. Write your code in the provided cells.\n",
    "\n",
    "**Exercise 1**: Read the Iris dataset into a DataFrame (use `iris.csv` or `df_iris` from above). Add a new column `petal_area` computed as `petal length (cm) * petal width (cm)`. Save the result to `iris_with_area.csv`."
   ]
  },
  {
   "cell_type": "code",
   "execution_count": null,
   "metadata": {},
   "outputs": [],
   "source": [
    "# Your code here\n",
    "\n"
   ]
  },
  {
   "cell_type": "markdown",
   "metadata": {},
   "source": [
    "**Exercise 2**: Filter the Iris DataFrame for rows where `sepal length (cm)` is greater than 6.0. Save the filtered DataFrame to `large_sepals.csv`."
   ]
  },
  {
   "cell_type": "code",
   "execution_count": null,
   "metadata": {},
   "outputs": [],
   "source": [
    "# Your code here\n",
    "\n"
   ]
  },
  {
   "cell_type": "markdown",
   "metadata": {},
   "source": [
    "**Exercise 3**: Create a histogram of `sepal width (cm)` from the Iris dataset. Save the plot as `sepal_width_hist.png`."
   ]
  },
  {
   "cell_type": "code",
   "execution_count": null,
   "metadata": {},
   "outputs": [],
   "source": [
    "# Your code here\n",
    "\n"
   ]
  },
  {
   "cell_type": "markdown",
   "metadata": {},
   "source": [
    "**Exercise 4**: Using NumPy, compute the standard deviation of `petal length (cm)` for the `versicolor` species in the Iris dataset. Print the result."
   ]
  },
  {
   "cell_type": "code",
   "execution_count": null,
   "metadata": {},
   "outputs": [],
   "source": [
    "# Your code here\n",
    "\n"
   ]
  },
  {
   "cell_type": "markdown",
   "metadata": {},
   "source": [
    "## Mini-Project: Iris Dataset Analysis\n",
    "\n",
    "Let’s complete our mini-project! We’ll analyze the Iris dataset, create a scatter plot colored by species, and save our results.\n",
    "\n",
    "**Tasks**:\n",
    "1. Load the Iris dataset (use `df_iris` or `iris.csv`).\n",
    "2. Filter for two species: `versicolor` and `virginica`.\n",
    "3. Create a scatter plot of `petal length (cm)` vs. `petal width (cm)`, with different colors for each species.\n",
    "4. Add a title, labels, legend, and grid.\n",
    "5. Save the plot as `iris_species_scatter.png`.\n",
    "6. Save the filtered DataFrame (versicolor and virginica only) to `iris_filtered.csv`."
   ]
  },
  {
   "cell_type": "code",
   "execution_count": null,
   "metadata": {},
   "outputs": [],
   "source": [
    "# Your code here\n",
    "# Step 1: Ensure df_iris is loaded (already done above, or uncomment below)\n",
    "# df_iris = pd.read_csv('iris.csv')\n",
    "\n",
    "# Step 2: Filter for versicolor and virginica\n",
    "df_filtered = df_iris[df_iris['species'].isin(['versicolor', 'virginica'])]\n",
    "\n",
    "# Step 3-4: Scatter plot with colors\n",
    "plt.scatter(df_filtered[df_filtered['species'] == 'versicolor']['petal length (cm)'],\n",
    "            df_filtered[df_filtered['species'] == 'versicolor']['petal width (cm)'],\n",
    "            color='blue', label='Versicolor', alpha=0.6)\n",
    "plt.scatter(df_filtered[df_filtered['species'] == 'virginica']['petal length (cm)'],\n",
    "            df_filtered[df_filtered['species'] == 'virginica']['petal width (cm)'],\n",
    "            color='red', label='Virginica', alpha=0.6)\n",
    "plt.title('Petal Length vs. Petal Width by Species')\n",
    "plt.xlabel('Petal Length (cm)')\n",
    "plt.ylabel('Petal Width (cm)')\n",
    "plt.legend()\n",
    "plt.grid(True)\n",
    "\n",
    "# Step 5: Save plot\n",
    "plt.savefig('iris_species_scatter.png')\n",
    "plt.show()\n",
    "\n",
    "# Step 6: Save filtered DataFrame\n",
    "df_filtered.to_csv('iris_filtered.csv', index=False)\n",
    "print(\"Saved filtered data to 'iris_filtered.csv'\")"
   ]
  },
  {
   "cell_type": "markdown",
   "metadata": {},
   "source": [
    "**Reflect**: Does the scatter plot show clear separation between species? What features seem most distinct? Share your thoughts if asked!\n",
    "\n",
    "**Optional Challenge**: Compute the mean `petal length (cm)` for each species in `df_filtered` and visualize them in a bar plot. Save it as `species_means.png`."
   ]
  },
  {
   "cell_type": "code",
   "execution_count": null,
   "metadata": {},
   "outputs": [],
   "source": [
    "# Optional: Try it here\n",
    "\n"
   ]
  },
  {
   "cell_type": "markdown",
   "metadata": {},
   "source": [
    "## Wrap-Up\n",
    "\n",
    "Congratulations! You’ve learned how to:\n",
    "- Read and write CSV files with pandas.\n",
    "- Combine NumPy, pandas, and Matplotlib for data analysis.\n",
    "- Follow best practices for data workflows.\n",
    "- Complete the Iris mini-project with analysis and visualization.\n",
    "\n",
    "Save this notebook, your CSV files (`iris_with_area.csv`, `large_sepals.csv`, `iris_filtered.csv`), and plots (`sepal_width_hist.png`, `iris_species_scatter.png`). Share them with the instructor if requested. Great work finishing Week 3!"
   ]
  }
 ],
 "metadata": {
  "kernelspec": {
   "display_name": "Python 3",
   "language": "python",
   "name": "python3"
  },
  "language_info": {
   "codemirror_mode": {
    "name": "ipython",
    "version": 3
   },
   "file_extension": ".py",
   "mimetype": "text/x-python",
   "name": "python",
   "nbconvert_exporter": "python",
   "pygments_lexer": "ipython3",
   "version": "3.8.0"
  }
 },
 "nbformat": 4,
 "nbformat_minor": 4
}