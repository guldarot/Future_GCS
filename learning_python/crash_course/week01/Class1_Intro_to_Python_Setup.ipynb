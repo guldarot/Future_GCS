{
 "cells": [
  {
   "cell_type": "markdown",
   "metadata": {},
   "source": [
    "# Class 1: Why Python and Setting Up Your Environment\n",
    "\n",
    "**Objective**: By the end of this class, you will understand why Python is great for AI, have Python installed, and run your first Python program!\n",
    "\n",
    "**What we'll cover**:\n",
    "- Why Python is used for Artificial Intelligence (AI).\n",
    "- Setting up Python and an IDE (VSCode or Jupyter Notebook).\n",
    "- Writing and running a simple 'Hello, World!' program.\n",
    "\n",
    "Let’s dive in!"
   ]
  },
  {
   "cell_type": "markdown",
   "metadata": {},
   "source": [
    "## 1. Why Python for AI?\n",
    "\n",
    "Python is one of the most popular programming languages for Artificial Intelligence (AI) because:\n",
    "- **It’s easy to learn**: Python’s syntax is simple and readable, like writing instructions in plain English.\n",
    "- **It has powerful libraries**: Tools like NumPy, TensorFlow, and Pandas make AI tasks (like machine learning or data analysis) easier.\n",
    "- **It’s versatile**: Python is used for web development, automation, data science, and more.\n",
    "- **Huge community**: Millions of developers use Python, so there’s tons of help online!\n",
    "\n",
    "**Examples of AI with Python**:\n",
    "- **Chatbots**: Like the ones you text for customer service.\n",
    "- **Image recognition**: Apps that identify objects in photos.\n",
    "- **Recommendation systems**: Netflix or YouTube suggesting what to watch next.\n",
    "\n",
    "**Fun Fact**: Python was created by Guido van Rossum in 1989 and named after the comedy show *Monty Python*! 😄"
   ]
  },
  {
   "cell_type": "markdown",
   "metadata": {},
   "source": [
    "## 2. Setting Up Your Python Environment\n",
    "\n",
    "Before we code, we need to set up Python and a place to write our programs (called an IDE, or Integrated Development Environment).\n",
    "\n",
    "### Step 1: Install Python\n",
    "- Download Python from [python.org](https://www.python.org/downloads/).\n",
    "- Choose the latest version (e.g., Python 3.11 or higher).\n",
    "- During installation, check the box to **add Python to PATH** (this makes it easier to run Python from anywhere).\n",
    "\n",
    "### Step 2: Choose an IDE (Integrated Development Environment)\n",
    "\n",
    "- **VSCode**: A powerful editor for bigger projects.\n",
    "\n",
    "\n",
    "**VSCode Setup**:\n",
    "- Download VSCode from [code.visualstudio.com](https://code.visualstudio.com/).\n",
    "- Install the Python extension (search for 'Python' in the Extensions tab).\n",
    "- Create a `.py` file to write Python code.\n",
    "\n",
    "**Note**: Your instructor will help troubleshoot any setup issues during class. For now, let’s assume you’re in Jupyter Notebook."
   ]
  },
  {
   "cell_type": "markdown",
   "metadata": {},
   "source": [
    "To begin practicing or running Python code quickly, you can use Google Colab, a free cloud-based service provided by Google that allows you to start coding immediately without needing to install any software. With its user-friendly interface, Colab offers a Jupyter notebook environment where you can write, execute, and share Python code seamlessly. It comes with pre-installed libraries like NumPy, pandas, and TensorFlow, making it ideal for data science, machine learning, and general programming tasks. Additionally, Colab provides access to powerful hardware, including GPUs and TPUs, enabling efficient computation for resource-intensive projects, all while requiring only a Google account to get started."
   ]
  },
  {
   "cell_type": "markdown",
   "metadata": {},
   "source": [
    "## 3. Your First Python Program: Hello, World!\n",
    "\n",
    "Let’s write a classic program that prints 'Hello, World!' to the screen. This will confirm your setup is working.\n",
    "\n",
    "In Jupyter, a **code cell** (like below) lets you write and run Python code. Click the cell and press **Shift + Enter** to run it."
   ]
  },
  {
   "cell_type": "code",
   "execution_count": 1,
   "metadata": {},
   "outputs": [
    {
     "name": "stdout",
     "output_type": "stream",
     "text": [
      "Hello, World!\n"
     ]
    }
   ],
   "source": [
    "# This is a comment (starts with #, ignored by Python)\n",
    "# The print() function displays text on the screen\n",
    "print(\"Hello, World!\")"
   ]
  },
  {
   "cell_type": "markdown",
   "metadata": {},
   "source": [
    "**Explanation**:\n",
    "- `print()` is a built-in Python function that outputs text.\n",
    "- `\"Hello, World!\"` is a **string** (text) enclosed in quotes.\n",
    "- When you run the cell, you should see `Hello, World!` below it.\n",
    "\n",
    "**Try it**: Run the code above. Did it work? If not, ask for help!"
   ]
  },
  {
   "cell_type": "markdown",
   "metadata": {},
   "source": [
    "## 4. Experimenting in Jupyter Notebook\n",
    "\n",
    "Jupyter Notebook is awesome because you can run code in small chunks and see results instantly. Let’s try a few more `print()` examples to get comfortable."
   ]
  },
  {
   "cell_type": "code",
   "execution_count": 2,
   "metadata": {},
   "outputs": [
    {
     "name": "stdout",
     "output_type": "stream",
     "text": [
      "My name is Shahbaz Gul Darot\n",
      "Welcome to Python!\n",
      "This is fun!\n"
     ]
    }
   ],
   "source": [
    "# Printing your name\n",
    "print(\"My name is Shahbaz Gul Darot\")  # Replace [Your Name] with your actual name\n",
    "\n",
    "# Printing multiple lines\n",
    "print(\"Welcome to Python!\")\n",
    "print(\"This is fun!\")"
   ]
  },
  {
   "cell_type": "markdown",
   "metadata": {},
   "source": [
    "**Explanation**:\n",
    "- You can print anything inside quotes.\n",
    "- Each `print()` starts a new line by default.\n",
    "\n",
    "**Try it**: Modify the code above to print your name and a fun message. Run it!"
   ]
  },
  {
   "cell_type": "markdown",
   "metadata": {},
   "source": [
    "## 5. Practice Exercise\n",
    "\n",
    "Now it’s your turn to write some code! In the cell below, write a program that prints the following:\n",
    "\n",
    "```\n",
    "I am learning Python for AI!\n",
    "Today is my first class.\n",
    "I am excited to code!\n",
    "```\n",
    "\n",
    "Use multiple `print()` statements. Run your code to check it."
   ]
  },
  {
   "cell_type": "code",
   "execution_count": null,
   "metadata": {},
   "outputs": [],
   "source": [
    "# Write your practice code here\n",
    "\n"
   ]
  },
  {
   "cell_type": "markdown",
   "metadata": {},
   "source": [
    "**Hint**: Copy the style of the previous examples. Each `print()` needs quotes around the text.\n",
    "\n",
    "**Check your work**: Your output should match the example above exactly. If it doesn’t, double-check your quotes or spelling."
   ]
  },
  {
   "cell_type": "markdown",
   "metadata": {},
   "source": [
    "## 6. Bonus: Running Code in VSCode\n",
    "\n",
    "If you have VSCode set up, let’s try running 'Hello, World!' there too.\n",
    "\n",
    "1. Open VSCode.\n",
    "2. Create a new file called `hello.py`.\n",
    "3. Type the following:\n",
    "\n",
    "```python\n",
    "print(\"Hello, World! From VSCode\")\n",
    "```\n",
    "\n",
    "4. Save the file.\n",
    "5. Run it by clicking the 'Run' button or typing `python hello.py` in the terminal.\n",
    "\n",
    "**Why do this?** VSCode is great for larger programs, while Jupyter is perfect for quick experiments. Knowing both gives you flexibility!"
   ]
  },
  {
   "cell_type": "markdown",
   "metadata": {},
   "source": [
    "## Wrap-Up\n",
    "\n",
    "**You did it!** Today, you:\n",
    "- Learned why Python is awesome for AI.\n",
    "- Set up Python and Jupyter Notebook (and maybe VSCode).\n",
    "- Wrote and ran your first Python program.\n",
    "\n",
    "**Homework**:\n",
    "- If your setup isn’t complete, finish installing Python and Jupyter Notebook (ask for help if stuck).\n",
    "- Play with `print()` in Jupyter: try printing different messages or even emojis (e.g., `print(\"😊\")`).\n",
    "- Explore Jupyter: Create a new notebook and write a few `print()` statements.\n",
    "\n",
    "**Next Class**: We’ll dive into variables, data types, and operators to make our programs smarter!\n",
    "\n",
    "Questions? Ask your instructor or post at https://web.facebook.com/groups/irfanmalik"
   ]
  }
 ],
 "metadata": {
  "kernelspec": {
   "display_name": "base",
   "language": "python",
   "name": "python3"
  },
  "language_info": {
   "codemirror_mode": {
    "name": "ipython",
    "version": 3
   },
   "file_extension": ".py",
   "mimetype": "text/x-python",
   "name": "python",
   "nbconvert_exporter": "python",
   "pygments_lexer": "ipython3",
   "version": "3.12.3"
  }
 },
 "nbformat": 4,
 "nbformat_minor": 4
}
