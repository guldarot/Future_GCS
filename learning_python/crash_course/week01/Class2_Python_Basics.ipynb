{
 "cells": [
  {
   "cell_type": "markdown",
   "metadata": {},
   "source": [
    "# Class 2: Python Basics – Variables, Data Types, and Operators\n",
    "\n",
    "**Objective**: By the end of this class, you’ll be able to create variables, use different data types, and perform calculations with operators in Python.\n",
    "\n",
    "**What we'll cover**:\n",
    "- Variables: Storing and using data.\n",
    "- Data types: Integers, floats, strings, and booleans.\n",
    "- Operators: Arithmetic, comparison, and logical operations.\n",
    "\n",
    "**Prerequisite**: You should have Python and Jupyter Notebook set up from Class 1. If not, ask your instructor for help!\n",
    "\n",
    "Let’s get started!"
   ]
  },
  {
   "cell_type": "markdown",
   "metadata": {},
   "source": [
    "## 1. What Are Variables?\n",
    "\n",
    "Variables are like labeled boxes where you store data (numbers, text, etc.) to use later in your program.\n",
    "\n",
    "- **Creating a variable**: Use a name and assign a value with `=` (e.g., `age = 25`).\n",
    "- **Rules for variable names**:\n",
    "  - Start with a letter or underscore (`_`).\n",
    "  - Use letters, numbers, or underscores (e.g., `my_age`, `score2`).\n",
    "  - No spaces or special characters (e.g., `my-age` is invalid).\n",
    "  - Case-sensitive (`Age` and `age` are different).\n",
    "\n",
    "**Analogy**: Think of a variable as a sticky note on a box. The note (`age`) tells you what’s inside (e.g., `25`)."
   ]
  },
  {
   "cell_type": "code",
   "execution_count": null,
   "metadata": {},
   "outputs": [],
   "source": [
    "# Example: Creating and using variables\n",
    "name = \"Alice\"  # A string variable\n",
    "age = 25        # An integer variable\n",
    "\n",
    "print(name)     # Prints: Alice\n",
    "print(age)      # Prints: 25\n",
    "\n",
    "# Updating a variable\n",
    "age = 26        # Now age is 26\n",
    "print(\"After birthday:\", age)"
   ]
  },
  {
   "cell_type": "markdown",
   "metadata": {},
   "source": [
    "**Explanation**:\n",
    "- `name = \"Alice\"` stores the text `\"Alice\"` in the variable `name`.\n",
    "- `age = 25` stores the number `25` in `age`.\n",
    "- You can change a variable’s value by assigning a new one.\n",
    "\n",
    "**Try it**: Run the code above. Then, change `name` to your name and run it again."
   ]
  },
  {
   "cell_type": "markdown",
   "metadata": {},
   "source": [
    "## 2. Data Types\n",
    "\n",
    "Python uses different **data types** to represent various kinds of information. Today, we’ll cover four:\n",
    "\n",
    "- **Integer (`int`)**: Whole numbers (e.g., `5`, `-10`, `0`).\n",
    "- **Float (`float`)**: Numbers with decimals (e.g., `3.14`, `-0.5`).\n",
    "- **String (`str`)**: Text, enclosed in quotes (e.g., `\"hello\"`, `'Python'`).\n",
    "- **Boolean (`bool`)**: True or False values.\n",
    "\n",
    "You can check a variable’s type using the `type()` function."
   ]
  },
  {
   "cell_type": "code",
   "execution_count": null,
   "metadata": {},
   "outputs": [],
   "source": [
    "# Examples of data types\n",
    "count = 10            # Integer\n",
    "price = 19.99         # Float\n",
    "message = \"Hello!\"    # String\n",
    "is_student = True     # Boolean\n",
    "\n",
    "# Check types\n",
    "print(type(count))    # Prints: <class 'int'>\n",
    "print(type(price))    # Prints: <class 'float'>\n",
    "print(type(message))  # Prints: <class 'str'>\n",
    "print(type(is_student))  # Prints: <class 'bool'>\n",
    "\n",
    "# Using variables\n",
    "print(\"Items:\", count, \"Price:\", price)\n",
    "print(\"Message:\", message, \"Student?\", is_student)"
   ]
  },
  {
   "cell_type": "markdown",
   "metadata": {},
   "source": [
    "**Explanation**:\n",
    "- `type()` tells you what kind of data is stored.\n",
    "- Booleans (`True`, `False`) are useful for decisions (we’ll see more in Class 4).\n",
    "\n",
    "**Try it**: Create a variable for your age (integer) and height (float). Print their values and types."
   ]
  },
  {
   "cell_type": "markdown",
   "metadata": {},
   "source": [
    "## 3. Operators\n",
    "\n",
    "Operators let you perform calculations and comparisons. We’ll cover three types:\n",
    "\n",
    "- **Arithmetic**: Math operations.\n",
    "  - `+` (add), `-` (subtract), `*` (multiply), `/` (divide), `//` (integer divide), `%` (modulus), `**` (power).\n",
    "- **Comparison**: Check relationships.\n",
    "  - `==` (equal), `!=` (not equal), `>` (greater), `<` (less), `>=`, `<=`.\n",
    "- **Logical**: Combine conditions.\n",
    "  - `and` (both true), `or` (either true), `not` (opposite).\n",
    "\n",
    "Let’s see them in action!"
   ]
  },
  {
   "cell_type": "code",
   "execution_count": null,
   "metadata": {},
   "outputs": [],
   "source": [
    "# Arithmetic operators\n",
    "a = 10\n",
    "b = 3\n",
    "\n",
    "print(\"Addition:\", a + b)       # 13\n",
    "print(\"Subtraction:\", a - b)    # 7\n",
    "print(\"Multiplication:\", a * b) # 30\n",
    "print(\"Division:\", a / b)       # 3.333...\n",
    "print(\"Integer Division:\", a // b)  # 3\n",
    "print(\"Modulus:\", a % b)        # 1\n",
    "print(\"Power:\", a ** 2)         # 100\n",
    "\n",
    "# Comparison operators\n",
    "print(\"Is a equal to b?\", a == b)  # False\n",
    "print(\"Is a greater than b?\", a > b)  # True\n",
    "\n",
    "# Logical operators\n",
    "x = True\n",
    "y = False\n",
    "print(\"x and y:\", x and y)     # False\n",
    "print(\"x or y:\", x or y)       # True\n",
    "print(\"not x:\", not x)         # False"
   ]
  },
  {
   "cell_type": "markdown",
   "metadata": {},
   "source": [
    "**Explanation**:\n",
    "- Arithmetic: `10 / 3` gives a float (`3.333...`), while `10 // 3` gives an integer (`3`).\n",
    "- Modulus (`%`) gives the remainder (e.g., `10 % 3 = 1`).\n",
    "- Comparison operators return `True` or `False`.\n",
    "- Logical operators combine booleans (e.g., `True and False` is `False`).\n",
    "\n",
    "**Try it**: Change `a` and `b` to different numbers and predict the outputs before running."
   ]
  },
  {
   "cell_type": "markdown",
   "metadata": {},
   "source": [
    "## 4. Practice Exercise 1: Calculate the Area of a Rectangle\n",
    "\n",
    "Let’s combine variables and operators to calculate the area of a rectangle (area = length × width).\n",
    "\n",
    "**Task**:\n",
    "- Create variables `length` and `width` with any values (e.g., `5` and `10`).\n",
    "- Calculate the area and store it in a variable called `area`.\n",
    "- Print the result in a sentence, e.g., `The area is 50 square units.`\n",
    "\n",
    "Write your code below."
   ]
  },
  {
   "cell_type": "code",
   "execution_count": null,
   "metadata": {},
   "outputs": [],
   "source": [
    "# Practice: Rectangle area\n",
    "# Write your code here\n",
    "\n"
   ]
  },
  {
   "cell_type": "markdown",
   "metadata": {},
   "source": [
    "**Hint**:\n",
    "- Use `*` for multiplication.\n",
    "- Example: `area = length * width`.\n",
    "\n",
    "**Check your work**: If `length = 5` and `width = 10`, the output should be `The area is 50 square units.`"
   ]
  },
  {
   "cell_type": "markdown",
   "metadata": {},
   "source": [
    "## 5. Practice Exercise 2: Swap Two Variables\n",
    "\n",
    "Let’s practice variables by swapping the values of two variables.\n",
    "\n",
    "**Task**:\n",
    "- Create two variables, `x` and `y`, with values `100` and `200`.\n",
    "- Swap their values so `x` becomes `200` and `y` becomes `100`.\n",
    "- Print both variables before and after swapping.\n",
    "\n",
    "**Tip**: Use a temporary variable (e.g., `temp`) to hold one value during the swap."
   ]
  },
  {
   "cell_type": "code",
   "execution_count": null,
   "metadata": {},
   "outputs": [],
   "source": [
    "# Practice: Swap variables\n",
    "# Write your code here\n",
    "\n"
   ]
  },
  {
   "cell_type": "markdown",
   "metadata": {},
   "source": [
    "**Example Solution** (don’t peek unless stuck!):\n",
    "```python\n",
    "x = 100\n",
    "y = 200\n",
    "print(\"Before: x =\", x, \"y =\", y)\n",
    "temp = x\n",
    "x = y\n",
    "y = temp\n",
    "print(\"After: x =\", x, \"y =\", y)\n",
    "```\n",
    "\n",
    "**Check your work**: The output should show `x = 200` and `y = 100` after swapping."
   ]
  },
  {
   "cell_type": "markdown",
   "metadata": {},
   "source": [
    "## 6. Bonus: Fun with Operators\n",
    "\n",
    "Let’s try a quick challenge to test your operator skills.\n",
    "\n",
    "**Task**:\n",
    "- Create a variable `number` with any integer (e.g., `17`).\n",
    "- Check if it’s even using the modulus operator (`%`).\n",
    "- Print `True` if the number is even, `False` if odd.\n",
    "\n",
    "**Hint**: A number is even if `number % 2 == 0`."
   ]
  },
  {
   "cell_type": "code",
   "execution_count": null,
   "metadata": {},
   "outputs": [],
   "source": [
    "# Bonus: Check if a number is even\n",
    "# Write your code here\n",
    "\n"
   ]
  },
  {
   "cell_type": "markdown",
   "metadata": {},
   "source": [
    "**Check your work**: Test with different numbers (e.g., `16` should print `True`, `7` should print `False`)."
   ]
  },
  {
   "cell_type": "markdown",
   "metadata": {},
   "source": [
    "## Wrap-Up\n",
    "\n",
    "**Great job!** Today, you:\n",
    "- Learned how to store data in **variables**.\n",
    "- Explored **data types** (integers, floats, strings, booleans).\n",
    "- Used **operators** to perform math, comparisons, and logic.\n",
    "\n",
    "**Homework**:\n",
    "- Complete the practice exercises if you didn’t finish in class.\n",
    "- Try creating variables for your favorite number and movie, then print them.\n",
    "- Experiment: What happens if you divide by zero (e.g., `10 / 0`)? Write down the error.\n",
    "\n",
    "**Next Class**: We’ll learn how to take user input and manipulate strings to make our programs interactive!\n",
    "\n",
    "Questions? Ask your instructor or share in our class forum!"
   ]
  }
 ],
 "metadata": {
  "kernelspec": {
   "display_name": "Python 3",
   "language": "python",
   "name": "python3"
  },
  "language_info": {
   "codemirror_mode": {
    "name": "ipython",
    "version": 3
   },
   "file_extension": ".py",
   "mimetype": "text/x-python",
   "name": "python",
   "nbconvert_exporter": "python",
   "pygments_lexer": "ipython3",
   "version": "3.11.0"
  }
 },
 "nbformat": 4,
 "nbformat_minor": 4
}