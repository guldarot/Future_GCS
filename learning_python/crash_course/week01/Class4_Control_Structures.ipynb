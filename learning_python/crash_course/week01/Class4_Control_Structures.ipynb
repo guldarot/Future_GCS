{
 "cells": [
  {
   "cell_type": "markdown",
   "metadata": {},
   "source": [
    "# Class 4: Control Structures – Conditionals and Loops\n",
    "\n",
    "**Objective**: By the end of this class, you’ll be able to use conditionals and loops to make decisions and repeat tasks in Python programs.\n",
    "\n",
    "**What we'll cover**:\n",
    "- Conditionals: Using `if`, `else`, and `elif` to make decisions.\n",
    "- Loops: Using `for` and `while` to repeat actions.\n",
    "- Loop control: `break` and `continue`.\n",
    "\n",
    "**Prerequisite**: You should know variables, input/output, and strings from Classes 1–3. If unsure, ask your instructor!\n",
    "\n",
    "Let’s make our programs smarter!"
   ]
  },
  {
   "cell_type": "markdown",
   "metadata": {},
   "source": [
    "## 1. Conditionals: Making Decisions\n",
    "\n",
    "Conditionals let your program choose what to do based on conditions using `if`, `else`, and `elif`.\n",
    "\n",
    "- **Syntax**:\n",
    "  ```python\n",
    "  if condition:\n",
    "      # Do something\n",
    "  elif another_condition:\n",
    "      # Do something else\n",
    "  else:\n",
    "      # Do this if no conditions are true\n",
    "  ```\n",
    "- Conditions use comparison operators (e.g., `==`, `>`, `<`) or logical operators (e.g., `and`, `or`).\n",
    "\n",
    "**Analogy**: It’s like choosing what to wear: *If it’s raining, take an umbrella; else, wear sunglasses.*"
   ]
  },
  {
   "cell_type": "code",
   "execution_count": null,
   "metadata": {},
   "outputs": [],
   "source": [
    "# Example: Check if a number is positive, negative, or zero\n",
    "number = int(input(\"Enter a number: \"))\n",
    "\n",
    "if number > 0:\n",
    "    print(\"The number is positive!\")\n",
    "elif number < 0:\n",
    "    print(\"The number is negative!\")\n",
    "else:\n",
    "    print(\"The number is zero!\")"
   ]
  },
  {
   "cell_type": "markdown",
   "metadata": {},
   "source": [
    "**Explanation**:\n",
    "- `if number > 0` checks if the number is positive.\n",
    "- `elif number < 0` checks for negative (only if the first condition is false).\n",
    "- `else` handles the remaining case (zero).\n",
    "\n",
    "**Try it**: Run the code with different numbers (e.g., `5`, `-3`, `0`). What happens if you enter a letter? (You’ll get a `ValueError`—we’ll fix this later!)"
   ]
  },
  {
   "cell_type": "markdown",
   "metadata": {},
   "source": [
    "## 2. For Loops: Repeating with a Range\n",
    "\n",
    "A `for` loop repeats actions a set number of times, often using `range()` to generate numbers.\n",
    "\n",
    "- **Syntax**:\n",
    "  ```python\n",
    "  for variable in range(start, end, step):\n",
    "      # Do something\n",
    "  ```\n",
    "- `range(5)` gives `0, 1, 2, 3, 4` (end is exclusive).\n",
    "- `range(1, 6)` gives `1, 2, 3, 4, 5`.\n",
    "\n",
    "Let’s print a multiplication table."
   ]
  },
  {
   "cell_type": "code",
   "execution_count": null,
   "metadata": {},
   "outputs": [],
   "source": [
    "# Example: Multiplication table for 5\n",
    "number = 5\n",
    "for i in range(1, 11):  # From 1 to 10\n",
    "    result = number * i\n",
    "    print(f\"{number} x {i} = {result}\")"
   ]
  },
  {
   "cell_type": "markdown",
   "metadata": {},
   "source": [
    "**Explanation**:\n",
    "- `range(1, 11)` generates numbers `1` to `10`.\n",
    "- `i` takes each value, and we calculate `number * i`.\n",
    "- F-strings make the output neat (e.g., `5 x 1 = 5`).\n",
    "\n",
    "**Try it**: Change `number` to `7` and run it. Then, modify `range()` to show only `1` to `5`."
   ]
  },
  {
   "cell_type": "markdown",
   "metadata": {},
   "source": [
    "## 3. While Loops: Repeating Until a Condition\n",
    "\n",
    "A `while` loop repeats as long as a condition is true.\n",
    "\n",
    "- **Syntax**:\n",
    "  ```python\n",
    "  while condition:\n",
    "      # Do something\n",
    "  ```\n",
    "- Be careful: If the condition never becomes false, you get an **infinite loop**!\n",
    "\n",
    "Let’s keep asking for input until a valid number is entered."
   ]
  },
  {
   "cell_type": "code",
   "execution_count": null,
   "metadata": {},
   "outputs": [],
   "source": [
    "# Example: Keep asking until a positive number\n",
    "number = -1\n",
    "while number <= 0:\n",
    "    number = int(input(\"Enter a positive number: \"))\n",
    "print(f\"You entered {number}! Great job!\")"
   ]
  },
  {
   "cell_type": "markdown",
   "metadata": {},
   "source": [
    "**Explanation**:\n",
    "- The loop runs while `number <= 0`.\n",
    "- Once a positive number is entered, the loop stops.\n",
    "\n",
    "**Try it**: Run the code. Enter `0`, `-5`, then `10`. What happens if you enter a letter? (Error—we’ll handle this in later classes.)"
   ]
  },
  {
   "cell_type": "markdown",
   "metadata": {},
   "source": [
    "## 4. Loop Control: Break and Continue\n",
    "\n",
    "You can control loops with:\n",
    "- **`break`**: Exit the loop early.\n",
    "- **`continue`**: Skip the rest of the current iteration and move to the next.\n",
    "\n",
    "Let’s see them in action."
   ]
  },
  {
   "cell_type": "code",
   "execution_count": null,
   "metadata": {},
   "outputs": [],
   "source": [
    "# Example: Break and continue\n",
    "for i in range(1, 10):\n",
    "    if i == 5:\n",
    "        break  # Stop the loop at 5\n",
    "    print(i)\n",
    "\n",
    "print(\"---\")\n",
    "\n",
    "for i in range(1, 10):\n",
    "    if i % 2 == 0:  # Skip even numbers\n",
    "        continue\n",
    "    print(i)"
   ]
  },
  {
   "cell_type": "markdown",
   "metadata": {},
   "source": [
    "**Explanation**:\n",
    "- `break` stops the first loop when `i` is `5`, so it prints `1, 2, 3, 4`.\n",
    "- `continue` skips even numbers (`i % 2 == 0`), so the second loop prints `1, 3, 5, 7, 9`.\n",
    "\n",
    "**Try it**: Change `break` to happen at `3`. Then, modify `continue` to skip odd numbers instead."
   ]
  },
  {
   "cell_type": "markdown",
   "metadata": {},
   "source": [
    "## 5. Practice Exercise 1: Number Classifier\n",
    "\n",
    "Let’s classify a number as even/odd and positive/negative.\n",
    "\n",
    "**Task**:\n",
    "- Ask the user for a number (convert to `int`).\n",
    "- Use conditionals to print:\n",
    "  - Whether it’s even or odd (hint: use `%`).\n",
    "  - Whether it’s positive, negative, or zero.\n",
    "\n",
    "Example output: `10 is even and positive.`\n",
    "\n",
    "Write your code below."
   ]
  },
  {
   "cell_type": "code",
   "execution_count": null,
   "metadata": {},
   "outputs": [],
   "source": [
    "# Practice: Number classifier\n",
    "# Write your code here\n",
    "\n"
   ]
  },
  {
   "cell_type": "markdown",
   "metadata": {},
   "source": [
    "**Hint**:\n",
    "- Check even/odd with `number % 2 == 0`.\n",
    "- Use `if-elif-else` for positive/negative/zero.\n",
    "- Combine results in an f-string.\n",
    "\n",
    "**Check your work**: Test with `4` (even, positive), `-7` (odd, negative), `0` (even, zero)."
   ]
  },
  {
   "cell_type": "markdown",
   "metadata": {},
   "source": [
    "## 6. Practice Exercise 2: Sum of Numbers\n",
    "\n",
    "Let’s calculate the sum of numbers from 1 to 10 using a loop.\n",
    "\n",
    "**Task**:\n",
    "- Use a `for` loop to add numbers from 1 to 10.\n",
    "- Store the sum in a variable.\n",
    "- Print: `The sum of numbers from 1 to 10 is 55.`\n",
    "\n",
    "Write your code below."
   ]
  },
  {
   "cell_type": "code",
   "execution_count": null,
   "metadata": {},
   "outputs": [],
   "source": [
    "# Practice: Sum of numbers\n",
    "# Write your code here\n",
    "\n"
   ]
  },
  {
   "cell_type": "markdown",
   "metadata": {},
   "source": [
    "**Hint**:\n",
    "- Initialize `total = 0` before the loop.\n",
    "- Add each number with `total += i`.\n",
    "- Use `range(1, 11)`.\n",
    "\n",
    "**Check your work**: The sum should be `55` (1 + 2 + … + 10)."
   ]
  },
  {
   "cell_type": "markdown",
   "metadata": {},
   "source": [
    "## 7. Bonus: Guess the Number\n",
    "\n",
    "Let’s create a simple game where the user guesses a number.\n",
    "\n",
    "**Task**:\n",
    "- Set a secret number (e.g., `7`).\n",
    "- Use a `while` loop to keep asking for guesses until the correct number is entered.\n",
    "- Print hints like `Too high!` or `Too low!`.\n",
    "- When correct, print: `You got it!`\n",
    "\n",
    "Write your code below."
   ]
  },
  {
   "cell_type": "code",
   "execution_count": null,
   "metadata": {},
   "outputs": [],
   "source": [
    "# Bonus: Guess the number\n",
    "# Write your code here\n",
    "\n"
   ]
  },
  {
   "cell_type": "markdown",
   "metadata": {},
   "source": [
    "**Example Solution** (don’t peek unless stuck!):\n",
    "```python\n",
    "secret = 7\n",
    "guess = int(input(\"Guess the number: \"))\n",
    "while guess != secret:\n",
    "    if guess > secret:\n",
    "        print(\"Too high!\")\n",
    "    else:\n",
    "        print(\"Too low!\")\n",
    "    guess = int(input(\"Guess again: \"))\n",
    "print(\"You got it!\")\n",
    "```\n",
    "\n",
    "**Check your work**: Test with guesses like `5`, `9`, `7`. It should guide you to `7`."
   ]
  },
  {
   "cell_type": "markdown",
   "metadata": {},
   "source": [
    "## Wrap-Up\n",
    "\n",
    "**Fantastic job!** Today, you:\n",
    "- Used **conditionals** (`if-elif-else`) to make decisions.\n",
    "- Learned **loops** (`for` and `while`) to repeat tasks.\n",
    "- Controlled loops with **`break`** and **`continue`**.\n",
    "\n",
    "**Homework**:\n",
    "- Finish the practice exercises if you didn’t in class.\n",
    "- Write a program that prints all even numbers from 1 to 20 using a `for` loop.\n",
    "- Try a `while` loop that counts down from 5 to 1, printing each number.\n",
    "\n",
    "**What’s Next?** This wraps up Week 1! Next, we’ll combine everything to build bigger programs and explore lists and functions.\n",
    "\n",
    "Questions? Ask your instructor or share in our class forum!"
   ]
  }
 ],
 "metadata": {
  "kernelspec": {
   "display_name": "Python 3",
   "language": "python",
   "name": "python3"
  },
  "language_info": {
   "codemirror_mode": {
    "name": "ipython",
    "version": 3
   },
   "file_extension": ".py",
   "mimetype": "text/x-python",
   "name": "python",
   "nbconvert_exporter": "python",
   "pygments_lexer": "ipython3",
   "version": "3.11.0"
  }
 },
 "nbformat": 4,
 "nbformat_minor": 4
}