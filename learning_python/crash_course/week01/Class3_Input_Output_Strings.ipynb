{
 "cells": [
  {
   "cell_type": "markdown",
   "metadata": {},
   "source": [
    "# Class 3: Input/Output and String Manipulation\n",
    "\n",
    "**Objective**: By the end of this class, you’ll be able to take user input, display output, and manipulate strings to create interactive Python programs.\n",
    "\n",
    "**What we'll cover**:\n",
    "- Basic input/output: Using `input()` and `print()`.\n",
    "- String manipulation: Concatenation, slicing, and common methods.\n",
    "- String formatting: Creating clean, readable outputs.\n",
    "\n",
    "**Prerequisite**: You should know variables, data types, and operators from Class 2. If you’re unsure, ask your instructor!\n",
    "\n",
    "Let’s make our programs talk to users!"
   ]
  },
  {
   "cell_type": "markdown",
   "metadata": {},
   "source": [
    "## 1. Basic Input and Output\n",
    "\n",
    "To make programs interactive, we use:\n",
    "- **`input()`**: Gets text from the user (returns a string).\n",
    "- **`print()`**: Displays text or data (we used this in Classes 1–2).\n",
    "\n",
    "**Key Notes**:\n",
    "- `input()` always returns a string, even if the user types a number.\n",
    "- You can pass a prompt to `input()` to guide the user (e.g., `input(\"Enter your name: \")`).\n",
    "\n",
    "Let’s try a simple example."
   ]
  },
  {
   "cell_type": "code",
   "execution_count": null,
   "metadata": {},
   "outputs": [],
   "source": [
    "# Example: Greeting the user\n",
    "name = input(\"Enter your name: \")\n",
    "print(\"Hello,\", name, \"! Nice to meet you!\")\n",
    "\n",
    "# Input is a string\n",
    "age = input(\"Enter your age: \")\n",
    "print(\"You are\", age, \"years old.\")\n",
    "print(\"Age is type:\", type(age))  # Shows <class 'str'>"
   ]
  },
  {
   "cell_type": "markdown",
   "metadata": {},
   "source": [
    "**Explanation**:\n",
    "- `input(\"Enter your name: \")` shows a prompt and stores the user’s response in `name`.\n",
    "- `print(\"Hello,\", name, \"!\")` combines text and variables.\n",
    "- Even if you type `25` for age, `age` is a string (`\"25\"`), not a number.\n",
    "\n",
    "**Try it**: Run the code. Enter your name and age. Check the type of `age`."
   ]
  },
  {
   "cell_type": "markdown",
   "metadata": {},
   "source": [
    "## 2. Converting Input to Numbers\n",
    "\n",
    "Since `input()` returns a string, you need to convert it to a number for math.\n",
    "- Use `int()` for integers (e.g., `int(\"25\")` → `25`).\n",
    "- Use `float()` for decimals (e.g., `float(\"3.14\")` → `3.14`).\n",
    "\n",
    "Let’s calculate with user input."
   ]
  },
  {
   "cell_type": "code",
   "execution_count": null,
   "metadata": {},
   "outputs": [],
   "source": [
    "# Example: Calculate years until 100\n",
    "age = input(\"Enter your age: \")\n",
    "age = int(age)  # Convert string to integer\n",
    "years_left = 100 - age\n",
    "print(\"You’ll be 100 in\", years_left, \"years!\")"
   ]
  },
  {
   "cell_type": "markdown",
   "metadata": {},
   "source": [
    "**Explanation**:\n",
    "- `int(age)` converts the string `age` to a number so we can subtract.\n",
    "- If you skip `int()`, you’ll get an error trying to do math with a string.\n",
    "\n",
    "**Try it**: Run the code. Try entering a non-number (e.g., `abc`). What happens? (You’ll see a `ValueError`—we’ll handle errors later!)"
   ]
  },
  {
   "cell_type": "markdown",
   "metadata": {},
   "source": [
    "## 3. String Manipulation\n",
    "\n",
    "Strings are text (e.g., `\"Python\"`). You can manipulate them in many ways:\n",
    "- **Concatenation**: Combine strings with `+`.\n",
    "- **Slicing**: Get parts of a string (e.g., `text[0:3]`).\n",
    "- **Methods**: Built-in functions like `.upper()`, `.lower()`, `.strip()`.\n",
    "\n",
    "Let’s explore these."
   ]
  },
  {
   "cell_type": "code",
   "execution_count": null,
   "metadata": {},
   "outputs": [],
   "source": [
    "# Example: String manipulation\n",
    "text = \"Python\"\n",
    "\n",
    "# Concatenation\n",
    "greeting = text + \" is fun!\"\n",
    "print(greeting)  # Prints: Python is fun!\n",
    "\n",
    "# Slicing\n",
    "print(\"First letter:\", text[0])      # P\n",
    "print(\"First three:\", text[0:3])     # Pyt\n",
    "print(\"Reverse:\", text[::-1])        # nohtyP\n",
    "\n",
    "# String methods\n",
    "print(\"Uppercase:\", text.upper())    # PYTHON\n",
    "print(\"Lowercase:\", text.lower())    # python\n",
    "messy = \"   hello   \"\n",
    "print(\"Cleaned:\", messy.strip())     # hello"
   ]
  },
  {
   "cell_type": "markdown",
   "metadata": {},
   "source": [
    "**Explanation**:\n",
    "- Concatenation: `\"Python\" + \" is fun!\"` joins strings.\n",
    "- Slicing: `text[0:3]` gets characters from index 0 to 2. `text[::-1]` reverses the string.\n",
    "- Methods: `.upper()` changes case, `.strip()` removes extra spaces.\n",
    "\n",
    "**Try it**: Change `text` to your name. Print it in uppercase and reversed."
   ]
  },
  {
   "cell_type": "markdown",
   "metadata": {},
   "source": [
    "## 4. String Formatting\n",
    "\n",
    "Formatting makes outputs readable. We’ll use **f-strings** (the modern way).\n",
    "- Syntax: `f\"Text {variable}\"` embeds variables directly.\n",
    "\n",
    "Older methods exist (`.format()`, `%`), but f-strings are simplest."
   ]
  },
  {
   "cell_type": "code",
   "execution_count": null,
   "metadata": {},
   "outputs": [],
   "source": [
    "# Example: F-strings\n",
    "name = input(\"Enter your name: \")\n",
    "age = int(input(\"Enter your age: \"))\n",
    "\n",
    "# Using f-strings\n",
    "message = f\"Hi, {name}! You’re {age} years old.\"\n",
    "print(message)\n",
    "\n",
    "# More formatting\n",
    "years_left = 100 - age\n",
    "print(f\"{name}, you’ll be 100 in {years_left} years!\")"
   ]
  },
  {
   "cell_type": "markdown",
   "metadata": {},
   "source": [
    "**Explanation**:\n",
    "- `f\"Hi, {name}!\"` inserts `name` into the string.\n",
    "- F-strings are clean and easy to read compared to concatenation.\n",
    "\n",
    "**Try it**: Run the code. Then, modify it to print your name in uppercase using `.upper()` in the f-string."
   ]
  },
  {
   "cell_type": "markdown",
   "metadata": {},
   "source": [
    "## 5. Practice Exercise 1: Personalized Greeting\n",
    "\n",
    "Let’s create an interactive greeting program.\n",
    "\n",
    "**Task**:\n",
    "- Ask the user for their name and favorite hobby.\n",
    "- Print a message like: `Hello, Alice! I love Coding too!`\n",
    "- Use an f-string and make the hobby capitalized (e.g., `coding` → `Coding`).\n",
    "\n",
    "Write your code below."
   ]
  },
  {
   "cell_type": "code",
   "execution_count": null,
   "metadata": {},
   "outputs": [],
   "source": [
    "# Practice: Personalized greeting\n",
    "# Write your code here\n",
    "\n"
   ]
  },
  {
   "cell_type": "markdown",
   "metadata": {},
   "source": [
    "**Hint**:\n",
    "- Use `input()` twice.\n",
    "- Use `.capitalize()` to make the hobby start with a capital letter.\n",
    "- Example: `f\"Hello, {name}! I love {hobby} too!\"`.\n",
    "\n",
    "**Check your work**: If name is `Alice` and hobby is `coding`, output should be `Hello, Alice! I love Coding too!`."
   ]
  },
  {
   "cell_type": "markdown",
   "metadata": {},
   "source": [
    "## 6. Practice Exercise 2: Mad Libs Game\n",
    "\n",
    "Let’s make a fun “Mad Libs” story where users fill in the blanks.\n",
    "\n",
    "**Task**:\n",
    "- Ask the user for a noun, verb, and adjective.\n",
    "- Create a story like: `The shiny dog only jumps.` (using their inputs).\n",
    "- Use an f-string to format the story.\n",
    "\n",
    "Write your code below."
   ]
  },
  {
   "cell_type": "code",
   "execution_count": null,
   "metadata": {},
   "outputs": [],
   "source": [
    "# Practice: Mad Libs story\n",
    "# Write your code here\n",
    "\n"
   ]
  },
  {
   "cell_type": "markdown",
   "metadata": {},
   "source": [
    "**Example Solution** (don’t peek unless stuck!):\n",
    "```python\n",
    "noun = input(\"Enter a noun: \")\n",
    "verb = input(\"Enter a verb: \")\n",
    "adjective = input(\"Enter an adjective: \")\n",
    "story = f\"The {adjective} {noun} only {verb}.\"\n",
    "print(story)\n",
    "```\n",
    "\n",
    "**Check your work**: If inputs are `dog`, `jumps`, `shiny`, output should be `The shiny dog only jumps.`"
   ]
  },
  {
   "cell_type": "markdown",
   "metadata": {},
   "source": [
    "## 7. Bonus: Reverse a Name\n",
    "\n",
    "For a quick challenge, let’s reverse a user’s name.\n",
    "\n",
    "**Task**:\n",
    "- Ask the user for their name.\n",
    "- Print their name reversed (e.g., `Alice` → `ecila`).\n",
    "- Also print it in uppercase.\n",
    "\n",
    "**Hint**: Use slicing (`[::-1]`) and `.upper()`."
   ]
  },
  {
   "cell_type": "code",
   "execution_count": null,
   "metadata": {},
   "outputs": [],
   "source": [
    "# Bonus: Reverse a name\n",
    "# Write your code here\n",
    "\n"
   ]
  },
  {
   "cell_type": "markdown",
   "metadata": {},
   "source": [
    "**Check your work**: If the input is `Alice`, outputs should be `ecila` and `ECILA`."
   ]
  },
  {
   "cell_type": "markdown",
   "metadata": {},
   "source": [
    "## Wrap-Up\n",
    "\n",
    "**Awesome work!** Today, you:\n",
    "- Learned to use **`input()`** and **`print()`** for interaction.\n",
    "- Manipulated **strings** with concatenation, slicing, and methods.\n",
    "- Formatted outputs with **f-strings**.\n",
    "\n",
    "**Homework**:\n",
    "- Finish the practice exercises if you didn’t in class.\n",
    "- Create a program that asks for your favorite food and prints it reversed (e.g., `pizza` → `azzip`).\n",
    "- Explore one new string method (e.g., `.replace()`) in Python’s docs: [docs.python.org/3/library/stdtypes.html#string-methods](https://docs.python.org/3/library/stdtypes.html#string-methods).\n",
    "\n",
    "**Next Class**: We’ll learn conditionals and loops to make decisions and repeat tasks!\n",
    "\n",
    "Questions? Ask your instructor or post in our class forum!"
   ]
  }
 ],
 "metadata": {
  "kernelspec": {
   "display_name": "Python 3",
   "language": "python",
   "name": "python3"
  },
  "language_info": {
   "codemirror_mode": {
    "name": "ipython",
    "version": 3
   },
   "file_extension": ".py",
   "mimetype": "text/x-python",
   "name": "python",
   "nbconvert_exporter": "python",
   "pygments_lexer": "ipython3",
   "version": "3.11.0"
  }
 },
 "nbformat": 4,
 "nbformat_minor": 4
}