{
 "cells": [
  {
   "cell_type": "markdown",
   "metadata": {},
   "source": [
    "# Class 1 Practice: What is Machine Learning?\n",
    "\n",
    "Welcome to Week 5, Class 1! Today, we’ll explore the basics of **machine learning (ML)**, the backbone of artificial intelligence. This notebook will help you understand what ML is, learn the difference between supervised and unsupervised learning, and try a simple exercise to apply these ideas.\n",
    "\n",
    "**No coding required**—just read, think, and answer questions!\n",
    "\n",
    "## Objectives\n",
    "- Define machine learning and understand how it works.\n",
    "- Learn the difference between **supervised** and **unsupervised** learning.\n",
    "- Analyze a small dataset to identify its learning type."
   ]
  },
  {
   "cell_type": "markdown",
   "metadata": {},
   "source": [
    "## 1. What is Machine Learning?\n",
    "\n",
    "Machine learning is a way to teach computers to learn from **data** without explicitly programming every rule. Imagine teaching a child to recognize cats: you show them lots of cat pictures, and they learn what a cat looks like. ML works similarly—computers find patterns in data to make predictions or decisions.\n",
    "\n",
    "**Examples**:\n",
    "- Recommending movies on Netflix.\n",
    "- Detecting spam emails.\n",
    "- Predicting tomorrow’s weather.\n",
    "\n",
    "**Question**: Can you think of something in your life that might use ML? Write one idea below (double-click this cell to edit).\n",
    "\n",
    "**Your Answer**: [Type here, e.g., 'My phone’s face unlock feature.']"
   ]
  },
  {
   "cell_type": "markdown",
   "metadata": {},
   "source": [
    "## 2. Supervised vs. Unsupervised Learning\n",
    "\n",
    "Machine learning comes in two main flavors:\n",
    "\n",
    "- **Supervised Learning**:\n",
    "  - The computer is given **labeled data** (inputs with correct answers).\n",
    "  - Example: Predicting house prices. You give the computer data like house size and location (inputs) and the actual price (label). It learns to predict prices for new houses.\n",
    "  - Think of it like a quiz with an answer key.\n",
    "\n",
    "- **Unsupervised Learning**:\n",
    "  - The computer gets **unlabeled data** and finds patterns on its own.\n",
    "  - Example: Grouping customers by shopping habits. You give the computer purchase data, and it clusters similar customers without being told what the groups mean.\n",
    "  - Think of it like sorting a pile of photos into similar piles without knowing what they show.\n",
    "\n",
    "**Real-World Examples**:\n",
    "- Supervised: Email spam filter (labeled as spam or not spam).\n",
    "- Unsupervised: Market segmentation (grouping customers by behavior).\n",
    "\n",
    "**Question**: Which type of learning would you use to predict someone’s house price based on its size? Why?\n",
    "\n",
    "**Your Answer**: [Type here, e.g., 'Supervised, because we have house sizes and prices as labels.']"
   ]
  },
  {
   "cell_type": "markdown",
   "metadata": {},
   "source": [
    "## 3. Exercise: Analyze a Toy Dataset\n",
    "\n",
    "Let’s practice identifying supervised vs. unsupervised learning with a small dataset. Below is a table showing **hours studied** and **exam scores** for 5 students:\n",
    "\n",
    "| Student | Hours Studied | Exam Score |\n",
    "|---------|---------------|------------|\n",
    "| 1       | 2             | 65         |\n",
    "| 2       | 5             | 80         |\n",
    "| 3       | 1             | 50         |\n",
    "| 4       | 7             | 90         |\n",
    "| 5       | 3             | 70         |\n",
    "\n",
    "**Task**:\n",
    "1. Imagine you want to **predict exam scores** based on hours studied. Is this supervised or unsupervised learning? Why?\n",
    "2. What is the **input** (feature)? What is the **output** (label)?\n",
    "\n",
    "**Your Answers**:\n",
    "- Question 1: [Type here, e.g., 'Supervised, because we have hours studied and exam scores as labels.']\n",
    "- Question 2: \n",
    "  - Input: [Type here, e.g., 'Hours studied']\n",
    "  - Output: [Type here, e.g., 'Exam score']"
   ]
  },
  {
   "cell_type": "markdown",
   "metadata": {},
   "source": [
    "## 4. Bonus: Another Dataset\n",
    "\n",
    "Now, suppose you have data on customers’ purchases (e.g., amount spent, items bought) but **no specific goal** in mind. You want to group similar customers together.\n",
    "\n",
    "**Question**: Is this supervised or unsupervised learning? Why?\n",
    "\n",
    "**Your Answer**: [Type here, e.g., 'Unsupervised, because there are no labels—we’re just finding patterns.']"
   ]
  },
  {
   "cell_type": "markdown",
   "metadata": {},
   "source": [
    "## 5. Reflection\n",
    "\n",
    "Take a moment to think about what you’ve learned.\n",
    "\n",
    "**Question**: Write 1-2 sentences about how you could use machine learning in a project or problem you care about.\n",
    "\n",
    "**Your Answer**: [Type here, e.g., 'I could use ML to predict traffic patterns in my city to plan better routes.']"
   ]
  },
  {
   "cell_type": "markdown",
   "metadata": {},
   "source": [
    "## Next Steps\n",
    "\n",
    "Great job! You’ve taken your first step into machine learning. For homework:\n",
    "- Watch a short video on machine learning (e.g., a 5-minute YouTube explainer).\n",
    "- List 3 real-world ML applications and bring them to the next class.\n",
    "\n",
    "Save this notebook and share your answers with your instructor if requested. See you in Class 2, where we’ll dive into ML concepts like features and labels!"
   ]
  }
 ],
 "metadata": {
  "kernelspec": {
   "display_name": "Python 3",
   "language": "python",
   "name": "python3"
  },
  "language_info": {
   "codemirror_mode": {
    "name": "ipython",
    "version": 3
   },
   "file_extension": ".py",
   "mimetype": "text/x-python",
   "name": "python",
   "nbconvert_exporter": "python",
   "pygments_lexer": "ipython3",
   "version": "3.8.0"
  }
 },
 "nbformat": 4,
 "nbformat_minor": 4
}