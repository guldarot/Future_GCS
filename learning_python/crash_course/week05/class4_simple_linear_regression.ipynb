{
 "cells": [
  {
   "cell_type": "markdown",
   "metadata": {},
   "source": [
    "# Class 4 Practice: Simple Linear Regression and Evaluation\n",
    "\n",
    "Welcome to Week 5, Class 4! Today, you’ll build your first machine learning model: a **linear regression** model using scikit-learn. You’ll train it, make predictions, evaluate its performance with **mean squared error (MSE)**, and visualize the results. By the end, you’ll complete a **mini-project** to predict house prices.\n",
    "\n",
    "## Objectives\n",
    "- Understand how **linear regression** works to predict continuous variables.\n",
    "- Train a linear regression model and make predictions.\n",
    "- Evaluate model performance using mean squared error (MSE).\n",
    "- Visualize predictions with a scatter plot and regression line."
   ]
  },
  {
   "cell_type": "markdown",
   "metadata": {},
   "source": [
    "## 1. What is Linear Regression?\n",
    "\n",
    "**Linear regression** is a machine learning method to predict a continuous variable by fitting a straight line to the data. For example, predicting house prices based on size (square footage) assumes a linear relationship: larger houses cost more.\n",
    "\n",
    "**How it works**:\n",
    "- The model finds the best line (y = mx + b) where:\n",
    "  - `y` is the predicted value (e.g., price).\n",
    "  - `x` is the feature (e.g., size).\n",
    "  - `m` is the slope, `b` is the intercept.\n",
    "- The model learns `m` and `b` to minimize prediction errors.\n",
    "\n",
    "**Question**: If you predict house prices using size, what’s one reason the predictions might not be perfect?\n",
    "\n",
    "**Your Answer**: [Type here, e.g., 'Other factors like location also affect price.']"
   ]
  },
  {
   "cell_type": "markdown",
   "metadata": {},
   "source": [
    "## 2. Training a Linear Regression Model\n",
    "\n",
    "Let’s train a model on a small dataset of house sizes (sqft) and prices. We’ll use scikit-learn to:\n",
    "1. Load and split the data.\n",
    "2. Train the model.\n",
    "3. Make predictions.\n",
    "\n",
    "Run the cell below to see it in action."
   ]
  },
  {
   "cell_type": "code",
   "execution_count": null,
   "metadata": {},
   "outputs": [],
   "source": [
    "# Import libraries\n",
    "import numpy as np\n",
    "from sklearn.linear_model import LinearRegression\n",
    "from sklearn.model_selection import train_test_split\n",
    "\n",
    "# Sample dataset: House sizes (sqft) and prices ($)\n",
    "sizes = np.array([1000, 1500, 2000, 2500, 3000]).reshape(-1, 1)  # Feature\n",
    "prices = np.array([200000, 250000, 300000, 350000, 400000])       # Label\n",
    "\n",
    "# Split data (80% train, 20% test)\n",
    "X_train, X_test, y_train, y_test = train_test_split(sizes, prices, test_size=0.2, random_state=42)\n",
    "\n",
    "# Train the model\n",
    "model = LinearRegression()\n",
    "model.fit(X_train, y_train)\n",
    "\n",
    "# Print the slope (m) and intercept (b)\n",
    "print(f\"Slope (m): {model.coef_[0]:.2f}\")\n",
    "print(f\"Intercept (b): {model.intercept_:.2f}\")"
   ]
  },
  {
   "cell_type": "markdown",
   "metadata": {},
   "source": [
    "**Explanation**:\n",
    "- `sizes` is the feature (X), `prices` is the label (y).\n",
    "- `model.fit(X_train, y_train)` trains the model to find the best line.\n",
    "- The slope and intercept define the line (e.g., price = m * size + b).\n",
    "\n",
    "**Question**: Based on the slope, how much does the price increase per square foot?\n",
    "\n",
    "**Your Answer**: [Type here, e.g., 'About $100 per sqft (check slope).']"
   ]
  },
  {
   "cell_type": "markdown",
   "metadata": {},
   "source": [
    "## 3. Making Predictions\n",
    "\n",
    "Once trained, the model can predict prices for new house sizes. Let’s predict the price for the test set and a new house (e.g., 1800 sqft).\n",
    "\n",
    "Run the cell below."
   ]
  },
  {
   "cell_type": "code",
   "execution_count": null,
   "metadata": {},
   "outputs": [],
   "source": [
    "# Predict prices for the test set\n",
    "y_pred = model.predict(X_test)\n",
    "\n",
    "# Predict price for a new house (1800 sqft)\n",
    "new_size = np.array([[1800]])\n",
    "new_price = model.predict(new_size)\n",
    "\n",
    "# Print results\n",
    "print(f\"Test set actual prices: {y_test}\")\n",
    "print(f\"Test set predicted prices: {y_pred}\")\n",
    "print(f\"Predicted price for 1800 sqft house: ${new_price[0]:.2f}\")"
   ]
  },
  {
   "cell_type": "markdown",
   "metadata": {},
   "source": [
    "**Question**: Are the predicted prices close to the actual prices? Why might there be differences?\n",
    "\n",
    "**Your Answer**: [Type here, e.g., 'They’re close, but small differences come from the model’s simplicity.']"
   ]
  },
  {
   "cell_type": "markdown",
   "metadata": {},
   "source": [
    "## 4. Evaluating the Model\n",
    "\n",
    "We use **mean squared error (MSE)** to measure how good the model is. MSE calculates the average squared difference between actual and predicted values:\n",
    "- Lower MSE = better model.\n",
    "- Formula: MSE = (1/n) * Σ(actual - predicted)²\n",
    "\n",
    "Run the cell below to compute MSE."
   ]
  },
  {
   "cell_type": "code",
   "execution_count": null,
   "metadata": {},
   "outputs": [],
   "source": [
    "# Import MSE\n",
    "from sklearn.metrics import mean_squared_error\n",
    "\n",
    "# Calculate MSE\n",
    "mse = mean_squared_error(y_test, y_pred)\n",
    "\n",
    "# Print MSE\n",
    "print(f\"Mean Squared Error (MSE): {mse:.2f}\")"
   ]
  },
  {
   "cell_type": "markdown",
   "metadata": {},
   "source": [
    "**Question**: Is this MSE high or low? (Hint: Compare to price scale, e.g., $200,000).\n",
    "\n",
    "**Your Answer**: [Type here, e.g., 'It seems reasonable since it’s small compared to house prices.']"
   ]
  },
  {
   "cell_type": "markdown",
   "metadata": {},
   "source": [
    "## 5. Visualizing the Results\n",
    "\n",
    "Let’s plot the data and the regression line to see how well the model fits.\n",
    "\n",
    "Run the cell below."
   ]
  },
  {
   "cell_type": "code",
   "execution_count": null,
   "metadata": {},
   "outputs": [],
   "source": [
    "# Import matplotlib\n",
    "import matplotlib.pyplot as plt\n",
    "\n",
    "# Plot training data (blue dots)\n",
    "plt.scatter(X_train, y_train, color='blue', label='Training data')\n",
    "# Plot test data (red dots)\n",
    "plt.scatter(X_test, y_test, color='red', label='Test data')\n",
    "# Plot regression line\n",
    "plt.plot(sizes, model.predict(sizes), color='green', label='Regression line')\n",
    "\n",
    "# Labels and title\n",
    "plt.xlabel('Size (sqft)')\n",
    "plt.ylabel('Price ($)')\n",
    "plt.title('Linear Regression: House Prices')\n",
    "plt.legend()\n",
    "plt.show()"
   ]
  },
  {
   "cell_type": "markdown",
   "metadata": {},
   "source": [
    "**Question**: Does the regression line fit the data well? Why or why not?\n",
    "\n",
    "**Your Answer**: [Type here, e.g., 'It fits well since most points are close to the line.']"
   ]
  },
  {
   "cell_type": "markdown",
   "metadata": {},
   "source": [
    "## 6. Mini-Project: Predict House Prices\n",
    "\n",
    "Now it’s your turn! You’ll build a linear regression model on a slightly larger house price dataset. Follow these steps:\n",
    "1. Load the dataset (provided below).\n",
    "2. Split it into training (80%) and testing (20%) sets.\n",
    "3. Train a linear regression model.\n",
    "4. Predict prices for the test set.\n",
    "5. Calculate MSE.\n",
    "6. Visualize the results.\n",
    "\n",
    "**Dataset**: House sizes (sqft) and prices ($), stored in a pandas DataFrame."
   ]
  },
  {
   "cell_type": "code",
   "execution_count": null,
   "metadata": {},
   "outputs": [],
   "source": [
    "# Import libraries\n",
    "import pandas as pd\n",
    "from sklearn.linear_model import LinearRegression\n",
    "from sklearn.model_selection import train_test_split\n",
    "from sklearn.metrics import mean_squared_error\n",
    "import matplotlib.pyplot as plt\n",
    "\n",
    "# Load dataset\n",
    "data = {\n",
    "    'Size': [800, 1200, 1500, 1800, 2000, 2200, 2500, 2800, 3000, 3200],\n",
    "    'Price': [150000, 200000, 240000, 280000, 310000, 330000, 360000, 400000, 420000, 450000]\n",
    "}\n",
    "df = pd.DataFrame(data)\n",
    "\n",
    "# Prepare features (X) and labels (y)\n",
    "X = df[['Size']]  # Double brackets for DataFrame\n",
    "y = df['Price']\n",
    "\n",
    "# Your code here\n",
    "# 1. Split the data (80% train, 20% test)\n",
    "X_train, X_test, y_train, y_test = train_test_split(X, y, test_size=0.2, random_state=42)\n",
    "\n",
    "# 2. Train the model\n",
    "model = LinearRegression()\n",
    "model.fit(X_train, y_train)\n",
    "\n",
    "# 3. Predict on test set\n",
    "y_pred = model.predict(X_test)\n",
    "\n",
    "# 4. Calculate MSE\n",
    "mse = mean_squared_error(y_test, y_pred)\n",
    "print(f\"Mean Squared Error (MSE): {mse:.2f}\")\n",
    "\n",
    "# 5. Visualize results\n",
    "plt.scatter(X_train, y_train, color='blue', label='Training data')\n",
    "plt.scatter(X_test, y_test, color='red', label='Test data')\n",
    "plt.plot(X, model.predict(X), color='green', label='Regression line')\n",
    "plt.xlabel('Size (sqft)')\n",
    "plt.ylabel('Price ($)')\n",
    "plt.title('Mini-Project: House Price Prediction')\n",
    "plt.legend()\n",
    "plt.show()"
   ]
  },
  {
   "cell_type": "markdown",
   "metadata": {},
   "source": [
    "**Tasks**:\n",
    "- Run the code above and check the MSE and plot.\n",
    "- Answer: Is the model good? Why or why not? (Hint: Look at MSE and plot.)\n",
    "\n",
    "**Your Answer**: [Type here, e.g., 'The model seems good; MSE is low, and the line fits most points closely.']"
   ]
  },
  {
   "cell_type": "markdown",
   "metadata": {},
   "source": [
    "## 7. Reflection\n",
    "\n",
    "**Question**: What did you learn about linear regression from this mini mediu-project? How could you improve the model? (1-2 sentences)\n",
    "\n",
    "**Your Answer**: [Type here, e.g., 'I learned that linear regression predicts well for simple relationships, but adding features like bedrooms could improve it.']"
   ]
  },
  {
   "cell_type": "markdown",
   "metadata": {},
   "source": [
    "## Next Steps\n",
    "\n",
    "Congratulations on building your first ML model! For homework:\n",
    "- Write a short paragraph reflecting on your mini-project results and what you learned about ML.\n",
    "- Optional: Try the mini-project with a different dataset (e.g., scikit-learn’s Diabetes dataset).\n",
    "\n",
    "Save this notebook and submit if requested. Great job completing Week 5!"
   ]
  }
 ],
 "metadata": {
  "kernelspec": {
   "display_name": "Python 3",
   "language": "python",
   "name": "python3"
  },
  "language_info": {
   "codemirror_mode": {
    "name": "ipython",
    "version": 3
   },
   "file_extension": ".py",
   "mimetype": "text/x-python",
   "name": "python",
   "nbconvert_exporter": "python",
   "pygments_lexer": "ipython3",
   "version": "3.8.0"
  }
 },
 "nbformat": 4,
 "nbformat_minor": 4
}