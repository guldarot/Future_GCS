{
 "cells": [
  {
   "cell_type": "markdown",
   "metadata": {},
   "source": [
    "# Class 3 Practice: Getting Started with scikit-learn\n",
    "\n",
    "Welcome to Week 5, Class 3! Today, we’ll get hands-on with **scikit-learn**, a powerful Python library for machine learning. You’ll learn how to load datasets and split them into **training** and **testing** sets, a crucial step for building ML models.\n",
    "\n",
    "## Objectives\n",
    "- Understand what scikit-learn is and how it’s used in ML.\n",
    "- Load a dataset using scikit-learn.\n",
    "- Split a dataset into training and testing sets using `train_test_split`.\n",
    "- Verify the split to ensure it’s correct."
   ]
  },
  {
   "cell_type": "markdown",
   "metadata": {},
   "source": [
    "## 1. Introduction to scikit-learn\n",
    "\n",
    "**scikit-learn** is a beginner-friendly Python library that provides tools for machine learning, like loading datasets, training models, and evaluating results. Think of it as a toolbox for ML experiments!\n",
    "\n",
    "Today, we’ll use scikit-learn to:\n",
    "- Load a dataset (like the Diabetes dataset, which predicts disease progression).\n",
    "- Split it into training and testing sets to prepare for model training.\n",
    "\n",
    "**Question**: Why do we need a library like scikit-learn instead of writing all the ML code ourselves?\n",
    "\n",
    "**Your Answer**: [Type here, e.g., 'It saves time and provides tested tools for common ML tasks.']"
   ]
  },
  {
   "cell_type": "markdown",
   "metadata": {},
   "source": [
    "## 2. Loading a Dataset\n",
    "\n",
    "scikit-learn comes with built-in datasets, like the **Diabetes dataset**, which includes features (e.g., age, BMI) and a label (disease progression score). Let’s load it and explore its structure.\n",
    "\n",
    "Run the cell below to load the dataset and see its shape."
   ]
  },
  {
   "cell_type": "code",
   "execution_count": null,
   "metadata": {},
   "outputs": [],
   "source": [
    "# Import scikit-learn and load the Diabetes dataset\n",
    "from sklearn.datasets import load_diabetes\n",
    "\n",
    "# Load the dataset\n",
    "diabetes = load_diabetes()\n",
    "\n",
    "# Get features (X) and labels (y)\n",
    "X = diabetes.data  # Features (e.g., age, BMI)\n",
    "y = diabetes.target  # Label (disease progression)\n",
    "\n",
    "# Print the shape of the dataset\n",
    "print(f\"Features shape: {X.shape}\")  # Rows, Columns\n",
    "print(f\"Labels shape: {y.shape}\")   # Rows\n",
    "\n",
    "# Optional: Print feature names\n",
    "print(f\"Feature names: {diabetes.feature_names}\")"
   ]
  },
  {
   "cell_type": "markdown",
   "metadata": {},
   "source": [
    "**Explanation**:\n",
    "- `X` contains the features (inputs), like age and BMI, in a matrix (rows = samples, columns = features).\n",
    "- `y` contains the labels (outputs), like disease progression, in a vector.\n",
    "- The `.shape` shows the dataset size (e.g., 442 samples, 10 features).\n",
    "\n",
    "**Question**: Based on the output above, how many samples (rows) are in the Diabetes dataset? How many features?\n",
    "\n",
    "**Your Answer**: [Type here, e.g., '442 samples, 10 features']"
   ]
  },
  {
   "cell_type": "markdown",
   "metadata": {},
   "source": [
    "## 3. Splitting the Dataset\n",
    "\n",
    "To train and test a model, we split the data using `train_test_split`:\n",
    "- **Training set**: Used to teach the model (e.g., 80% of data).\n",
    "- **Testing set**: Used to evaluate the model (e.g., 20% of data).\n",
    "\n",
    "The function randomly splits the data to ensure fairness.\n",
    "\n",
    "Run the cell below to split the Diabetes dataset."
   ]
  },
  {
   "cell_type": "code",
   "execution_count": null,
   "metadata": {},
   "outputs": [],
   "source": [
    "# Import train_test_split\n",
    "from sklearn.model_selection import train_test_split\n",
    "\n",
    "# Split the data (80% train, 20% test)\n",
    "X_train, X_test, y_train, y_test = train_test_split(X, y, test_size=0.2, random_state=42)\n",
    "\n",
    "# Print the shapes of the splits\n",
    "print(f\"Training features shape: {X_train.shape}\")\n",
    "print(f\"Testing features shape: {X_test.shape}\")\n",
    "print(f\"Training labels shape: {y_train.shape}\")\n",
    "print(f\"Testing labels shape: {y_test.shape}\")"
   ]
  },
  {
   "cell_type": "markdown",
   "metadata": {},
   "source": [
    "**Explanation**:\n",
    "- `test_size=0.2` means 20% of the data is for testing.\n",
    "- `random_state=42` ensures the split is reproducible (same split every time).\n",
    "- The output shows how many samples are in each set.\n",
    "\n",
    "**Question**: If the Diabetes dataset has 442 samples, how many should be in the training set (80%)? The testing set (20%)?\n",
    "\n",
    "**Your Answer**: [Type here, e.g., 'Training: 353, Testing: 89']"
   ]
  },
  {
   "cell_type": "markdown",
   "metadata": {},
   "source": [
    "## 4. Exercise: Practice Splitting a Dataset\n",
    "\n",
    "Now it’s your turn! Modify the code below to split the Diabetes dataset with **70% training** and **30% testing**. Then, verify the split by checking the shapes.\n",
    "\n",
    "**Instructions**:\n",
    "1. Change `test_size` to 0.3.\n",
    "2. Run the cell.\n",
    "3. Check the shapes to confirm the split."
   ]
  },
  {
   "cell_type": "code",
   "execution_count": null,
   "metadata": {},
   "outputs": [],
   "source": [
    "# Your code here\n",
    "from sklearn.model_selection import train_test_split\n",
    "\n",
    "# Split the data (70% train, 30% test)\n",
    "X_train, X_test, y_train, y_test = train_test_split(X, y, test_size=0.2, random_state=42)  # Change test_size!\n",
    "\n",
    "# Print the shapes\n",
    "print(f\"Training features shape: {X_train.shape}\")\n",
    "print(f\"Testing features shape: {X_test.shape}\")\n",
    "print(f\"Training labels shape: {y_train.shape}\")\n",
    "print(f\"Testing labels shape: {y_test.shape}\")\n",
    "\n",
    "# Calculate the percentage of test samples\n",
    "test_percentage = X_test.shape[0] / (X_train.shape[0] + X_test.shape[0]) * 100\n",
    "print(f\"Percentage of data in test set: {test_percentage:.1f}%\")"
   ]
  },
  {
   "cell_type": "markdown",
   "metadata": {},
   "source": [
    "**Task**:\n",
    "- Did the split work correctly? (Check if test set is ~30%.)\n",
    "- Write the number of samples in the training and testing sets below.\n",
    "\n",
    "**Your Answer**:\n",
    "- Training samples: [Type here, e.g., '309']\n",
    "- Testing samples: [Type here, e.g., '133']"
   ]
  },
  {
   "cell_type": "markdown",
   "metadata": {},
   "source": [
    "## 5. Reflection\n",
    "\n",
    "**Question**: Why is splitting data into training and testing sets important for machine learning? Write 1-2 sentences.\n",
    "\n",
    "**Your Answer**: [Type here, e.g., 'It ensures the model is evaluated on unseen data, preventing overfitting and checking its ability to generalize.']"
   ]
  },
  {
   "cell_type": "markdown",
   "metadata": {},
   "source": [
    "## Next Steps\n",
    "\n",
    "Awesome job! You’ve learned how to use scikit-learn to prepare data for ML. For homework:\n",
    "- Practice splitting the **Iris dataset** (use `load_iris` from `sklearn.datasets`).\n",
    "- Share your code snippet (e.g., print the shapes of the split).\n",
    "\n",
    "Save this notebook and submit if requested. In Class 4, we’ll use these skills to build a linear regression model!"
   ]
  }
 ],
 "metadata": {
  "kernelspec": {
   "display_name": "Python 3",
   "language": "python",
   "name": "python3"
  },
  "language_info": {
   "codemirror_mode": {
    "name": "ipython",
    "version": 3
   },
   "file_extension": ".py",
   "mimetype": "text/x-python",
   "name": "python",
   "nbconvert_exporter": "python",
   "pygments_lexer": "ipython3",
   "version": "3.8.0"
  }
 },
 "nbformat": 4,
 "nbformat_minor": 4
}