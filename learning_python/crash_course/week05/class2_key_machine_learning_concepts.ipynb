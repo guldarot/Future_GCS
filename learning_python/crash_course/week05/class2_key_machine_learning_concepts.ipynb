{
 "cells": [
  {
   "cell_type": "markdown",
   "metadata": {},
   "source": [
    "# Class 2 Practice: Key Machine Learning Concepts\n",
    "\n",
    "Welcome to Week 5, Class 2! Today, we’ll dive into the foundational concepts of machine learning: **features**, **labels**, **training/testing data**, and **overfitting/underfitting**. This notebook will guide you through these ideas with examples and exercises to prepare you for building ML models.\n",
    "\n",
    "## Objectives\n",
    "- Understand **features** and **labels** in a dataset.\n",
    "- Learn why we split data into **training** and **testing** sets.\n",
    "- Explore **overfitting** and **underfitting** and their impact on models.\n",
    "- Practice identifying these concepts in a sample dataset."
   ]
  },
  {
   "cell_type": "markdown",
   "metadata": {},
   "source": [
    "## 1. Features and Labels\n",
    "\n",
    "In machine learning, data is organized into **features** and **labels**:\n",
    "- **Features**: The input variables used to make predictions. Think of them as the \"questions\" the model uses.\n",
    "  - Example: For predicting house prices, features might be size (sqft), number of bedrooms, and location.\n",
    "- **Labels**: The output variable we want to predict. This is the \"answer\" the model learns.\n",
    "  - Example: For house prices, the label is the actual price ($).\n",
    "\n",
    "**Analogy**: Imagine baking a cake. Features are the ingredients (flour, sugar, eggs), and the label is the cake’s taste (good or bad).\n",
    "\n",
    "**Question**: Suppose you’re predicting whether a student passes an exam. What might be one feature and the label?\n",
    "\n",
    "**Your Answer**:  \n",
    "- Feature: [Type here, e.g., 'Hours studied']  \n",
    "- Label: [Type here, e.g., 'Pass or fail']"
   ]
  },
  {
   "cell_type": "markdown",
   "metadata": {},
   "source": [
    "## 2. Training and Testing Data\n",
    "\n",
    "To build a reliable model, we split our dataset into:\n",
    "- **Training Data**: Used to teach the model (e.g., 80% of the data).\n",
    "- **Testing Data**: Used to evaluate the model’s performance on unseen data (e.g., 20% of the data).\n",
    "\n",
    "**Why split?** Without a test set, the model might just memorize the training data and fail on new data—like studying only the exact questions on a practice test but failing the real exam.\n",
    "\n",
    "**Example**: If you have 100 house price records, you might use 80 to train and 20 to test.\n",
    "\n",
    "**Question**: Why is it bad to test a model on the same data it was trained on?\n",
    "\n",
    "**Your Answer**: [Type here, e.g., 'It might memorize the data and not generalize to new examples.']"
   ]
  },
  {
   "cell_type": "markdown",
   "metadata": {},
   "source": [
    "## 3. Overfitting and Underfitting\n",
    "\n",
    "Models can fail in two ways:\n",
    "- **Overfitting**: The model learns the training data *too well*, including noise, and performs poorly on new data.\n",
    "  - Example: A model that predicts house prices perfectly for your 80 training houses but fails on new houses.\n",
    "- **Underfitting**: The model is too simple and doesn’t learn enough from the training data, performing poorly on both training and testing.\n",
    "  - Example: Predicting house prices using only the number of windows (not enough info).\n",
    "\n",
    "**Analogy**: Overfitting is like memorizing answers without understanding; underfitting is like not studying enough.\n",
    "\n",
    "**Question**: If a model gets 100% accuracy on training data but only 50% on testing data, is it overfitting or underfitting? Why?\n",
    "\n",
    "**Your Answer**: [Type here, e.g., 'Overfitting, because it performs too well on training but poorly on testing.']"
   ]
  },
  {
   "cell_type": "markdown",
   "metadata": {},
   "source": [
    "## 4. Exercise: Analyze a Toy Dataset\n",
    "\n",
    "Let’s practice with a small dataset about **used cars** and their prices:\n",
    "\n",
    "| Car ID | Mileage (miles) | Age (years) | Brand | Price ($) |\n",
    "|--------|-----------------|-------------|-------|-----------|\n",
    "| 1      | 50000           | 3           | Toyota| 15000     |\n",
    "| 2      | 80000           | 5           | Honda | 12000     |\n",
    "| 3      | 20000           | 1           | Ford  | 20000     |\n",
    "| 4      | 100000          | 7           | Toyota| 9000      |\n",
    "| 5      | 30000           | 2           | Honda | 18000     |\n",
    "\n",
    "**Tasks**:\n",
    "1. **Identify Features and Label**:\n",
    "   - Features: [List them, e.g., 'Mileage, Age, Brand']\n",
    "   - Label: [Type here, e.g., 'Price']\n",
    "2. **Plan a Train/Test Split**:\n",
    "   - If you have only 5 records, how many would you use for training and testing? Why?\n",
    "   - Your Answer: [Type here, e.g., '4 for training, 1 for testing, because we need enough data to train but at least one to test.']\n",
    "3. **Think About Overfitting**:\n",
    "   - What might cause overfitting in this dataset? (Hint: Think about features or data size.)\n",
    "   - Your Answer: [Type here, e.g., 'Using too many specific features like car color or having too few data points.']"
   ]
  },
  {
   "cell_type": "code",
   "execution_count": null,
   "metadata": {},
   "outputs": [],
   "source": [
    "# Optional: Inspect the dataset using Python (run this cell if pandas is installed)\n",
    "import pandas as pd\n",
    "\n",
    "# Create the toy dataset\n",
    "data = {\n",
    "    'Mileage': [50000, 80000, 20000, 100000, 30000],\n",
    "    'Age': [3, 5, 1, 7, 2],\n",
    "    'Brand': ['Toyota', 'Honda', 'Ford', 'Toyota', 'Honda'],\n",
    "    'Price': [15000, 12000, 20000, 9000, 18000]\n",
    "}\n",
    "df = pd.DataFrame(data)\n",
    "\n",
    "# Display the dataset\n",
    "df"
   ]
  },
  {
   "cell_type": "markdown",
   "metadata": {},
   "source": [
    "## 5. Reflection\n",
    "\n",
    "**Question**: How could overfitting affect a real-world ML project, like predicting car prices for a dealership? Write 1-2 sentences.\n",
    "\n",
    "**Your Answer**: [Type here, e.g., 'Overfitting might make the model predict perfectly for known cars but fail for new ones, costing the dealership money.']"
   ]
  },
  {
   "cell_type": "markdown",
   "metadata": {},
   "source": [
    "## Next Steps\n",
    "\n",
    "Great work! You’re building a solid ML foundation. For homework:\n",
    "- Read a short article on overfitting (e.g., search 'overfitting Towards Data Science').\n",
    "- Write 1-2 sentences on how to prevent overfitting and bring to class.\n",
    "\n",
    "Save this notebook and share if requested. In Class 3, we’ll start using scikit-learn to load and split datasets!"
   ]
  }
 ],
 "metadata": {
  "kernelspec": {
   "display_name": "Python 3",
   "language": "python",
   "name": "python3"
  },
  "language_info": {
   "codemirror_mode": {
    "name": "ipython",
    "version": 3
   },
   "file_extension": ".py",
   "mimetype": "text/x-python",
   "name": "python",
   "nbconvert_exporter": "python",
   "pygments_lexer": "ipython3",
   "version": "3.8.0"
  }
 },
 "nbformat": 4,
 "nbformat_minor": 4
}