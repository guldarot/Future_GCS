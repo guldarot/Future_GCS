{
 "cells": [
  {
   "cell_type": "markdown",
   "metadata": {},
   "source": [
    "# Class 1: Introduction to Computer Vision and Image Data\n",
    "\n",
    "**Week 9: Convolutional Neural Networks (CNNs) and Image Processing**\n",
    "\n",
    "## Objective\n",
    "In this class, we'll explore the basics of **computer vision** and how images are represented as data for deep learning. By the end, you'll be able to load and visualize image datasets and understand their structure.\n",
    "\n",
    "## Agenda\n",
    "1. What is computer vision?\n",
    "2. Understanding image data (pixels, RGB channels, dimensions).\n",
    "3. Loading and exploring an image dataset (CIFAR-10).\n",
    "4. Exercise: Visualize images and inspect their properties.\n",
    "\n",
    "## Setup\n",
    "Make sure you have the required libraries installed:\n",
    "```bash\n",
    "pip install tensorflow numpy matplotlib\n",
    "```\n",
    "\n",
    "Let's get started!"
   ]
  },
  {
   "cell_type": "markdown",
   "metadata": {},
   "source": [
    "## Part 1: What is Computer Vision?\n",
    "\n",
    "**Computer vision** is a field of AI that enables computers to interpret and understand visual information from the world, such as images or videos. Examples include:\n",
    "- Image classification (e.g., identifying cats vs. dogs).\n",
    "- Object detection (e.g., locating cars in a photo).\n",
    "- Facial recognition, autonomous driving, and more.\n",
    "\n",
    "To process images, computers represent them as **numerical arrays**. Let's explore how this works."
   ]
  },
  {
   "cell_type": "markdown",
   "metadata": {},
   "source": [
    "## Part 2: Understanding Image Data\n",
    "\n",
    "Images are made up of **pixels**, tiny dots of color. Each pixel in a color image has values for **Red, Green, and Blue (RGB)** channels, typically ranging from 0 to 255.\n",
    "\n",
    "- A grayscale image has 1 channel (intensity).\n",
    "- A color image has 3 channels (RGB).\n",
    "\n",
    "An image's **dimensions** are described as `height x width x channels`. For example:\n",
    "- A 32x32 color image has shape `(32, 32, 3)`.\n",
    "- A 28x28 grayscale image has shape `(28, 28, 1)` or `(28, 28)`.\n",
    "\n",
    "Let's load an image dataset to see this in action."
   ]
  },
  {
   "cell_type": "markdown",
   "metadata": {},
   "source": [
    "## Part 3: Loading the CIFAR-10 Dataset\n",
    "\n",
    "The [CIFAR-10 dataset](https://www.cs.toronto.edu/~kriz/cifar.html) contains 60,000 color images (32x32 pixels) across 10 classes (e.g., airplane, cat, dog). We'll use TensorFlow to load it.\n",
    "\n",
    "Run the code below to load and inspect the dataset."
   ]
  },
  {
   "cell_type": "code",
   "execution_count": null,
   "metadata": {},
   "outputs": [],
   "source": [
    "import tensorflow as tf\n",
    "import numpy as np\n",
    "import matplotlib.pyplot as plt\n",
    "\n",
    "# Load CIFAR-10 dataset\n",
    "(x_train, y_train), (x_test, y_test) = tf.keras.datasets.cifar10.load_data()\n",
    "\n",
    "# Define class names for CIFAR-10\n",
    "class_names = ['airplane', 'automobile', 'bird', 'cat', 'deer',\n",
    "               'dog', 'frog', 'horse', 'ship', 'truck']\n",
    "\n",
    "# Print dataset shapes\n",
    "print('Training data shape:', x_train.shape)\n",
    "print('Training labels shape:', y_train.shape)\n",
    "print('Test data shape:', x_test.shape)\n",
    "print('Test labels shape:', y_test.shape)"
   ]
  },
  {
   "cell_type": "markdown",
   "metadata": {},
   "source": [
    "**Explanation**:\n",
    "- `x_train`: Contains 50,000 training images, each 32x32x3 (height, width, RGB).\n",
    "- `y_train`: Contains 50,000 labels (0 to 9, corresponding to class_names).\n",
    "- `x_test`, `y_test`: 10,000 test images and labels.\n",
    "\n",
    "**Question**: What does the shape `(50000, 32, 32, 3)` tell us about the training data?"
   ]
  },
  {
   "cell_type": "markdown",
   "metadata": {},
   "source": [
    "## Part 4: Visualizing Images\n",
    "\n",
    "Let's display a few images from CIFAR-10 to understand their content and structure."
   ]
  },
  {
   "cell_type": "code",
   "execution_count": null,
   "metadata": {},
   "outputs": [],
   "source": [
    "# Display the first 9 images from the training set\n",
    "plt.figure(figsize=(8, 8))\n",
    "for i in range(9):\n",
    "    plt.subplot(3, 3, i + 1)\n",
    "    plt.imshow(x_train[i])\n",
    "    plt.title(class_names[y_train[i][0]])\n",
    "    plt.axis('off')\n",
    "plt.show()"
   ]
  },
  {
   "cell_type": "markdown",
   "metadata": {},
   "source": [
    "**Explanation**:\n",
    "- `plt.imshow()` displays an image from its numerical array.\n",
    "- Each image is labeled with its class (e.g., 'cat', 'dog').\n",
    "\n",
    "**Observation**: Notice the resolution (32x32 is small!). This affects model design, as we'll see later."
   ]
  },
  {
   "cell_type": "markdown",
   "metadata": {},
   "source": [
    "## Part 5: Inspecting Image Data\n",
    "\n",
    "Let's examine a single image's numerical representation."
   ]
  },
  {
   "cell_type": "code",
   "execution_count": null,
   "metadata": {},
   "outputs": [],
   "source": [
    "# Select the first image\n",
    "sample_image = x_train[0]\n",
    "\n",
    "# Print its shape and pixel value range\n",
    "print('Image shape:', sample_image.shape)\n",
    "print('Pixel value range:', sample_image.min(), 'to', sample_image.max())\n",
    "\n",
    "# Display the image\n",
    "plt.imshow(sample_image)\n",
    "plt.title(class_names[y_train[0][0]])\n",
    "plt.axis('off')\n",
    "plt.show()\n",
    "\n",
    "# Show a portion of the red channel (first channel)\n",
    "print('Red channel (first 5x5 pixels):')\n",
    "print(sample_image[:5, :5, 0])"
   ]
  },
  {
   "cell_type": "markdown",
   "metadata": {},
   "source": [
    "**Explanation**:\n",
    "- The image is a `(32, 32, 3)` array.\n",
0.0.1- Pixel values range from 0 to 255 (standard for RGB images).\n",
    "- We printed the red channel's top-left 5x5 pixels to see the numerical data.\n",
    "\n",
    "**Question**: Why do pixel values range from 0 to 255?"
   ]
  },
  {
   "cell_type": "markdown",
   "metadata": {},
   "source": [
    "## Exercise: Explore the Dataset\n",
    "\n",
    "Now it's your turn! Complete the tasks below to deepen your understanding.\n",
    "\n",
    "1. **Visualize More Images**:\n",
    "   - Modify the visualization code to display 16 images in a 4x4 grid.\n",
    "   - Use images from the **test set** (`x_test`, `y_test`) instead of the training set.\n",
    "\n",
    "2. **Inspect Another Image**:\n",
    "   - Select the 10th image from the training set (`x_train[9]`).\n",
    "   - Print its shape, pixel value range, and display it with its class label.\n",
    "   - Print the first 5x5 pixels of its **green channel** (index 1).\n",
    "\n",
    "3. **Challenge (Optional)**:\n",
    "   - Count how many images belong to each class in the training set (e.g., how many 'cats', 'dogs').\n",
    "   - Hint: Use `np.unique(y_train, return_counts=True)`.\n",
    "\n",
    "Write your code in the cells below."
   ]
  },
  {
   "cell_type": "code",
   "execution_count": null,
   "metadata": {},
   "outputs": [],
   "source": [
    "# Task 1: Visualize 16 test set images in a 4x4 grid\n",
    "# Your code here\n",
    "\n",
    "\n",
    "\n",
    "\n",
    "# Task 2: Inspect the 10th training image\n",
    "# Your code here\n",
    "\n",
    "\n",
    "\n",
    "\n",
    "# Task 3 (Optional): Count images per class\n",
    "# Your code here\n"
   ]
  },
  {
   "cell_type": "markdown",
   "metadata": {},
   "source": [
    "## Wrap-Up\n",
    "\n",
    "In this class, you:\n",
    "- Learned what computer vision is and its applications.\n",
    "- Understood how images are represented as numerical arrays (pixels, RGB channels).\n",
    "- Loaded and explored the CIFAR-10 dataset.\n",
    "- Visualized images and inspected their data.\n",
    "\n",
    "**Homework**:\n",
    "- Read about image preprocessing (resizing, normalization, augmentation) for the next class.\n",
    "- Submit your completed notebook if required by the instructor.\n",
    "\n",
    "**Next Class**: We'll dive into Convolutional Neural Networks (CNNs) and how they process images!\n",
    "\n",
    "Questions? Feel free to ask!"
   ]
  }
 ],
 "metadata": {
  "kernelspec": {
   "display_name": "Python 3",
   "language": "python",
   "name": "python3"
  },
  "language_info": {
   "codemirror_mode": {
    "name": "ipython",
    "version": 3
   },
   "file_extension": ".py",
   "mimetype": "text/x-python",
   "name": "python",
   "nbconvert_exporter": "python",
   "pygments_lexer": "ipython3",
   "version": "3.8.10"
  }
 },
 "nbformat": 4,
 "nbformat_minor": 4
}