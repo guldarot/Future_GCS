{
 "cells": [
  {
   "cell_type": "markdown",
   "metadata": {},
   "source": [
    "# Class 1: Introduction to Unsupervised Learning and Clustering\n",
    "\n",
    "**Week 7: Unsupervised Learning and Advanced Data Analysis**\n",
    "\n",
    "**Objective**: Understand unsupervised learning and apply k-means clustering to group data.\n",
    "\n",
    "**Agenda**:\n",
    "- Learn what unsupervised learning is and how it differs from supervised learning.\n",
    "- Explore k-means clustering: how it works and its applications.\n",
    "- Demo: Apply k-means to synthetic data.\n",
    "- Exercise: Cluster a dataset and visualize the results.\n",
    "\n",
    "Let’s dive into finding patterns in data without labels!"
   ]
  },
  {
   "cell_type": "markdown",
   "metadata": {},
   "source": [
    "## 1. What is Unsupervised Learning?\n",
    "\n",
    "- **Definition**: Unsupervised learning finds patterns in data without predefined labels or target outputs.\n",
    "- **Contrast with Supervised Learning**:\n",
    "  - Supervised: Predicts labels (e.g., classify emails as spam/not spam using labeled data).\n",
    "  - Unsupervised: Groups or simplifies data (e.g., segment customers based on behavior).\n",
    "- **Applications**:\n",
    "  - Customer segmentation (grouping similar customers).\n",
    "  - Anomaly detection (identifying unusual patterns).\n",
    "  - Data compression (reducing dimensions).\n",
    "\n",
    "**Clustering** is a key unsupervised learning technique where we group similar data points together. Today, we’ll focus on **k-means clustering**."
   ]
  },
  {
   "cell_type": "markdown",
   "metadata": {},
   "source": [
    "## 2. K-Means Clustering: How It Works\n",
    "\n",
    "**Goal**: Divide data into *k* groups (clusters) where points in a cluster are similar to each other.\n",
    "\n",
    "**Algorithm Steps**:\n",
    "1. Choose *k* (number of clusters).\n",
    "2. Randomly initialize *k* centroids (cluster centers).\n",
    "3. Assign each data point to the nearest centroid.\n",
    "4. Update centroids by computing the mean of points in each cluster.\n",
    "5. Repeat steps 3–4 until centroids stabilize.\n",
    "\n",
    "**Choosing k**:\n",
    "- Use the **elbow method**: Plot the sum of squared distances (inertia) vs. *k* and look for an “elbow” where adding clusters yields little benefit.\n",
    "\n",
    "**Applications**:\n",
    "- Segmenting customers by purchasing patterns.\n",
    "- Organizing documents by topics.\n",
    "\n",
    "Let’s see it in action with a demo!"
   ]
  },
  {
   "cell_type": "markdown",
   "metadata": {},
   "source": [
    "## 3. Demo: K-Means on Synthetic Data\n",
    "\n",
    "We’ll generate a simple 2D dataset with clear clusters, apply k-means, and visualize the results.\n",
    "\n",
    "**Setup**: Ensure you have the required libraries installed:\n",
    "```bash\n",
    "pip install numpy pandas scikit-learn matplotlib\n",
    "```"
   ]
  },
  {
   "cell_type": "code",
   "execution_count": null,
   "metadata": {},
   "outputs": [],
   "source": [
    "# Import libraries\n",
    "import numpy as np\n",
    "import matplotlib.pyplot as plt\n",
    "from sklearn.datasets import make_blobs\n",
    "from sklearn.cluster import KMeans\n",
    "\n",
    "# Generate synthetic data with 3 clusters\n",
    "X, y = make_blobs(n_samples=300, centers=3, random_state=42)\n",
    "\n",
    "# Visualize the data\n",
    "plt.scatter(X[:, 0], X[:, 1], c='blue', s=50, alpha=0.5)\n",
    "plt.title('Synthetic Data (Before Clustering)')\n",
    "plt.xlabel('Feature 1')\n",
    "plt.ylabel('Feature 2')\n",
    "plt.show()"
   ]
  },
  {
   "cell_type": "code",
   "execution_count": null,
   "metadata": {},
   "outputs": [],
   "source": [
    "# Apply k-means clustering\n",
    "kmeans = KMeans(n_clusters=3, random_state=42)\n",
    "kmeans.fit(X)\n",
    "\n",
    "# Get cluster labels and centroids\n",
    "labels = kmeans.labels_\n",
    "centroids = kmeans.cluster_centers_\n",
    "\n",
    "# Visualize the clusters\n",
    "plt.scatter(X[:, 0], X[:, 1], c=labels, s=50, cmap='viridis', alpha=0.5)\n",
    "plt.scatter(centroids[:, 0], centroids[:, 1], c='red', s=200, marker='X', label='Centroids')\n",
    "plt.title('K-Means Clustering Results')\n",
    "plt.xlabel('Feature 1')\n",
    "plt.ylabel('Feature 2')\n",
    "plt.legend()\n",
    "plt.show()"
   ]
  },
  {
   "cell_type": "markdown",
   "metadata": {},
   "source": [
    "**Discussion**:\n",
    "- Notice how k-means grouped similar points together.\n",
    "- The red X’s are centroids, the “center” of each cluster.\n",
    "- What happens if we change *k*? Let’s try the elbow method."
   ]
  },
  {
   "cell_type": "code",
   "execution_count": null,
   "metadata": {},
   "outputs": [],
   "source": [
    "# Elbow method to choose k\n",
    "inertia = []\n",
    "K = range(1, 10)\n",
    "for k in K:\n",
    "    kmeans = KMeans(n_clusters=k, random_state=42)\n",
    "    kmeans.fit(X)\n",
    "    inertia.append(kmeans.inertia_)\n",
    "\n",
    "# Plot elbow curve\n",
    "plt.plot(K, inertia, 'bo-')\n",
    "plt.title('Elbow Method for Optimal k')\n",
    "plt.xlabel('Number of Clusters (k)')\n",
    "plt.ylabel('Inertia')\n",
    "plt.show()"
   ]
  },
  {
   "cell_type": "markdown",
   "metadata": {},
   "source": [
    "**Observation**:\n",
    "- The “elbow” appears around *k=3*, suggesting 3 clusters are optimal for this data.\n",
    "- Inertia decreases as *k* increases, but we want a balance."
   ]
  },
  {
   "cell_type": "markdown",
   "metadata": {},
   "source": [
    "## 4. Exercise: Cluster Your Own Data\n",
    "\n",
    "Now it’s your turn! Use k-means to cluster a dataset and visualize the results.\n",
    "\n",
    "**Task**:\n",
    "- Use the synthetic dataset below (or the iris dataset if you prefer).\n",
    "- Apply k-means with *k=3* and visualize the clusters.\n",
    "- Experiment with different *k* values (e.g., 2, 4) and observe the results.\n",
    "- Bonus: Run the elbow method to confirm the best *k*.\n",
    "\n",
    "**Dataset**:\n",
    "- We’ll generate new synthetic data to keep it fresh.\n",
    "\n",
    "**Instructions**:\n",
    "1. Run the code below to generate data.\n",
    "2. Apply k-means and plot the clusters.\n",
    "3. Try different *k* values and note what changes.\n",
    "4. (Optional) Plot the elbow curve."
   ]
  },
  {
   "cell_type": "code",
   "execution_count": null,
   "metadata": {},
   "outputs": [],
   "source": [
    "# Generate new synthetic data\n",
    "X_exercise, _ = make_blobs(n_samples=400, centers=3, random_state=123)\n",
    "\n",
    "# Visualize the data\n",
    "plt.scatter(X_exercise[:, 0], X_exercise[:, 1], c='blue', s=50, alpha=0.5)\n",
    "plt.title('Exercise: Synthetic Data')\n",
    "plt.xlabel('Feature 1')\n",
    "plt.ylabel('Feature 2')\n",
    "plt.show()"
   ]
  },
  {
   "cell_type": "code",
   "execution_count": null,
   "metadata": {},
   "outputs": [],
   "source": [
    "# Your code here: Apply k-means with k=3\n",
    "# Hint: Follow the demo steps\n",
    "kmeans_ex = KMeans(n_clusters=3, random_state=123)\n",
    "kmeans_ex.fit(X_exercise)\n",
    "\n",
    "# Get labels and centroids\n",
    "labels_ex = kmeans_ex.labels_\n",
    "centroids_ex = kmeans_ex.cluster_centers_\n",
    "\n",
    "# Plot the clusters\n",
    "plt.scatter(X_exercise[:, 0], X_exercise[:, 1], c=labels_ex, s=50, cmap='viridis', alpha=0.5)\n",
    "plt.scatter(centroids_ex[:, 0], centroids_ex[:, 1], c='red', s=200, marker='X', label='Centroids')\n",
    "plt.title('Your K-Means Clustering (k=3)')\n",
    "plt.xlabel('Feature 1')\n",
    "plt.ylabel('Feature 2')\n",
    "plt.legend()\n",
    "plt.show()"
   ]
  },
  {
   "cell_type": "code",
   "execution_count": null,
   "metadata": {},
   "outputs": [],
   "source": [
    "# Experiment with different k (e.g., k=2, k=4)\n",
    "# Your code here:\n",
    "\n",
    "# Example for k=4\n",
    "kmeans_ex4 = KMeans(n_clusters=4, random_state=123)\n",
    "kmeans_ex4.fit(X_exercise)\n",
    "labels_ex4 = kmeans_ex4.labels_\n",
    "centroids_ex4 = kmeans_ex4.cluster_centers_\n",
    "\n",
    "plt.scatter(X_exercise[:, 0], X_exercise[:, 1], c=labels_ex4, s=50, cmap='viridis', alpha=0.5)\n",
    "plt.scatter(centroids_ex4[:, 0], centroids_ex4[:, 1], c='red', s=200, marker='X', label='Centroids')\n",
    "plt.title('Your K-Means Clustering (k=4)')\n",
    "plt.xlabel('Feature 1')\n",
    "plt.ylabel('Feature 2')\n",
    "plt.legend()\n",
    "plt.show()"
   ]
  },
  {
   "cell_type": "code",
   "execution_count": null,
   "metadata": {},
   "outputs": [],
   "source": [
    "# Bonus: Elbow method\n",
    "# Your code here:\n",
    "\n",
    "# Example\n",
    "inertia_ex = []\n",
    "K_ex = range(1, 10)\n",
    "for k in K_ex:\n",
    "    kmeans = KMeans(n_clusters=k, random_state=123)\n",
    "    kmeans.fit(X_exercise)\n",
    "    inertia_ex.append(kmeans.inertia_)\n",
    "\n",
    "plt.plot(K_ex, inertia_ex, 'bo-')\n",
    "plt.title('Elbow Method for Your Data')\n",
    "plt.xlabel('Number of Clusters (k)')\n",
    "plt.ylabel('Inertia')\n",
    "plt.show()"
   ]
  },
  {
   "cell_type": "markdown",
   "metadata": {},
   "source": [
    "## 5. Wrap-Up\n",
    "\n",
    "**Key Takeaways**:\n",
    "- Unsupervised learning helps find patterns without labels.\n",
    "- K-means clusters data by minimizing distances to centroids.\n",
    "- The elbow method helps choose the right number of clusters.\n",
    "\n",
    "**Discussion Questions**:\n",
    "- What did you notice when you changed *k*?\n",
    "- How might clustering apply to real-world problems (e.g., customer segmentation)?\n",
    "\n",
    "**Homework**:\n",
    "- Explore the mall customer dataset (`Mall_Customers.csv`).\n",
    "- Hypothesize what clusters might exist (e.g., based on spending or age).\n",
    "- Bring your ideas to Class 2!\n",
    "\n",
    "Great work today! Next, we’ll simplify high-dimensional data with PCA."
   ]
  }
 ],
 "metadata": {
  "kernelspec": {
   "display_name": "Python 3",
   "language": "python",
   "name": "python3"
  },
  "language_info": {
   "codemirror_mode": {
    "name": "ipython",
    "version": 3
   },
   "file_extension": ".py",
   "mimetype": "text/x-python",
   "name": "python",
   "nbconvert_exporter": "python",
   "pygments_lexer": "ipython3",
   "version": "3.8.0"
  }
 },
 "nbformat": 4,
 "nbformat_minor": 4
}