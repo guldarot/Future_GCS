{
 "cells": [
  {
   "cell_type": "markdown",
   "metadata": {},
   "source": [
    "# Class 4: Cross-Validation and Mini-Project\n",
    "\n",
    "**Week 7: Unsupervised Learning and Advanced Data Analysis**\n",
    "\n",
    "**Objective**: Learn cross-validation for model evaluation and apply unsupervised learning in a clustering mini-project.\n",
    "\n",
    "**Agenda**:\n",
    "- Understand cross-validation and its role in unsupervised learning.\n",
    "- Combine k-means, PCA, and feature selection.\n",
    "- Mini-Project: Cluster the mall customer dataset and interpret results.\n",
    "\n",
    "Let’s synthesize our skills and uncover customer segments!"
   ]
  },
  {
   "cell_type": "markdown",
   "metadata": {},
   "source": [
    "## 1. Cross-Validation in Unsupervised Learning\n",
    "\n",
    "**Why Cross-Validation?**\n",
    "- Ensures models are robust and not overly sensitive to data splits.\n",
    "- In unsupervised learning, we evaluate metrics like clustering quality rather than prediction accuracy.\n",
    "\n",
    "**K-Fold Cross-Validation**:\n",
    "- Split data into *k* folds, train on *k-1* folds, evaluate on the held-out fold.\n",
    "- Repeat *k* times, averaging results.\n",
    "\n",
    "**Evaluation Metric**:\n",
    "- **Silhouette Score**: Measures how similar points are within their cluster vs. other clusters (ranges from -1 to 1).\n",
    "  - Higher score = better-defined clusters.\n",
    "  - Useful for choosing the number of clusters (*k*) in k-means.\n",
    "\n",
    "**Application**:\n",
    "- Validate k-means clusters on customer data.\n",
    "- Compare different *k* values or preprocessing steps."
   ]
  },
  {
   "cell_type": "markdown",
   "metadata": {},
   "source": [
    "## 2. Synthesizing Unsupervised Learning\n",
    "\n",
    "**Recap**:\n",
    "- **Class 1**: K-means clustering to group data.\n",
    "- **Class 2**: PCA to reduce dimensions and visualize.\n",
    "- **Class 3**: Feature selection and data exploration to clean and prepare data.\n",
    "\n",
    "**Today’s Goal**:\n",
    "- Combine these techniques in a mini-project.\n",
    "- Cluster the mall customer dataset, visualize with PCA, and evaluate with silhouette score.\n",
    "\n",
    "**Workflow**:\n",
    "1. Load and preprocess data (use feature selection).\n",
    "2. Apply k-means clustering.\n",
    "3. Reduce dimensions with PCA for visualization.\n",
    "4. Evaluate clusters using silhouette score.\n",
    "5. Interpret results (e.g., what do clusters represent?)."
   ]
  },
  {
   "cell_type": "markdown",
   "metadata": {},
   "source": [
    "## 3. Demo: Cross-Validation with Silhouette Score\n",
    "\n",
    "We’ll demonstrate silhouette score to evaluate k-means clusters on the mall customer dataset.\n",
    "\n",
    "**Setup**: Ensure libraries are installed:\n",
    "```bash\n",
    "pip install numpy pandas scikit-learn matplotlib seaborn\n",
    "```\n",
    "\n",
    "**Dataset**: Use `Mall_Customers.csv` (download from [Kaggle](https://www.kaggle.com/datasets/vjchoudhary7/customer-segmentation-tutorial-in-python) and place in your working directory)."
   ]
  },
  {
   "cell_type": "code",
   "execution_count": null,
   "metadata": {},
   "outputs": [],
   "source": [
    "# Import libraries\n",
    "import numpy as np\n",
    "import pandas as pd\n",
    "import matplotlib.pyplot as plt\n",
    "import seaborn as sns\n",
    "from sklearn.cluster import KMeans\n",
    "from sklearn.metrics import silhouette_score\n",
    "from sklearn.preprocessing import StandardScaler\n",
    "\n",
    "# Load and preprocess data\n",
    "data = pd.read_csv('Mall_Customers.csv')\n",
    "data = data.drop(columns=['CustomerID'], errors='ignore')\n",
    "data = data.rename(columns={'Annual Income (k$)': 'Income', 'Spending Score (1-100)': 'Spending'})\n",
    "\n",
    "# Select numeric features (excluding Gender for simplicity)\n",
    "X = data[['Age', 'Income', 'Spending']]\n",
    "\n",
    "# Standardize features\n",
    "scaler = StandardScaler()\n",
    "X_scaled = scaler.fit_transform(X)\n",
    "\n",
    "# Evaluate silhouette score for different k\n",
    "sil_scores = []\n",
    "K = range(2, 8)\n",
    "for k in K:\n",
    "    kmeans = KMeans(n_clusters=k, random_state=42)\n",
    "    labels = kmeans.fit_predict(X_scaled)\n",
    "    score = silhouette_score(X_scaled, labels)\n",
    "    sil_scores.append(score)\n",
    "    print(f'Silhouette Score for k={k}: {score:.3f}')\n",
    "\n",
    "# Plot silhouette scores\n",
    "plt.plot(K, sil_scores, 'bo-')\n",
    "plt.title('Silhouette Score vs. Number of Clusters')\n",
    "plt.xlabel('Number of Clusters (k)')\n",
    "plt.ylabel('Silhouette Score')\n",
    "plt.show()"
   ]
  },
  {
   "cell_type": "markdown",
   "metadata": {},
   "source": [
    "**Discussion**:\n",
    "- Which *k* gives the highest silhouette score?\n",
    "- How does this compare to the elbow method (Class 1)?\n",
    "- Why might silhouette score be useful for our mini-project?"
   ]
  },
  {
   "cell_type": "markdown",
   "metadata": {},
   "source": [
    "## 4. Mini-Project: Cluster the Mall Customer Dataset\n",
    "\n",
    "Your task is to cluster the mall customer dataset, visualize the results, and interpret the clusters.\n",
    "\n",
    "**Steps**:\n",
    "1. Preprocess: Select features (use Class 3 insights) and standardize.\n",
    "2. Cluster: Apply k-means with a chosen *k* (use silhouette score or elbow method).\n",
    "3. Visualize: Use PCA to reduce to 2D and plot clusters.\n",
    "4. Evaluate: Compute silhouette score.\n",
    "5. Interpret: Describe what each cluster represents (e.g., customer types).\n",
    "\n",
    "**Instructions**:\n",
    "- Follow the code below, filling in the blanks.\n",
    "- Choose *k* based on silhouette score or experimentation.\n",
    "- Work in groups or individually, with instructor support.\n",
    "- Save your results for the homework submission."
   ]
  },
  {
   "cell_type": "code",
   "execution_count": null,
   "metadata": {},
   "outputs": [],
   "source": [
    "# Step 1: Load and preprocess\n",
    "data_mp = pd.read_csv('Mall_Customers.csv')\n",
    "data_mp = data_mp.drop(columns=['CustomerID'], errors='ignore')\n",
    "data_mp = data_mp.rename(columns={'Annual Income (k$)': 'Income', 'Spending Score (1-100)': 'Spending'})\n",
    "\n",
    "# Select features (based on Class 3)\n",
    "X_mp = data_mp[['Age', 'Income', 'Spending']]  # Adjust if you dropped features\n",
    "\n",
    "# Standardize\n",
    "scaler_mp = StandardScaler()\n",
    "X_scaled_mp = scaler_mp.fit_transform(X_mp)"
   ]
  },
  {
   "cell_type": "code",
   "execution_count": null,
   "metadata": {},
   "outputs": [],
   "source": [
    "# Step 2: Apply k-means\n",
    "# Choose k (e.g., from silhouette score above)\n",
    "k_chosen = 5  # Replace with your choice\n",
    "kmeans_mp = KMeans(n_clusters=k_chosen, random_state=42)\n",
    "labels_mp = kmeans_mp.fit_predict(X_scaled_mp)\n",
    "\n",
    "# Compute silhouette score\n",
    "sil_score_mp = silhouette_score(X_scaled_mp, labels_mp)\n",
    "print(f'Silhouette Score for k={k_chosen}: {sil_score_mp:.3f}')"
   ]
  },
  {
   "cell_type": "code",
   "execution_count": null,
   "metadata": {},
   "outputs": [],
   "source": [
    "# Step 3: Visualize with PCA\n",
    "from sklearn.decomposition import PCA\n",
    "\n",
    "pca_mp = PCA(n_components=2)\n",
    "X_pca_mp = pca_mp.fit_transform(X_scaled_mp)\n",
    "\n",
    "# Create DataFrame\n",
    "pca_df_mp = pd.DataFrame(X_pca_mp, columns=['PC1', 'PC2'])\n",
    "pca_df_mp['Cluster'] = labels_mp\n",
    "\n",
    "# Plot\n",
    "plt.figure(figsize=(8, 6))\n",
    "sns.scatterplot(x='PC1', y='PC2', hue='Cluster', palette='Set1', data=pca_df_mp, s=100, alpha=0.7)\n",
    "plt.title(f'Customer Clusters (k={k_chosen}) in PCA Space')\n",
    "plt.xlabel('Principal Component 1')\n",
    "plt.ylabel('Principal Component 2')\n",
    "plt.show()\n",
    "\n",
    "# Explained variance\n",
    "print('Explained Variance Ratio:', pca_mp.explained_variance_ratio_)"
   ]
  },
  {
   "cell_type": "code",
   "execution_count": null,
   "metadata": {},
   "outputs": [],
   "source": [
    "# Step 4: Interpret clusters\n",
    "# Add cluster labels to original data\n",
    "data_mp['Cluster'] = labels_mp\n",
    "\n",
    "# Group by cluster to see feature means\n",
    "cluster_summary = data_mp.groupby('Cluster')[['Age', 'Income', 'Spending']].mean()\n",
    "print('Cluster Characteristics:\\n', cluster_summary)\n",
    "\n",
    "# Visualize feature distributions per cluster\n",
    "plt.figure(figsize=(12, 4))\n",
    "for i, col in enumerate(['Age', 'Income', 'Spending'], 1):\n",
    "    plt.subplot(1, 3, i)\n",
    "    sns.boxplot(x='Cluster', y=col, data=data_mp, palette='Set1')\n",
    "    plt.title(f'{col} by Cluster')\n",
    "plt.tight_layout()\n",
    "plt.show()"
   ]
  },
  {
   "cell_type": "markdown",
   "metadata": {},
   "source": [
    "**Your Interpretation**:\n",
    "- What does each cluster represent? (e.g., \"young high-spenders\", \"older low-income\")\n",
    "- Is the silhouette score high enough to trust the clusters?\n",
    "- How does PCA visualization help understand the results?"
   ]
  },
  {
   "cell_type": "markdown",
   "metadata": {},
   "source": [
    "## 5. Wrap-Up\n",
    "\n",
    "**Key Takeaways**:\n",
    "- Cross-validation (via silhouette score) evaluates clustering quality.\n",
    "- Combining feature selection, k-means, and PCA creates meaningful insights.\n",
    "- Interpreting clusters turns data into stories (e.g., customer segments).\n",
    "\n",
    "**Discussion Questions**:\n",
    "- What customer types did you find?\n",
    "- How did PCA and feature selection help?\n",
    "- What would you try differently (e.g., different *k*, features)?\n",
    "\n",
    "**Homework**:\n",
    "- Finalize the mini-project:\n",
    "  - Submit your notebook with code, visualizations, and a short write-up.\n",
    "  - Describe each cluster (1–2 sentences each) and why they make sense.\n",
    "  - Suggest one business application (e.g., targeted marketing).\n",
    "- Due date: [Insert your deadline].\n",
    "\n",
    "Amazing work this week! You’ve mastered unsupervised learning!"
   ]
  }
 ],
 "metadata": {
  "kernelspec": {
   "display_name": "Python 3",
   "language": "python",
   "name": "python3"
  },
  "language_info": {
   "codemirror_mode": {
    "name": "ipython",
    "version": 3
   },
   "file_extension": ".py",
   "mimetype": "text/x-python",
   "name": "python",
   "nbconvert_exporter": "python",
   "pygments_lexer": "ipython3",
   "version": "3.8.0"
  }
 },
 "nbformat": 4,
 "nbformat_minor": 4
}