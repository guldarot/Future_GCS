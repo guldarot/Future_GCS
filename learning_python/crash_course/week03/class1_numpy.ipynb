{
 "cells": [
  {
   "cell_type": "markdown",
   "metadata": {},
   "source": [
    "# Class 1: Introduction to NumPy\n",
    "\n",
    "**Objective**: Learn how to use NumPy for numerical data, including creating arrays, performing operations, indexing, and understanding broadcasting.\n",
    "\n",
    "**Topics**:\n",
    "- What is NumPy?\n",
    "- Creating arrays (1D, 2D, zeros, ones, random)\n",
    "- Array operations (addition, multiplication, etc.)\n",
    "- Indexing and slicing\n",
    "- Broadcasting basics\n",
    "\n",
    "This notebook includes explanations, examples, and exercises to help you get comfortable with NumPy. Follow along, run the code, and try the exercises!"
   ]
  },
  {
   "cell_type": "markdown",
   "metadata": {},
   "source": [
    "## 1. What is NumPy?\n",
    "\n",
    "NumPy is a Python library for numerical computing. It’s fast, efficient, and great for working with arrays (like lists, but better for math). Think of it as a toolbox for handling numbers, matrices, and data in AI projects.\n",
    "\n",
    "Let’s start by importing NumPy. Run the cell below:"
   ]
  },
  {
   "cell_type": "code",
   "execution_count": null,
   "metadata": {},
   "outputs": [],
   "source": [
    "import numpy as np"
   ]
  },
  {
   "cell_type": "markdown",
   "metadata": {},
   "source": [
    "## 2. Creating Arrays\n",
    "\n",
    "Arrays are the core of NumPy. They can be 1D (like a list) or 2D (like a table/matrix). Let’s create some arrays.\n",
    "\n",
    "### Example 1: 1D and 2D Arrays"
   ]
  },
  {
   "cell_type": "code",
   "execution_count": null,
   "metadata": {},
   "outputs": [],
   "source": [
    "# 1D array (like a list)\n",
    "arr1 = np.array([1, 2, 3, 4])\n",
    "print(\"1D array:\", arr1)\n",
    "\n",
    "# 2D array (like a matrix)\n",
    "arr2 = np.array([[1, 2], [3, 4]])\n",
    "print(\"2D array:\\n\", arr2)"
   ]
  },
  {
   "cell_type": "markdown",
   "metadata": {},
   "source": [
    "### Example 2: Special Arrays\n",
    "NumPy has shortcuts for common arrays like zeros, ones, or random numbers."
   ]
  },
  {
   "cell_type": "code",
   "execution_count": null,
   "metadata": {},
   "outputs": [],
   "source": [
    "# Array of zeros (2 rows, 3 columns)\n",
    "zeros = np.zeros((2, 3))\n",
    "print(\"Zeros:\\n\", zeros)\n",
    "\n",
    "# Array of ones\n",
    "ones = np.ones((2, 2))\n",
    "print(\"Ones:\\n\", ones)\n",
    "\n",
    "# Random integers between 0 and 9 (3x2 array)\n",
    "random_arr = np.random.randint(0, 10, size=(3, 2))\n",
    "print(\"Random:\\n\", random_arr)"
   ]
  },
  {
   "cell_type": "markdown",
   "metadata": {},
   "source": [
    "**Quick Check**: What does `size=(3, 2)` mean in the random array above? (Answer in your head: 3 rows, 2 columns!)"
   ]
  },
  {
   "cell_type": "markdown",
   "metadata": {},
   "source": [
    "## 3. Array Operations\n",
    "\n",
    "NumPy makes math easy. You can add, multiply, or even compute dot products on arrays.\n",
    "\n",
    "### Example 3: Basic Operations"
   ]
  },
  {
   "cell_type": "code",
   "execution_count": null,
   "metadata": {},
   "outputs": [],
   "source": [
    "# Create two arrays\n",
    "a = np.array([[1, 2], [3, 4]])\n",
    "b = np.array([[5, 6], [7, 8]])\n",
    "\n",
    "# Addition\n",
    "print(\"Addition:\\n\", a + b)\n",
    "\n",
    "# Multiplication (element-wise)\n",
    "print(\"Element-wise multiplication:\\n\", a * b)\n",
    "\n",
    "# Multiply by a number\n",
    "print(\"Multiply by 2:\\n\", a * 2)"
   ]
  },
  {
   "cell_type": "markdown",
   "metadata": {},
   "source": [
    "### Example 4: Dot Product\n",
    "The dot product is useful for matrix math (common in AI)."
   ]
  },
  {
   "cell_type": "code",
   "execution_count": null,
   "metadata": {},
   "outputs": [],
   "source": [
    "# Dot product of 2x2 matrices\n",
    "dot_result = np.dot(a, b)\n",
    "print(\"Dot product:\\n\", dot_result)"
   ]
  },
  {
   "cell_type": "markdown",
   "metadata": {},
   "source": [
    "## 4. Indexing and Slicing\n",
    "\n",
    "You can grab specific parts of an array, like picking a number or a row.\n",
    "\n",
    "### Example 5: Accessing Elements"
   ]
  },
  {
   "cell_type": "code",
   "execution_count": null,
   "metadata": {},
   "outputs": [],
   "source": [
    "arr = np.array([[10, 20, 30], [40, 50, 60]])\n",
    "print(\"Original array:\\n\", arr)\n",
    "\n",
    "# Get element at row 1, column 2 (note: indexing starts at 0)\n",
    "print(\"Element at [1, 2]:\", arr[1, 2])  # Should be 60\n",
    "\n",
    "# Get first row\n",
    "print(\"First row:\", arr[0, :])\n",
    "\n",
    "# Get second column\n",
    "print(\"Second column:\", arr[:, 1])"
   ]
  },
  {
   "cell_type": "markdown",
   "metadata": {},
   "source": [
    "## 5. Broadcasting\n",
    "\n",
    "Broadcasting lets you operate on arrays of different sizes, like adding a number to every element.\n",
    "\n",
    "### Example 6: Broadcasting"
   ]
  },
  {
   "cell_type": "code",
   "execution_count": null,
   "metadata": {},
   "outputs": [],
   "source": [
    "# Add 5 to every element\n",
    "arr = np.array([[1, 2], [3, 4]])\n",
    "print(\"Original:\\n\", arr)\n",
    "print(\"Add 5:\\n\", arr + 5)"
   ]
  },
  {
   "cell_type": "markdown",
   "metadata": {},
   "source": [
    "## Exercises\n",
    "\n",
    "Now it’s your turn! Complete the exercises below to practice NumPy. Write your code in the cells provided, and run them to check your results.\n",
    "\n",
    "**Exercise 1**: Create a 3x3 array of random integers between 1 and 10, then multiply it by 2."
   ]
  },
  {
   "cell_type": "code",
   "execution_count": null,
   "metadata": {},
   "outputs": [],
   "source": [
    "# Your code here\n",
    "\n"
   ]
  },
  {
   "cell_type": "markdown",
   "metadata": {},
   "source": [
    "**Exercise 2**: Create a 4x2 array of zeros, then set the second row to [9, 9]."
   ]
  },
  {
   "cell_type": "code",
   "execution_count": null,
   "metadata": {},
   "outputs": [],
   "source": [
    "# Your code here\n",
    "\n"
   ]
  },
  {
   "cell_type": "markdown",
   "metadata": {},
   "source": [
    "**Exercise 3**: Given the array below, extract the first column and compute its sum."
   ]
  },
  {
   "cell_type": "code",
   "execution_count": null,
   "metadata": {},
   "outputs": [],
   "source": [
    "# Provided array\n",
    "ex3_arr = np.array([[1, 2, 3], [4, 5, 6], [7, 8, 9]])\n",
    "print(\"Array:\\n\", ex3_arr)\n",
    "\n",
    "# Your code here\n",
    "\n"
   ]
  },
  {
   "cell_type": "markdown",
   "metadata": {},
   "source": [
    "**Exercise 4**: Add the two arrays below and print the result."
   ]
  },
  {
   "cell_type": "code",
   "execution_count": null,
   "metadata": {},
   "outputs": [],
   "source": [
    "# Provided arrays\n",
    "arr_a = np.array([[1, 1], [2, 2]])\n",
    "arr_b = np.array([[3, 3], [4, 4]])\n",
    "\n",
    "# Your code here\n",
    "\n"
   ]
  },
  {
   "cell_type": "markdown",
   "metadata": {},
   "source": [
    "## Mini-Project Preview\n",
    "\n",
    "Later this week, you’ll work with the Iris dataset (a table of flower measurements). NumPy will help us do math on the data, like computing averages or scaling values. For now, think about what kinds of numbers you might want to analyze (e.g., petal lengths). No code yet—just something to ponder!\n",
    "\n",
    "**Quick Question**: If petal lengths were in an array like `[5.1, 4.9, 5.0]`, how could you compute their average using NumPy? (Hint: There’s a function for that! Try it below if you’re curious.)"
   ]
  },
  {
   "cell_type": "code",
   "execution_count": null,
   "metadata": {},
   "outputs": [],
   "source": [
    "# Optional: Try computing the average of [5.1, 4.9, 5.0]\n",
    "\n"
   ]
  },
  {
   "cell_type": "markdown",
   "metadata": {},
   "source": [
    "## Wrap-Up\n",
    "\n",
    "Great job! You’ve learned how to:\n",
    "- Create NumPy arrays (1D, 2D, zeros, random).\n",
    "- Perform operations like addition and multiplication.\n",
    "- Index and slice arrays to get specific parts.\n",
    "- Use broadcasting to simplify math.\n",
    "\n",
    "Save this notebook and share your exercise results with the instructor if asked. Next class, we’ll dive into pandas for working with datasets!"
   ]
  }
 ],
 "metadata": {
  "kernelspec": {
   "display_name": "Python 3",
   "language": "python",
   "name": "python3"
  },
  "language_info": {
   "codemirror_mode": {
    "name": "ipython",
    "version": 3
   },
   "file_extension": ".py",
   "mimetype": "text/x-python",
   "name": "python",
   "nbconvert_exporter": "python",
   "pygments_lexer": "ipython3",
   "version": "3.8.0"
  }
 },
 "nbformat": 4,
 "nbformat_minor": 4
}