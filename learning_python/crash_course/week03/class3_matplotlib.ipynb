{
 "cells": [
  {
   "cell_type": "markdown",
   "metadata": {},
   "source": [
    "# Class 3: Data Visualization with Matplotlib\n",
    "\n",
    "**Objective**: Learn how to create and customize visualizations (line plots, scatter plots, histograms) using Matplotlib to explore data.\n",
    "\n",
    "**Topics**:\n",
    "- What is Matplotlib?\n",
    "- Line plots with `plt.plot()`\n",
    "- Scatter plots with `plt.scatter()`\n",
    "- Histograms with `plt.hist()`\n",
    "- Customizing plots (labels, titles, colors, legends)\n",
    "- Brief intro to subplots\n",
    "\n",
    "This notebook includes explanations, examples, and exercises to help you visualize data. We'll also advance our Iris dataset mini-project with a scatter plot. Run the code and try the exercises!"
   ]
  },
  {
   "cell_type": "markdown",
   "metadata": {},
   "source": [
    "## 1. What is Matplotlib?\n",
    "\n",
    "Matplotlib is a Python library for creating visualizations like plots and charts. It’s great for exploring datasets and presenting findings, a key skill for AI and data science.\n",
    "\n",
    "Let’s import Matplotlib (plus NumPy and pandas for data). Run the cell below:"
   ]
  },
  {
   "cell_type": "code",
   "execution_count": null,
   "metadata": {},
   "outputs": [],
   "source": [
    "import matplotlib.pyplot as plt\n",
    "import numpy as np\n",
    "import pandas as pd\n",
    "\n",
    "# Ensure plots display in the notebook\n",
    "%matplotlib inline"
   ]
  },
  {
   "cell_type": "markdown",
   "metadata": {},
   "source": [
    "## 2. Line Plots\n",
    "\n",
    "Line plots connect points to show trends, like a function over time.\n",
    "\n",
    "### Example 1: Plotting a Sine Wave"
   ]
  },
  {
   "cell_type": "code",
   "execution_count": null,
   "metadata": {},
   "outputs": [],
   "source": [
    "# Create data for a sine wave\n",
    "x = np.linspace(0, 10, 100)  # 100 points from 0 to 10\n",
    "y = np.sin(x)\n",
    "\n",
    "# Plot\n",
    "plt.plot(x, y, label='sin(x)', color='blue')\n",
    "plt.title('Sine Wave')\n",
    "plt.xlabel('x')\n",
    "plt.ylabel('sin(x)')\n",
    "plt.legend()\n",
    "plt.grid(True)\n",
    "plt.show()"
   ]
  },
  {
   "cell_type": "markdown",
   "metadata": {},
   "source": [
    "**Quick Check**: What does `label='sin(x)'` do? (Hint: Look at the legend!)"
   ]
  },
  {
   "cell_type": "markdown",
   "metadata": {},
   "source": [
    "## 3. Scatter Plots\n",
    "\n",
    "Scatter plots show individual points, great for comparing two variables.\n",
    "\n",
    "### Example 2: Scatter Plot of Random Data"
   ]
  },
  {
   "cell_type": "code",
   "execution_count": null,
   "metadata": {},
   "outputs": [],
   "source": [
    "# Generate random data\n",
    "x = np.random.rand(50)  # 50 random numbers between 0 and 1\n",
    "y = np.random.rand(50)\n",
    "\n",
    "# Scatter plot\n",
    "plt.scatter(x, y, color='red', label='Random Points', alpha=0.6)\n",
    "plt.title('Random Scatter Plot')\n",
    "plt.xlabel('X-axis')\n",
    "plt.ylabel('Y-axis')\n",
    "plt.legend()\n",
    "plt.show()"
   ]
  },
  {
   "cell_type": "markdown",
   "metadata": {},
   "source": [
    "**Note**: `alpha=0.6` makes points slightly transparent to see overlaps."
   ]
  },
  {
   "cell_type": "markdown",
   "metadata": {},
   "source": [
    "## 4. Histograms\n",
    "\n",
    "Histograms show the distribution of a single variable, like how often values appear.\n",
    "\n",
    "### Example 3: Histogram of Random Data"
   ]
  },
  {
   "cell_type": "code",
   "execution_count": null,
   "metadata": {},
   "outputs": [],
   "source": [
    "# Generate random data (normal distribution)\n",
    "data = np.random.randn(1000)  # 1000 random numbers\n",
    "\n",
    "# Histogram\n",
    "plt.hist(data, bins=30, color='green', edgecolor='black', alpha=0.7)\n",
    "plt.title('Histogram of Random Data')\n",
    "plt.xlabel('Value')\n",
    "plt.ylabel('Frequency')\n",
    "plt.show()"
   ]
  },
  {
   "cell_type": "markdown",
   "metadata": {},
   "source": [
    "**Quick Check**: What does `bins=30` control? (Answer: Number of bars in the histogram.)"
   ]
  },
  {
   "cell_type": "markdown",
   "metadata": {},
   "source": [
    "## 5. Customizing Plots\n",
    "\n",
    "You can add labels, titles, colors, and legends to make plots clear and professional.\n",
    "\n",
    "### Example 4: Customized Scatter Plot"
   ]
  },
  {
   "cell_type": "code",
   "execution_count": null,
   "metadata": {},
   "outputs": [],
   "source": [
    "# Two sets of points\n",
    "x1, y1 = np.random.rand(20), np.random.rand(20)\n",
    "x2, y2 = np.random.rand(20) + 1, np.random.rand(20) + 1\n",
    "\n",
    "# Scatter plot with two groups\n",
    "plt.scatter(x1, y1, color='blue', label='Group 1', marker='o')\n",
    "plt.scatter(x2, y2, color='orange', label='Group 2', marker='^')\n",
    "plt.title('Two Groups of Points')\n",
    "plt.xlabel('X')\n",
    "plt.ylabel('Y')\n",
    "plt.legend()\n",
    "plt.grid(True)\n",
    "plt.show()"
   ]
  },
  {
   "cell_type": "markdown",
   "metadata": {},
   "source": [
    "## 6. Subplots (Brief Intro)\n",
    "\n",
    "Subplots let you show multiple plots in one figure.\n",
    "\n",
    "### Example 5: Line and Histogram in Subplots"
   ]
  },
  {
   "cell_type": "code",
   "execution_count": null,
   "metadata": {},
   "outputs": [],
   "source": [
    "# Create a figure with two subplots\n",
    "fig, (ax1, ax2) = plt.subplots(1, 2, figsize=(10, 4))  # 1 row, 2 columns\n",
    "\n",
    "# Line plot on first subplot\n",
    "ax1.plot(x, np.cos(x), color='purple')\n",
    "ax1.set_title('Cosine Wave')\n",
    "ax1.set_xlabel('x')\n",
    "ax1.set_ylabel('cos(x)')\n",
    "\n",
    "# Histogram on second subplot\n",
    "ax2.hist(np.random.randn(500), bins=20, color='gray')\n",
    "ax2.set_title('Random Histogram')\n",
    "ax2.set_xlabel('Value')\n",
    "ax2.set_ylabel('Frequency')\n",
    "\n",
    "plt.tight_layout()  # Adjust spacing\n",
    "plt.show()"
   ]
  },
  {
   "cell_type": "markdown",
   "metadata": {},
   "source": [
    "## Exercises\n",
    "\n",
    "Now it’s your turn! Complete the exercises below to practice Matplotlib. Write your code in the provided cells and run them to see your plots.\n",
    "\n",
    "**Exercise 1**: Create a line plot of `x` vs. `x**2` for `x` ranging from 0 to 10 (use `np.arange(0, 10, 0.1)`). Add a title and labels."
   ]
  },
  {
   "cell_type": "code",
   "execution_count": null,
   "metadata": {},
   "outputs": [],
   "source": [
    "# Your code here\n",
    "\n"
   ]
  },
  {
   "cell_type": "markdown",
   "metadata": {},
   "source": [
    "**Exercise 2**: Make a histogram of 100 random numbers from a normal distribution (`np.random.randn(100)`). Use 15 bins and a blue color."
   ]
  },
  {
   "cell_type": "code",
   "execution_count": null,
   "metadata": {},
   "outputs": [],
   "source": [
    "# Your code here\n",
    "\n"
   ]
  },
  {
   "cell_type": "markdown",
   "metadata": {},
   "source": [
    "**Exercise 3**: Create a scatter plot with two sets of 30 random points: one set in green circles, the other in red triangles. Add a legend."
   ]
  },
  {
   "cell_type": "code",
   "execution_count": null,
   "metadata": {},
   "outputs": [],
   "source": [
    "# Your code here\n",
    "\n"
   ]
  },
  {
   "cell_type": "markdown",
   "metadata": {},
   "source": [
    "**Exercise 4**: Using the Iris DataFrame (loaded below), create a histogram of `petal length (cm)`. Add labels and a title."
   ]
  },
  {
   "cell_type": "code",
   "execution_count": null,
   "metadata": {},
   "outputs": [],
   "source": [
    "# Load Iris dataset (use your iris.csv or sklearn)\n",
    "from sklearn.datasets import load_iris\n",
    "iris = load_iris()\n",
    "df_iris = pd.DataFrame(iris.data, columns=iris.feature_names)\n",
    "df_iris['species'] = iris.target_names[iris.target]\n",
    "\n",
    "# Your code here\n",
    "\n"
   ]
  },
  {
   "cell_type": "markdown",
   "metadata": {},
   "source": [
    "## Mini-Project Progress\n",
    "\n",
    "For our mini-project, we’re visualizing the Iris dataset. In Class 2, you selected petal length and width. Now, let’s create a scatter plot of `petal length (cm)` vs. `petal width (cm)`.\n",
    "\n",
    "**Task**: Using `df_iris`, plot petal length vs. petal width. Add a title, labels, and a grid. Save the plot as `iris_scatter.png`."
   ]
  },
  {
   "cell_type": "code",
   "execution_count": null,
   "metadata": {},
   "outputs": [],
   "source": [
    "# Your code here\n",
    "plt.scatter(df_iris['petal length (cm)'], df_iris['petal width (cm)'], color='purple', alpha=0.6)\n",
    "plt.title('Iris: Petal Length vs. Petal Width')\n",
    "plt.xlabel('Petal Length (cm)')\n",
    "plt.ylabel('Petal Width (cm)')\n",
    "plt.grid(True)\n",
    "plt.savefig('iris_scatter.png')\n",
    "plt.show()"
   ]
  },
  {
   "cell_type": "markdown",
   "metadata": {},
   "source": [
    "**Think Ahead**: Could coloring points by species make this plot more informative? We’ll try that in Class 4!\n",
    "\n",
    "**Optional Challenge**: Create a subplot with two histograms: one for `sepal length (cm)` and one for `sepal width (cm)`. (Hint: Use `plt.subplots()`.)"
   ]
  },
  {
   "cell_type": "code",
   "execution_count": null,
   "metadata": {},
   "outputs": [],
   "source": [
    "# Optional: Try it here\n",
    "\n"
   ]
  },
  {
   "cell_type": "markdown",
   "metadata": {},
   "source": [
    "## Wrap-Up\n",
    "\n",
    "Great job! You’ve learned how to:\n",
    "- Create line plots, scatter plots, and histograms with Matplotlib.\n",
    "- Customize plots with titles, labels, colors, and legends.\n",
    "- Use subplots to show multiple visualizations.\n",
    "- Visualize Iris dataset features for our mini-project.\n",
    "\n",
    "Save this notebook and your `iris_scatter.png`. Share your plots if asked. Next class, we’ll read/write data and finish the mini-project!"
   ]
  }
 ],
 "metadata": {
  "kernelspec": {
   "display_name": "Python 3",
   "language": "python",
   "name": "python3"
  },
  "language_info": {
   "codemirror_mode": {
    "name": "ipython",
    "version": 3
   },
   "file_extension": ".py",
   "mimetype": "text/x-python",
   "name": "python",
   "nbconvert_exporter": "python",
   "pygments_lexer": "ipython3",
   "version": "3.8.0"
  }
 },
 "nbformat": 4,
 "nbformat_minor": 4
}