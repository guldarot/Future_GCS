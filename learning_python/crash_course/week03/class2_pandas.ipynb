{
 "cells": [
  {
   "cell_type": "markdown",
   "metadata": {},
   "source": [
    "# Class 2: Introduction to pandas\n",
    "\n",
    "**Objective**: Learn how to use pandas to manage datasets, including creating Series and DataFrames, loading data, and performing basic cleaning.\n",
    "\n",
    "**Topics**:\n",
    "- What is pandas?\n",
    "- Series: creating and basic operations\n",
    "- DataFrames: creating, selecting, filtering\n",
    "- Loading datasets with `pd.read_csv()`\n",
    "- Basic data cleaning (missing values, data types)\n",
    "\n",
    "This notebook includes explanations, examples, and exercises to get you comfortable with pandas. Follow along, run the code, and try the exercises! We'll also start working with the Iris dataset for our mini-project."
   ]
  },
  {
   "cell_type": "markdown",
   "metadata": {},
   "source": [
    "## 1. What is pandas?\n",
    "\n",
    "pandas is a Python library for data analysis. It’s like a super-powered spreadsheet, letting you load, manipulate, and explore datasets. It’s perfect for preparing data for AI projects.\n",
    "\n",
    "Let’s import pandas (and NumPy, since it pairs well). Run the cell below:"
   ]
  },
  {
   "cell_type": "code",
   "execution_count": null,
   "metadata": {},
   "outputs": [],
   "source": [
    "import pandas as pd\n",
    "import numpy as np"
   ]
  },
  {
   "cell_type": "markdown",
   "metadata": {},
   "source": [
    "## 2. Series\n",
    "\n",
    "A Series is a 1D array (like a column or list) with labels (an index). Think of it as a single column of data.\n",
    "\n",
    "### Example 1: Creating and Using a Series"
   ]
  },
  {
   "cell_type": "code",
   "execution_count": null,
   "metadata": {},
   "outputs": [],
   "source": [
    "# Create a Series from a list\n",
    "scores = pd.Series([85, 90, 78, 92], index=['Alice', 'Bob', 'Charlie', 'Diana'])\n",
    "print(\"Scores Series:\\n\", scores)\n",
    "\n",
    "# Access by index\n",
    "print(\"Bob’s score:\", scores['Bob'])\n",
    "\n",
    "# Basic operation: compute mean\n",
    "print(\"Average score:\", scores.mean())"
   ]
  },
  {
   "cell_type": "markdown",
   "metadata": {},
   "source": [
    "**Quick Check**: How would you get Diana’s score? (Hint: Try `scores['Diana']` in your head!)"
   ]
  },
  {
   "cell_type": "markdown",
   "metadata": {},
   "source": [
    "## 3. DataFrames\n",
    "\n",
    "A DataFrame is a 2D table (like a spreadsheet) with rows and columns. It’s the main way to work with datasets in pandas.\n",
    "\n",
    "### Example 2: Creating and Exploring a DataFrame"
   ]
  },
  {
   "cell_type": "code",
   "execution_count": null,
   "metadata": {},
   "outputs": [],
   "source": [
    "# Create a DataFrame from a dictionary\n",
    "data = {\n",
    "    'Name': ['Alice', 'Bob', 'Charlie'],\n",
    "    'Age': [25, 30, 22],\n",
    "    'Score': [85, 90, 78]\n",
    "}\n",
    "df = pd.DataFrame(data)\n",
    "print(\"DataFrame:\\n\", df)\n",
    "\n",
    "# Show first few rows\n",
    "print(\"\\nFirst 2 rows:\\n\", df.head(2))\n",
    "\n",
    "# Select a column\n",
    "print(\"\\nScores column:\\n\", df['Score'])"
   ]
  },
  {
   "cell_type": "markdown",
   "metadata": {},
   "source": [
    "## 4. Loading Datasets\n",
    "\n",
    "Most data comes from files like CSVs. pandas makes this easy with `pd.read_csv()`.\n",
    "\n",
    "### Example 3: Loading the Iris Dataset\n",
    "\n",
    "Let’s load the Iris dataset (flower measurements). If you have `iris.csv`, use that. Otherwise, we’ll create it from `sklearn` for practice."
   ]
  },
  {
   "cell_type": "code",
   "execution_count": null,
   "metadata": {},
   "outputs": [],
   "source": [
    "# Option 1: Load from iris.csv (uncomment if you have the file)\n",
    "# df_iris = pd.read_csv('iris.csv')\n",
    "\n",
    "# Option 2: Create from sklearn\n",
    "from sklearn.datasets import load_iris\n",
    "iris = load_iris()\n",
    "df_iris = pd.DataFrame(iris.data, columns=iris.feature_names)\n",
    "df_iris['species'] = iris.target_names[iris.target]\n",
    "\n",
    "# Show first 5 rows\n",
    "print(\"Iris DataFrame:\\n\", df_iris.head())\n",
    "\n",
    "# Basic info\n",
    "print(\"\\nDataset info:\")\n",
    "df_iris.info()"
   ]
  },
  {
   "cell_type": "markdown",
   "metadata": {},
   "source": [
    "**Note**: The Iris dataset has columns like `sepal length (cm)`, `petal width (cm)`, and `species`. We’ll use it for our mini-project."
   ]
  },
  {
   "cell_type": "markdown",
   "metadata": {},
   "source": [
    "## 5. Filtering Data\n",
    "\n",
    "You can filter rows in a DataFrame using conditions, like picking rows where a value is above a threshold.\n",
    "\n",
    "### Example 4: Filtering the Iris Dataset"
   ]
  },
  {
   "cell_type": "code",
   "execution_count": null,
   "metadata": {},
   "outputs": [],
   "source": [
    "# Filter for petal length > 5 cm\n",
    "long_petals = df_iris[df_iris['petal length (cm)'] > 5]\n",
    "print(\"Flowers with petal length > 5 cm:\\n\", long_petals.head())\n",
    "\n",
    "# Select specific columns\n",
    "petal_data = df_iris[['petal length (cm)', 'petal width (cm)']]\n",
    "print(\"\\nPetal columns:\\n\", petal_data.head())"
   ]
  },
  {
   "cell_type": "markdown",
   "metadata": {},
   "source": [
    "## 6. Basic Data Cleaning\n",
    "\n",
    "Real datasets often have issues like missing values. pandas can help clean them.\n",
    "\n",
    "### Example 5: Handling Missing Values\n",
    "\n",
    "The Iris dataset is clean, so let’s simulate a missing value."
   ]
  },
  {
   "cell_type": "code",
   "execution_count": null,
   "metadata": {},
   "outputs": [],
   "source": [
    "# Create a small DataFrame with a missing value\n",
    "df_test = pd.DataFrame({\n",
    "    'petal_length': [5.1, np.nan, 4.9, 5.0],\n",
    "    'species': ['setosa', 'setosa', 'setosa', 'setosa']\n",
    "})\n",
    "print(\"DataFrame with missing value:\\n\", df_test)\n",
    "\n",
    "# Check for missing values\n",
    "print(\"\\nMissing values:\\n\", df_test.isna())\n",
    "\n",
    "# Drop rows with missing values\n",
    "df_clean = df_test.dropna()\n",
    "print(\"\\nAfter dropping missing values:\\n\", df_clean)"
   ]
  },
  {
   "cell_type": "markdown",
   "metadata": {},
   "source": [
    "## Exercises\n",
    "\n",
    "Time to practice! Complete the exercises below using pandas. Write your code in the provided cells and run them to check your work.\n",
    "\n",
    "**Exercise 1**: Create a Series from the list `[10, 20, 30, 40]` with index `['a', 'b', 'c', 'd']`. Compute its mean."
   ]
  },
  {
   "cell_type": "code",
   "execution_count": null,
   "metadata": {},
   "outputs": [],
   "source": [
    "# Your code here\n",
    "\n"
   ]
  },
  {
   "cell_type": "markdown",
   "metadata": {},
   "source": [
    "**Exercise 2**: Using the Iris DataFrame (`df_iris`), select the `sepal length (cm)` and `species` columns. Show the first 3 rows."
   ]
  },
  {
   "cell_type": "code",
   "execution_count": null,
   "metadata": {},
   "outputs": [],
   "source": [
    "# Your code here\n",
    "\n"
   ]
  },
  {
   "cell_type": "markdown",
   "metadata": {},
   "source": [
    "**Exercise 3**: Filter the Iris DataFrame to show only rows where `petal width (cm)` is greater than 2.0. How many rows are returned?"
   ]
  },
  {
   "cell_type": "code",
   "execution_count": null,
   "metadata": {},
   "outputs": [],
   "source": [
    "# Your code here\n",
    "\n"
   ]
  },
  {
   "cell_type": "markdown",
   "metadata": {},
   "source": [
    "**Exercise 4**: Simulate a missing value in the `petal length (cm)` column of the first row of `df_iris` (make a copy to avoid changing the original). Then drop rows with missing values."
   ]
  },
  {
   "cell_type": "code",
   "execution_count": null,
   "metadata": {},
   "outputs": [],
   "source": [
    "# Your code here\n",
    "\n"
   ]
  },
  {
   "cell_type": "markdown",
   "metadata": {},
   "source": [
    "## Mini-Project Progress\n",
    "\n",
    "For our mini-project, we’re analyzing the Iris dataset. You’ve loaded it and explored its columns. Now, let’s prepare data for visualization (next class).\n",
    "\n",
    "**Task**: Select the `petal length (cm)` and `petal width (cm)` columns from `df_iris` and save them to a new DataFrame called `df_petals`. Print its first 5 rows."
   ]
  },
  {
   "cell_type": "code",
   "execution_count": null,
   "metadata": {},
   "outputs": [],
   "source": [
    "# Your code here\n",
    "df_petals = df_iris[['petal length (cm)', 'petal width (cm)']]\n",
    "print(df_petals.head())"
   ]
  },
  {
   "cell_type": "markdown",
   "metadata": {},
   "source": [
    "**Think Ahead**: What might a scatter plot of petal length vs. petal width look like? Could it help separate species? We’ll find out in Class 3!\n",
    "\n",
    "**Optional Challenge**: Compute the average `petal length (cm)` for the `setosa` species. (Hint: Filter by species, then use `.mean()`.)"
   ]
  },
  {
   "cell_type": "code",
   "execution_count": null,
   "metadata": {},
   "outputs": [],
   "source": [
    "# Optional: Try it here\n",
    "\n"
   ]
  },
  {
   "cell_type": "markdown",
   "metadata": {},
   "source": [
    "## Wrap-Up\n",
    "\n",
    "Awesome work! You’ve learned how to:\n",
    "- Create and use pandas Series.\n",
    "- Build and explore DataFrames.\n",
    "- Load datasets like Iris with `pd.read_csv()`.\n",
    "- Filter data and handle missing values.\n",
    "- Start preparing data for our mini-project.\n",
    "\n",
    "Save this notebook and share your exercise results if asked. Next class, we’ll visualize data with Matplotlib!"
   ]
  }
 ],
 "metadata": {
  "kernelspec": {
   "display_name": "Python 3",
   "language": "python",
   "name": "python3"
  },
  "language_info": {
   "codemirror_mode": {
    "name": "ipython",
    "version": 3
   },
   "file_extension": ".py",
   "mimetype": "text/x-python",
   "name": "python",
   "nbconvert_exporter": "python",
   "pygments_lexer": "ipython3",
   "version": "3.8.0"
  }
 },
 "nbformat": 4,
 "nbformat_minor": 4
}