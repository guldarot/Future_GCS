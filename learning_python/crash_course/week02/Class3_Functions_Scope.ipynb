{
 "cells": [
  {
   "cell_type": "markdown",
   "metadata": {},
   "source": [
    "# Class 3: Functions and Scope in Python\n",
    "\n",
    "Welcome to Class 3 of Week 2! Today, we'll learn about **functions** and **scope**, which let you write reusable, organized code. By the end of this notebook, you'll be able to:\n",
    "- Define functions with parameters and return values.\n",
    "- Use default and keyword arguments.\n",
    "- Understand local and global variable scope.\n",
    "\n",
    "Let's get started!"
   ]
  },
  {
   "cell_type": "markdown",
   "metadata": {},
   "source": [
    "## 1. What are Functions?\n",
    "\n",
    "- **Functions**: Reusable blocks of code that perform a specific task.\n",
    "- Defined with `def`, can take inputs (parameters), and return outputs.\n",
    "- Think of them as recipes: provide ingredients (arguments), get a dish (result)."
   ]
  },
  {
   "cell_type": "code",
   "execution_count": null,
   "metadata": {},
   "outputs": [],
   "source": [
    "# Example: A simple function\n",
    "def greet(name):\n",
    "    message = f\"Hello, {name}!\"\n",
    "    return message\n",
    "\n",
    "# Call the function\n",
    "print(greet(\"Alice\"))  # Hello, Alice!\n",
    "print(greet(\"Bob\"))    # Hello, Bob!"
   ]
  },
  {
   "cell_type": "markdown",
   "metadata": {},
   "source": [
    "## 2. Function Basics\n",
    "\n",
    "- **Parameters**: Variables in the function definition.\n",
    "- **Arguments**: Values passed when calling the function.\n",
    "- **Return**: Sends a value back to the caller; without it, functions return `None`."
   ]
  },
  {
   "cell_type": "code",
   "execution_count": null,
   "metadata": {},
   "outputs": [],
   "source": [
    "# Demo: Functions with multiple parameters and return\n",
    "def add_numbers(a, b):\n",
    "    result = a + b\n",
    "    return result\n",
    "\n",
    "# Call with different arguments\n",
    "sum1 = add_numbers(5, 3)\n",
    "sum2 = add_numbers(10, 20)\n",
    "print(\"Sum 1:\", sum1)  # 8\n",
    "print(\"Sum 2:\", sum2)  # 30\n",
    "\n",
    "# Function without return\n",
    "def say_hello():\n",
    "    print(\"Hello, world!\")\n",
    "\n",
    "result = say_hello()\n",
    "print(\"Return value:\", result)  # None"
   ]
  },
  {
   "cell_type": "markdown",
   "metadata": {},
   "source": [
    "### Try It Yourself: Basic Functions\n",
    "1. Write a function called `multiply` that takes two numbers and returns their product.\n",
    "2. Call it with arguments `4` and `5`, and print the result.\n",
    "3. Write a function called `welcome` that prints \"Welcome!\" (no return).\n",
    "\n",
    "Write your code below."
   ]
  },
  {
   "cell_type": "code",
   "execution_count": null,
   "metadata": {},
   "outputs": [],
   "source": [
    "# Your code here\n",
    "def multiply(a, b):\n",
    "    return a * b\n",
    "\n",
    "print(\"Product:\", multiply(4, 5))\n",
    "\n",
    "def welcome():\n",
    "    print(\"Welcome!\")\n",
    "\n",
    "welcome()"
   ]
  },
  {
   "cell_type": "markdown",
   "metadata": {},
   "source": [
    "## 3. Default and Keyword Arguments\n",
    "\n",
    "- **Default Arguments**: Parameters with preset values, used if no argument is provided.\n",
    "- **Keyword Arguments**: Specify arguments by name, allowing flexible order."
   ]
  },
  {
   "cell_type": "code",
   "execution_count": null,
   "metadata": {},
   "outputs": [],
   "source": [
    "# Demo: Default and keyword arguments\n",
    "def power(base, exp=2):\n",
    "    return base ** exp\n",
    "\n",
    "# Using default\n",
    "print(\"Square of 5:\", power(5))      # 25 (exp=2)\n",
    "# Overriding default\n",
    "print(\"5 cubed:\", power(5, 3))       # 125\n",
    "\n",
    "# Keyword arguments\n",
    "print(\"5 to power 4:\", power(base=5, exp=4))  # 625\n",
    "print(\"Same, reversed:\", power(exp=4, base=5))  # 625"
   ]
  },
  {
   "cell_type": "markdown",
   "metadata": {},
   "source": [
    "### Try It Yourself: Default and Keyword Arguments\n",
    "1. Write a function called `calc_tax` that takes an `amount` and a `rate` (default 0.1), returning `amount * rate`.\n",
    "2. Call it with `100` (using default rate) and print the result.\n",
    "3. Call it with `200` and `rate=0.15` using a keyword argument, and print the result.\n",
    "\n",
    "Write your code below."
   ]
  },
  {
   "cell_type": "code",
   "execution_count": null,
   "metadata": {},
   "outputs": [],
   "source": [
    "# Your code here\n",
    "def calc_tax(amount, rate=0.1):\n",
    "    return amount * rate\n",
    "\n",
    "print(\"Tax on 100:\", calc_tax(100))\n",
    "print(\"Tax on 200 at 15%:\", calc_tax(200, rate=0.15))"
   ]
  },
  {
   "cell_type": "markdown",
   "metadata": {},
   "source": [
    "## 4. Scope: Local vs. Global Variables\n",
    "\n",
    "- **Scope**: Where a variable is accessible.\n",
    "- **Local**: Variables defined inside a function, only usable there.\n",
    "- **Global**: Variables defined outside functions, accessible everywhere (but avoid modifying inside functions)."
   ]
  },
  {
   "cell_type": "code",
   "execution_count": null,
   "metadata": {},
   "outputs": [],
   "source": [
    "# Demo: Scope\n",
    "x = 10  # Global variable\n",
    "\n",
    "def add_local(y):\n",
    "    x = 5  # Local variable, doesn't affect global x\n",
    "    return x + y\n",
    "\n",
    "print(\"Result:\", add_local(3))  # 8 (local x=5 + y=3)\n",
    "print(\"Global x:\", x)          # 10 (unchanged)\n",
    "\n",
    "# Global variable access\n",
    "def show_global():\n",
    "    print(\"Inside function, global x:\", x)\n",
    "\n",
    "show_global()  # 10"
   ]
  },
  {
   "cell_type": "markdown",
   "metadata": {},
   "source": [
    "### Try It Yourself: Scope\n",
    "1. Create a global variable `count = 100`.\n",
    "2. Write a function called `increment` that defines a local `count = 50` and returns `count + 10`.\n",
    "3. Call the function and print its result.\n",
    "4. Print the global `count` to confirm it’s unchanged.\n",
    "\n",
    "Write your code below."
   ]
  },
  {
   "cell_type": "code",
   "execution_count": null,
   "metadata": {},
   "outputs": [],
   "source": [
    "# Your code here\n",
    "count = 100\n",
    "\n",
    "def increment():\n",
    "    count = 50\n",
    "    return count + 10\n",
    "\n",
    "print(\"Function result:\", increment())\n",
    "print(\"Global count:\", count)"
   ]
  },
  {
   "cell_type": "markdown",
   "metadata": {},
   "source": [
    "## 5. Mini-Challenge: Putting It All Together\n",
    "\n",
    "Let's build a function to check palindromes!\n",
    "1. Write a function called `is_palindrome` that takes a string and returns `True` if it’s a palindrome (reads the same backward), `False` otherwise.\n",
    "2. Use a default argument `case_sensitive=True` to control whether case matters.\n",
    "3. Test it with:\n",
    "   - `\"Racecar\"` (case-sensitive, should return `False`).\n",
    "   - `\"Racecar\"` (case-insensitive, should return `True`).\n",
    "   - `\"hello\"` (should return `False`).\n",
    "\n",
    "Write your code below."
   ]
  },
  {
   "cell_type": "code",
   "execution_count": null,
   "metadata": {},
   "outputs": [],
   "source": [
    "# Your code here\n",
    "def is_palindrome(text, case_sensitive=True):\n",
    "    if not case_sensitive:\n",
    "        text = text.lower()\n",
    "    return text == text[::-1]\n",
    "\n",
    "print(\"Racecar (case-sensitive):\", is_palindrome(\"Racecar\"))\n",
    "print(\"Racecar (case-insensitive):\", is_palindrome(\"Racecar\", case_sensitive=False))\n",
    "print(\"hello:\", is_palindrome(\"hello\"))"
   ]
  },
  {
   "cell_type": "markdown",
   "metadata": {},
   "source": [
    "## Wrap-Up\n",
    "\n",
    "Great job! You've learned:\n",
    "- How to define functions with parameters and return values.\n",
    "- How to use default and keyword arguments for flexibility.\n",
    "- How scope controls where variables are accessible.\n",
    "\n",
    "**Homework**: Write a function that takes a list of numbers and returns their average. Test it with `[10, 20, 30, 40]`. Experiment with a default argument for handling empty lists.\n",
    "\n",
    "See you in Class 4!"
   ]
  }
 ],
 "metadata": {
  "kernelspec": {
   "display_name": "Python 3",
   "language": "python",
   "name": "python3"
  },
  "language_info": {
   "codemirror_mode": {
    "name": "ipython",
    "version": 3
   },
   "file_extension": ".py",
   "mimetype": "text/x-python",
   "name": "python",
   "nbconvert_exporter": "python",
   "pygments_lexer": "ipython3",
   "version": "3.8.5"
  }
 },
 "nbformat": 4,
 "nbformat_minor": 4
}