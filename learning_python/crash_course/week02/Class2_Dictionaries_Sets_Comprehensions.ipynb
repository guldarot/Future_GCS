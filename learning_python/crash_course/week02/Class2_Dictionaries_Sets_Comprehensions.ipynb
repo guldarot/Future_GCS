{
 "cells": [
  {
   "cell_type": "markdown",
   "metadata": {},
   "source": [
    "# Class 2: Dictionaries, Sets, and List Comprehensions in Python\n",
    "\n",
    "Welcome to Class 2 of Week 2! Today, we'll explore **dictionaries**, **sets**, and **list comprehensions**—powerful tools for storing data and writing concise code. By the end of this notebook, you'll be able to:\n",
    "- Create and manipulate dictionaries and sets.\n",
    "- Use dictionary methods and set operations.\n",
    "- Write list comprehensions for efficient coding.\n",
    "\n",
    "Let's dive in!"
   ]
  },
  {
   "cell_type": "markdown",
   "metadata": {},
   "source": [
    "## 1. Dictionaries: Storing Key-Value Pairs\n",
    "\n",
    "- **Dictionaries**: Store data as key-value pairs, like a phonebook mapping names to numbers.\n",
    "- Keys are unique; values can be anything (numbers, strings, lists, etc.).\n",
    "- Access values with keys, not indices."
   ]
  },
  {
   "cell_type": "code",
   "execution_count": null,
   "metadata": {},
   "outputs": [],
   "source": [
    "# Example: Creating and using a dictionary\n",
    "phonebook = {\"Alice\": \"123-4567\", \"Bob\": \"987-6543\", \"Charlie\": \"555-1212\"}\n",
    "print(\"Phonebook:\", phonebook)\n",
    "\n",
    "# Access a value\n",
    "print(\"Alice's number:\", phonebook[\"Alice\"])\72",
    "\n",
    "# Add a new key-value pair\n",
    "phonebook[\"Diana\"] = \"444-3333\"\n",
    "print(\"After adding Diana:\", phonebook)\n",
    "\n",
    "# Update a value\n",
    "phonebook[\"Bob\"] = \"111-2222\"\n",
    "print(\"After updating Bob:\", phonebook)"
   ]
  },
  {
   "cell_type": "markdown",
   "metadata": {},
   "source": [
    "## 2. Dictionary Methods\n",
    "\n",
    "Dictionaries have useful methods:\n",
    "- `get(key, default)`: Safely get a value, return default if key is missing.\n",
    "- `keys()`: Get all keys.\n",
    "- `values()`: Get all values.\n",
    "- `pop(key)`: Remove a key-value pair and return the value."
   ]
  },
  {
   "cell_type": "code",
   "execution_count": null,
   "metadata": {},
   "outputs": [],
   "source": [
    "# Demo: Dictionary methods\n",
    "scores = {\"Math\": 85, \"Science\": 92, \"History\": 78}\n",
    "\n",
    "# Safe access with get\n",
    "print(\"Art score:\", scores.get(\"Art\", \"Not enrolled\"))\n",
    "\n",
    "# List all keys and values\n",
    "print(\"Subjects:\", scores.keys())\n",
    "print(\"Scores:\", scores.values())\n",
    "\n",
    "# Remove a key-value pair\n",
    "history_score = scores.pop(\"History\")\n",
    "print(\"Popped History score:\", history_score)\n",
    "print(\"Updated dictionary:\", scores)"
   ]
  },
  {
   "cell_type": "markdown",
   "metadata": {},
   "source": [
    "### Try It Yourself: Dictionaries\n",
    "1. Create a dictionary called `contacts` with 3 names and phone numbers.\n",
    "2. Print one person's number using their name.\n",
    "3. Add a new contact.\n",
    "4. Use `get()` to check for a non-existent contact, returning \"Unknown\".\n",
    "\n",
    "Write your code below."
   ]
  },
  {
   "cell_type": "code",
   "execution_count": null,
   "metadata": {},
   "outputs": [],
   "source": [
    "# Your code here\n",
    "contacts = {\"Emma\": \"555-0101\", \"Liam\": \"555-0202\", \"Olivia\": \"555-0303\"}\n",
    "print(\"Emma's number:\", contacts[\"Emma\"])\n",
    "contacts[\"Noah\"] = \"555-0404\"\n",
    "print(\"New contact added:\", contacts)\n",
    "print(\"Sophia's number:\", contacts.get(\"Sophia\", \"Unknown\"))"
   ]
  },
  {
   "cell_type": "markdown",
   "metadata": {},
   "source": [
    "## 3. Sets: Unique Elements\n",
    "\n",
    "- **Sets**: Store unique items, with no duplicates, in no particular order.\n",
    "- Great for finding common or distinct items between collections.\n",
    "- Common operations: `union`, `intersection`, `difference`."
   ]
  },
  {
   "cell_type": "code",
   "execution_count": null,
   "metadata": {},
   "outputs": [],
   "source": [
    "# Demo: Creating and using sets\n",
    "set1 = {1, 2, 2, 3}  # Duplicate 2 is ignored\n",
    "print(\"Set1:\", set1)\n",
    "\n",
    "set2 = {3, 4, 5}\n",
    "print(\"Set2:\", set2)\n",
    "\n",
    "# Set operations\n",
    "print(\"Union:\", set1.union(set2))  # All unique elements\n",
    "print(\"Intersection:\", set1.intersection(set2))  # Common elements\n",
    "print(\"Difference (set1 - set2):\", set1.difference(set2))  # In set1, not set2"
   ]
  },
  {
   "cell_type": "markdown",
   "metadata": {},
   "source": [
    "### Try It Yourself: Sets\n",
    "1. Create a set called `fruits` with `{\"apple\", \"banana\", \"apple\", \"orange\"}`.\n",
    "2. Create another set called `favorites` with `{\"banana\", \"kiwi\"}`.\n",
    "3. Print the union of both sets.\n",
    "4. Print the intersection of both sets.\n",
    "\n",
    "Write your code below."
   ]
  },
  {
   "cell_type": "code",
   "execution_count": null,
   "metadata": {},
   "outputs": [],
   "source": [
    "# Your code here\n",
    "fruits = {\"apple\", \"banana\", \"apple\", \"orange\"}\n",
    "favorites = {\"banana\", \"kiwi\"}\n",
    "print(\"Fruits:\", fruits)\n",
    "print(\"Union:\", fruits.union(favorites))\n",
    "print(\"Intersection:\", fruits.intersection(favorites))"
   ]
  },
  {
   "cell_type": "markdown",
   "metadata": {},
   "source": [
    "## 4. List Comprehensions: Concise Coding\n",
    "\n",
    "- **List Comprehensions**: A compact way to create lists using a single line.\n",
    "- Syntax: `[expression for item in iterable]` or with conditions `[expression for item in iterable if condition]`."
   ]
  },
  {
   "cell_type": "code",
   "execution_count": null,
   "metadata": {},
   "outputs": [],
   "source": [
    "# Demo: List comprehensions\n",
    "# Regular loop vs. comprehension\n",
    "numbers = [1, 2, 3, 4, 5]\n",
    "\n",
    "# Using a loop\n",
    "squares_loop = []\n",
    "for num in numbers:\n",
    "    squares_loop.append(num ** 2)\n",
    "print(\"Squares (loop):\", squares_loop)\n",
    "\n",
    "# Using a comprehension\n",
    "squares_comp = [num ** 2 for num in numbers]\n",
    "print(\"Squares (comprehension):\", squares_comp)\n",
    "\n",
    "# With a condition\n",
    "evens = [num for num in numbers if num % 2 == 0]\n",
    "print(\"Even numbers:\", evens)"
   ]
  },
  {
   "cell_type": "markdown",
   "metadata": {},
   "source": [
    "### Try It Yourself: List Comprehensions\n",
    "1. Create a list comprehension to generate a list of cubes (`n**3`) for numbers 1 to 5.\n",
    "2. Create a list comprehension to get odd numbers from `[10, 11, 12, 13, 14, 15]`.\n",
    "\n",
    "Write your code below."
   ]
  },
  {
   "cell_type": "code",
   "execution_count": null,
   "metadata": {},
   "outputs": [],
   "source": [
    "# Your code here\n",
    "cubes = [n ** 3 for n in range(1, 6)]\n",
    "print(\"Cubes:\", cubes)\n",
    "\n",
    "numbers = [10, 11, 12, 13, 14, 15]\n",
    "odds = [num for num in numbers if num % 2 != 0]\n",
    "print(\"Odd numbers:\", odds)"
   ]
  },
  {
   "cell_type": "markdown",
   "metadata": {},
   "source": [
    "## 5. Mini-Challenge: Putting It All Together\n",
    "\n",
    "Let's combine dictionaries, sets, and list comprehensions!\n",
    "1. Create a dictionary called `inventory` with items and quantities (e.g., `{\"pen\": 10, \"book\": 5, \"pencil\": 8}`).\n",
    "2. Use a list comprehension to create a list of items with more than 5 units.\n",
    "3. Create a set of items from `inventory` and another set `needed = {\"pen\", \"notebook\"}`.\n",
    "4. Print the intersection to find items both in stock and needed.\n",
    "\n",
    "Write your code below."
   ]
  },
  {
   "cell_type": "code",
   "execution_count": null,
   "metadata": {},
   "outputs": [],
   "source": [
    "# Your code here\n",
    "inventory = {\"pen\": 10, \"book\": 5, \"pencil\": 8}\n",
    "high_stock = [item for item, qty in inventory.items() if qty > 5]\n",
    "print(\"Items with >5 units:\", high_stock)\n",
    "\n",
    "stock_items = set(inventory.keys())\n",
    "needed = {\"pen\", \"notebook\"}\n",
    "print(\"Common items:\", stock_items.intersection(needed))"
   ]
  },
  {
   "cell_type": "markdown",
   "metadata": {},
   "source": [
    "## Wrap-Up\n",
    "\n",
    "Awesome work! You've learned:\n",
    "- How to create and manipulate dictionaries for key-value data.\n",
    "- How to use sets for unique items and operations like union and intersection.\n",
    "- How to write list comprehensions for concise list creation.\n",
    "\n",
    "**Homework**: Create a dictionary of your favorite movies and their ratings (1-10). Use a list comprehension to list movies with ratings above 7, and create a set of genres to find common ones with a friend's set.\n",
    "\n",
    "See you in Class 3!"
   ]
  }
 ],
 "metadata": {
  "kernelspec": {
   "display_name": "Python 3",
   "language": "python",
   "name": "python3"
  },
  "language_info": {
   "codemirror_mode": {
    "name": "ipython",
    "version": 3
   },
   "file_extension": ".py",
   "mimetype": "text/x-python",
   "name": "python",
   "nbconvert_exporter": "python",
   "pygments_lexer": "ipython3",
   "version": "3.8.5"
  }
 },
 "nbformat": 4,
 "nbformat_minor": 4
}