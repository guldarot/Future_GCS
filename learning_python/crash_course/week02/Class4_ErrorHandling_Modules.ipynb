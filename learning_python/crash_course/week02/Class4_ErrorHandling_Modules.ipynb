{
 "cells": [
  {
   "cell_type": "markdown",
   "metadata": {},
   "source": [
    "# Class 4: Error Handling and Modules in Python\n",
    "\n",
    "Welcome to Class 4 of Week 2! Today, we'll learn about **error handling** with try-except blocks and how to use **modules** to extend Python's functionality. We'll also build a simple calculator as a mini-project. By the end of this notebook, you'll be able to:\n",
    "- Handle errors gracefully using try-except.\n",
    "- Import and use modules like `math` and `random`.\n",
    "- Apply these skills in a practical project.\n",
    "\n",
    "Let's dive in!"
   ]
  },
  {
   "cell_type": "markdown",
   "metadata": {},
   "source": [
    "## 1. Error Handling with Try-Except\n",
    "\n",
    "- Errors (exceptions) happen, like dividing by zero or invalid inputs.\n",
    "- **Try-except** blocks let you catch and handle errors without crashing your program.\n",
    "- Syntax: `try` runs risky code; `except` handles specific errors."
   ]
  },
  {
   "cell_type": "code",
   "execution_count": null,
   "metadata": {},
   "outputs": [],
   "source": [
    "# Example: Basic try-except\n",
    "try:\n",
    "    num = int(input(\"Enter a number: \"))\n",
    "    print(\"You entered:\", num)\n",
    "except ValueError:\n",
    "    print(\"Invalid input! Please enter a number.\")"
   ]
  },
  {
   "cell_type": "markdown",
   "metadata": {},
   "source": [
    "## 2. Handling Specific Exceptions\n",
    "\n",
    "- You can catch specific errors (e.g., `ValueError`, `ZeroDivisionError`) to handle them differently.\n",
    "- Use multiple `except` blocks or a general `except` for unexpected errors."
   ]
  },
  {
   "cell_type": "code",
   "execution_count": null,
   "metadata": {},
   "outputs": [],
   "source": [
    "# Demo: Multiple exceptions\n",
    "try:\n",
    "    num = int(input(\"Enter a number to divide 10 by: \"))\n",
    "    result = 10 / num\n",
    "    print(\"Result:\", result)\n",
    "except ValueError:\n",
    "    print(\"Please enter a valid number.\")\n",
    "except ZeroDivisionError:\n",
    "    print(\"Cannot divide by zero!\")\n",
    "except:\n",
    "    print(\"An unexpected error occurred.\")"
   ]
  },
  {
   "cell_type": "markdown",
   "metadata": {},
   "source": [
    "### Try It Yourself: Error Handling\n",
    "1. Write a try-except block that asks for two numbers and divides them.\n",
    "2. Handle `ValueError` for invalid inputs and `ZeroDivisionError` for division by zero.\n",
    "3. Print appropriate error messages for each case.\n",
    "\n",
    "Write your code below."
   ]
  },
  {
   "cell_type": "code",
   "execution_count": null,
   "metadata": {},
   "outputs": [],
   "source": [
    "# Your code here\n",
    "try:\n",
    "    a = int(input(\"Enter the first number: \"))\n",
    "    b = int(input(\"Enter the second number: \"))\n",
    "    result = a / b\n",
    "    print(\"Result:\", result)\n",
    "except ValueError:\n",
    "    print(\"Invalid input! Please enter numbers.\")\n",
    "except ZeroDivisionError:\n",
    "    print(\"Cannot divide by zero!\")"
   ]
  },
  {
   "cell_type": "markdown",
   "metadata": {},
   "source": [
    "## 3. Modules: Extending Python\n",
    "\n",
    "- **Modules**: Pre-built libraries of functions and tools.\n",
    "- Import with `import` to use them.\n",
    "- We'll explore `math` (math operations) and `random` (random numbers)."
   ]
  },
  {
   "cell_type": "code",
   "execution_count": null,
   "metadata": {},
   "outputs": [],
   "source": [
    "# Demo: Using math and random modules\n",
    "import math\n",
    "import random\n",
    "\n",
    "# Math module\n",
    "print(\"Square root of 16:\", math.sqrt(16))  # 4.0\n",
    "print(\"Pi:\", math.pi)                      # 3.14159...\n",
    "print(\"Ceiling of 4.2:\", math.ceil(4.2))   # 5\n",
    "\n",
    "# Random module\n",
    "print(\"Random number (1-10):\", random.randint(1, 10))\n",
    "print(\"Random choice:\", random.choice([\"apple\", \"banana\", \"orange\"]))"
   ]
  },
  {
   "cell_type": "markdown",
   "metadata": {},
   "source": [
    "### Try It Yourself: Modules\n",
    "1. Use the `math` module to calculate the area of a circle (π * radius²) for radius = 5.\n",
    "2. Use the `random` module to simulate rolling a six-sided die (1-6).\n",
    "3. Print both results.\n",
    "\n",
    "Write your code below."
   ]
  },
  {
   "cell_type": "code",
   "execution_count": null,
   "metadata": {},
   "outputs": [],
   "source": [
    "# Your code here\n",
    "import math\n",
    "import random\n",
    "\n",
    "radius = 5\n",
    "area = math.pi * radius ** 2\n",
    "print(\"Area of circle:\", area)\n",
    "\n",
    "die_roll = random.randint(1, 6)\n",
    "print(\"Die roll:\", die_roll)"
   ]
  },
  {
   "cell_type": "markdown",
   "metadata": {},
   "source": [
    "## 4. Mini-Project: Simple Calculator\n",
    "\n",
    "Let's build a calculator that:\n",
    "- Takes two numbers and an operation (+, -, *, /) as input.\n",
    "- Uses functions for each operation.\n",
    "- Handles errors (invalid inputs, division by zero).\n",
    "- Returns the result or an error message."
   ]
  },
  {
   "cell_type": "code",
   "execution_count": null,
   "metadata": {},
   "outputs": [],
   "source": [
    "# Demo: Calculator setup\n",
    "def add(a, b):\n",
    "    return a + b\n",
    "\n",
    "def subtract(a, b):\n",
    "    return a - b\n",
    "\n",
    "def multiply(a, b):\n",
    "    return a * b\n",
    "\n",
    "def divide(a, b):\n",
    "    return a / b\n",
    "\n",
    "# Main calculator function\n",
    "def calculator():\n",
    "    try:\n",
    "        num1 = float(input(\"Enter first number: \"))\n",
    "        num2 = float(input(\"Enter second number: \"))\n",
    "        op = input(\"Enter operation (+, -, *, /): \")\n",
    "        \n",
    "        if op == \"+\":\n",
    "            result = add(num1, num2)\n",
    "        elif op == \"-\":\n",
    "            result = subtract(num1, num2)\n",
    "        elif op == \"*\":\n",
    "            result = multiply(num1, num2)\n",
    "        elif op == \"/\":\n",
    "            result = divide(num1, num2)\n",
    "        else:\n",
    "            return \"Invalid operation!\"\n",
    "        \n",
    "        return f\"Result: {result}\"\n",
    "    except ValueError:\n",
    "        return \"Invalid number input!\"\n",
    "    except ZeroDivisionError:\n",
    "        return \"Cannot divide by zero!\"\n",
    "\n",
    "# Run the calculator\n",
    "print(calculator())"
   ]
  },
  {
   "cell_type": "markdown",
   "metadata": {},
   "source": [
    "### Try It Yourself: Enhance the Calculator\n",
    "1. Modify the `calculator` function to handle an additional operation: `^` for power (use `math.pow`).\n",
    "2. Test it with inputs like 2, 3, and `^` (should return 8).\n",
    "3. Ensure error handling still works for invalid inputs and division by zero.\n",
    "\n",
    "Write your code below."
   ]
  },
  {
   "cell_type": "code",
   "execution_count": null,
   "metadata": {},
   "outputs": [],
   "source": [
    "# Your code here\n",
    "import math\n",
    "\n",
    "def add(a, b):\n",
    "    return a + b\n",
    "\n",
    "def subtract(a, b):\n",
    "    return a - b\n",
    "\n",
    "def multiply(a, b):\n",
    "    return a * b\n",
    "\n",
    "def divide(a, b):\n",
    "    return a / b\n",
    "\n",
    "def power(a, b):\n",
    "    return math.pow(a, b)\n",
    "\n",
    "def calculator():\n",
    "    try:\n",
    "        num1 = float(input(\"Enter first number: \"))\n",
    "        num2 = float(input(\"Enter second number: \"))\n",
    "        op = input(\"Enter operation (+, -, *, /, ^): \")\n",
    "        \n",
    "        if op == \"+\":\n",
    "            result = add(num1, num2)\n",
    "        elif op == \"-\":\n",
    "            result = subtract(num1, num2)\n",
    "        elif op == \"*\":\n",
    "            result = multiply(num1, num2)\n",
    "        elif op == \"/\":\n",
    "            result = divide(num1, num2)\n",
    "        elif op == \"^\":\n",
    "            result = power(num1, num2)\n",
    "        else:\n",
    "            return \"Invalid operation!\"\n",
    "        \n",
    "        return f\"Result: {result}\"\n",
    "    except ValueError:\n",
    "        return \"Invalid number input!\"\n",
    "    except ZeroDivisionError:\n",
    "        return \"Cannot divide by zero!\"\n",
    "\n",
    "print(calculator())"
   ]
  },
  {
   "cell_type": "markdown",
   "metadata": {},
   "source": [
    "## Wrap-Up\n",
    "\n",
    "Fantastic work! You've learned:\n",
    "- How to handle errors with try-except blocks.\n",
    "- How to import and use `math` and `random` modules.\n",
    "- How to build a calculator with functions and error handling.\n",
    "\n",
    "**Homework**: Extend the calculator to include a square root operation (`sqrt`) using `math.sqrt`. Handle negative number inputs with an appropriate error message. Test it with various inputs.\n",
    "\n",
    "Great job completing Week 2! You're now equipped to write robust, modular Python code."
   ]
  }
 ],
 "metadata": {
  "kernelspec": {
   "display_name": "Python 3",
   "language": "python",
   "name": "python3"
  },
  "language_info": {
   "codemirror_mode": {
    "name": "ipython",
    "version": 3
   },
   "file_extension": ".py",
   "mimetype": "text/x-python",
   "name": "python",
   "nbconvert_exporter": "python",
   "pygments_lexer": "ipython3",
   "version": "3.8.5"
  }
 },
 "nbformat": 4,
 "nbformat_minor": 4
}