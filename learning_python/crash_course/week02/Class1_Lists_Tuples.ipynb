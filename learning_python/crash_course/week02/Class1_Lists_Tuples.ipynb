{
 "cells": [
  {
   "cell_type": "markdown",
   "metadata": {},
   "source": [
    "# Class 1: Lists and Tuples in Python\n",
    "\n",
    "Welcome to Week 2 of our Python course! Today, we'll dive into **lists** and **tuples**, two essential data structures for storing and managing data. By the end of this notebook, you'll be able to:\n",
    "- Create and manipulate lists and tuples.\n",
    "- Use indexing and slicing to access elements.\n",
    "- Apply common list methods and iterate over both structures.\n",
    "\n",
    "Let's get started!"
   ]
  },
  {
   "cell_type": "markdown",
   "metadata": {},
   "source": [
    "## 1. What are Lists and Tuples?\n",
    "\n",
    "- **Lists**: Ordered, mutable (changeable) collections of items. Think of a grocery list you can edit!\n",
    "- **Tuples**: Ordered, immutable (unchangeable) collections. Think of fixed coordinates (x, y).\n",
    "\n",
    "Both can store multiple items, like numbers, strings, or even other lists/tuples."
   ]
  },
  {
   "cell_type": "code",
   "execution_count": null,
   "metadata": {},
   "outputs": [],
   "source": [
    "# Example: Creating a list and a tuple\n",
    "my_list = [\"apple\", \"banana\", \"orange\"]\n",
    "my_tuple = (3, 4)\n",
    "\n",
    "print(\"My list:\", my_list)\n",
    "print(\"My tuple:\", my_tuple)"
   ]
  },
  {
   "cell_type": "markdown",
   "metadata": {},
   "source": [
    "## 2. Indexing and Slicing\n",
    "\n",
    "- **Indexing**: Access a specific item using its position (starts at 0).\n",
    "- **Slicing**: Get a subset of items using `start:end` (end is exclusive).\n",
    "\n",
    "Let's try it!"
   ]
  },
  {
   "cell_type": "code",
   "execution_count": null,
   "metadata": {},
   "outputs": [],
   "source": [
    "# Indexing\n",
    "fruits = [\"apple\", \"banana\", \"orange\", \"grape\"]\n",
    "print(\"First fruit:\", fruits[0])  # apple\n",
    "print(\"Last fruit:\", fruits[-1])  # grape (negative index counts from end)\n",
    "\n",
    "# Slicing\n",
    "print(\"First two fruits:\", fruits[0:2])  # ['apple', 'banana']\n",
    "print(\"All but first:\", fruits[1:])  # ['banana', 'orange', 'grape']"
   ]
  },
  {
   "cell_type": "markdown",
   "metadata": {},
   "source": [
    "### Try It Yourself: Indexing and Slicing\n",
    "1. Create a list called `numbers` with values `[10, 20, 30, 40, 50]`.\n",
    "2. Print the third number.\n",
    "3. Print the last two numbers using slicing.\n",
    "\n",
    "Write your code below and run it!"
   ]
  },
  {
   "cell_type": "code",
   "execution_count": null,
   "metadata": {},
   "outputs": [],
   "source": [
    "# Your code here\n",
    "numbers = [10, 20, 30, 40, 50]\n",
    "print(\"Third number:\", numbers[2])\n",
    "print(\"Last two numbers:\", numbers[-2:])"
   ]
  },
  {
   "cell_type": "markdown",
   "metadata": {},
   "source": [
    "## 3. List Methods\n",
    "\n",
    "Lists have built-in methods to modify them, like adding, removing, or sorting items. Here are some common ones:\n",
    "- `append(item)`: Add an item to the end.\n",
    "- `remove(item)`: Remove the first occurrence of an item.\n",
    "- `sort()`: Sort the list in place.\n",
    "- `pop()`: Remove and return the last item."
   ]
  },
  {
   "cell_type": "code",
   "execution_count": null,
   "metadata": {},
   "outputs": [],
   "source": [
    "# Demo: List methods\n",
    "animals = [\"cat\", \"dog\", \"bird\"]\n",
    "print(\"Original list:\", animals)\n",
    "\n",
    "# Add an item\n",
    "animals.append(\"fish\")\n",
    "print(\"After append:\", animals)\n",
    "\n",
    "# Remove an item\n",
    "animals.remove(\"dog\")\n",
    "print(\"After remove:\", animals)\n",
    "\n",
    "# Sort the list\n",
    "animals.sort()\n",
    "print(\"After sort:\", animals)\n",
    "\n",
    "# Pop the last item\n",
    "last_animal = animals.pop()\n",
    "print(\"Popped item:\", last_animal)\n",
    "print(\"Final list:\", animals)"
   ]
  },
  {
   "cell_type": "markdown",
   "metadata": {},
   "source": [
    "### Try It Yourself: List Methods\n",
    "1. Create a list called `scores` with `[85, 92, 78, 95]`.\n",
    "2. Append `88` to the list.\n",
    "3. Sort the list in ascending order.\n",
    "4. Pop the last score and print it.\n",
    "\n",
    "Write your code below."
   ]
  },
  {
   "cell_type": "code",
   "execution_count": null,
   "metadata": {},
   "outputs": [],
   "source": [
    "# Your code here\n",
    "scores = [85, 92, 78, 95]\n",
    "scores.append(88)\n",
    "scores.sort()\n",
    "last_score = scores.pop()\n",
    "print(\"Popped score:\", last_score)\n",
    "print(\"Sorted list:\", scores)"
   ]
  },
  {
   "cell_type": "markdown",
   "metadata": {},
   "source": [
    "## 4. Tuples: The Immutable Cousin\n",
    "\n",
    "Tuples are like lists but **cannot be changed** after creation. They're great for fixed data, like coordinates or days of the week."
   ]
  },
  {
   "cell_type": "code",
   "execution_count": null,
   "metadata": {},
   "outputs": [],
   "source": [
    "# Demo: Tuples\n",
    "point = (5, 10)\n",
    "print(\"X coordinate:\", point[0])\n",
    "print(\"Y coordinate:\", point[1])\n",
    "\n",
    "# Try to change a tuple (this will raise an error!)\n",
    "try:\n",
    "    point[0] = 7\n",
    "except TypeError as e:\n",
    "    print(\"Error:\", e)\n",
    "\n",
    "# Tuples can still be sliced\n",
    "print(\"Slice of tuple:\", point[0:1])"
   ]
  },
  {
   "cell_type": "markdown",
   "metadata": {},
   "source": [
    "### Try It Yourself: Tuples\n",
    "1. Create a tuple called `colors` with `(\"red\", \"blue\", \"green\")`.\n",
    "2. Print the second color.\n",
    "3. Try to change the first color to `\"yellow\"` (observe the error).\n",
    "\n",
    "Write your code below."
   ]
  },
  {
   "cell_type": "code",
   "execution_count": null,
   "metadata": {},
   "outputs": [],
   "source": [
    "# Your code here\n",
    "colors = (\"red\", \"blue\", \"green\")\n",
    "print(\"Second color:\", colors[1])\n",
    "try:\n",
    "    colors[0] = \"yellow\"\n",
    "except TypeError as e:\n",
    "    print(\"Error:\", e)"
   ]
  },
  {
   "cell_type": "markdown",
   "metadata": {},
   "source": [
    "## 5. Iterating Over Lists and Tuples\n",
    "\n",
    "Use a `for` loop to process each item in a list or tuple."
   ]
  },
  {
   "cell_type": "code",
   "execution_count": null,
   "metadata": {},
   "outputs": [],
   "source": [
    "# Demo: Iteration\n",
    "cities = [\"New York\", \"Paris\", \"Tokyo\"]\n",
    "for city in cities:\n",
    "    print(\"Visiting:\", city)\n",
    "\n",
    "coordinates = (1, 2, 3)\n",
    "for num in coordinates:\n",
    "    print(\"Number:\", num)"
   ]
  },
  {
   "cell_type": "markdown",
   "metadata": {},
   "source": [
    "### Try It Yourself: Iteration\n",
    "1. Create a list called `hobbies` with 3 of your favorite hobbies.\n",
    "2. Use a for loop to print each hobby with the prefix \"I love to \".\n",
    "\n",
    "Write your code below."
   ]
  },
  {
   "cell_type": "code",
   "execution_count": null,
   "metadata": {},
   "outputs": [],
   "source": [
    "# Your code here\n",
    "hobbies = [\"reading\", \"gaming\", \"hiking\"]\n",
    "for hobby in hobbies:\n",
    "    print(\"I love to\", hobby)"
   ]
  },
  {
   "cell_type": "markdown",
   "metadata": {},
   "source": [
    "## 6. Mini-Challenge: Putting It All Together\n",
    "\n",
    "Let's combine what you've learned!\n",
    "1. Create a list called `items` with `[\"pen\", \"book\", \"pencil\", \"eraser\"]`.\n",
    "2. Append `\"notebook\"` to the list.\n",
    "3. Sort the list.\n",
    "4. Create a tuple from the first two items using slicing.\n",
    "5. Print each item in the list with a for loop, saying \"Item: [item]\".\n",
    "\n",
    "Write your code below."
   ]
  },
  {
   "cell_type": "code",
   "execution_count": null,
   "metadata": {},
   "outputs": [],
   "source": [
    "# Your code here\n",
    "items = [\"pen\", \"book\", \"pencil\", \"eraser\"]\n",
    "items.append(\"notebook\")\n",
    "items.sort()\n",
    "items_tuple = tuple(items[0:2])\n",
    "print(\"Tuple of first two:\", items_tuple)\n",
    "for item in items:\n",
    "    print(\"Item:\", item)"
   ]
  },
  {
   "cell_type": "markdown",
   "metadata": {},
   "source": [
    "## Wrap-Up\n",
    "\n",
    "Great job! You've learned:\n",
    "- How to create and manipulate lists and tuples.\n",
    "- Indexing and slicing to access elements.\n",
    "- Common list methods like append, remove, sort, and pop.\n",
    "- Iterating over lists and tuples with for loops.\n",
    "\n",
    "**Homework**: Experiment with a new list of your choice (e.g., favorite foods). Try adding, removing, and sorting items, then print them with a loop.\n",
    "\n",
    "See you in Class 2!"
   ]
  }
 ],
 "metadata": {
  "kernelspec": {
   "display_name": "Python 3",
   "language": "python",
   "name": "python3"
  },
  "language_info": {
   "codemirror_mode": {
    "name": "ipython",
    "version": 3
   },
   "file_extension": ".py",
   "mimetype": "text/x-python",
   "name": "python",
   "nbconvert_exporter": "python",
   "pygments_lexer": "ipython3",
   "version": "3.8.5"
  }
 },
 "nbformat": 4,
 "nbformat_minor": 4
}