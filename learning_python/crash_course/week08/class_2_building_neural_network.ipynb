{
 "cells": [
  {
   "cell_type": "markdown",
   "metadata": {},
   "source": [
    "# Class 2: Building a Simple Neural Network with TensorFlow\n",
    "\n",
    "**Week 8: Introduction to Neural Networks and Deep Learning**\n",
    "\n",
    "Welcome to Class 2 of Week 8! Today, we’ll get hands-on with **TensorFlow** and **Keras** to build a simple neural network for classification. You’ll learn how to construct a network, define its layers, and prepare it for training. We’ll use the **Iris dataset** to classify flowers into three species, applying concepts from Class 1 (neurons, layers, activation functions).\n",
    "\n",
    "## Objectives\n",
    "- Understand TensorFlow and Keras for building neural networks.\n",
    "- Build a feedforward neural network with input, hidden, and output layers.\n",
    "- Experiment with network architecture (e.g., layer sizes, activation functions).\n",
    "- Prepare a model for training (compilation basics).\n",
    "\n",
    "## Agenda\n",
    "1. Introduction to TensorFlow and Keras.\n",
    "2. Loading and preparing the Iris dataset.\n",
    "3. Building a neural network (demo).\n",
    "4. Exercise: Modify and build your own network.\n",
    "\n",
    "Let’s start coding!"
   ]
  },
  {
   "cell_type": "markdown",
   "metadata": {},
   "source": [
    "## 1. Introduction to TensorFlow and Keras\n",
    "\n",
    "**TensorFlow** is an open-source library for machine learning, and **Keras** is its high-level API, making it easy to build neural networks.\n",
    "\n",
    "- **Why Keras?** It simplifies defining layers, compiling models, and training.\n",
    "- **Key Components**:\n",
    "  - `Sequential`: A stack of layers (input → hidden → output).\n",
    "  - `Dense`: A fully connected layer where each neuron connects to every neuron in the next layer.\n",
    "  - Activation functions: ReLU (hidden layers), softmax (output for classification).\n",
    "\n",
    "Today, we’ll build a neural network with:\n",
    "- **Input Layer**: Matches the number of features (e.g., 4 for Iris).\n",
    "- **Hidden Layer(s)**: Process patterns (we’ll use one with 10 neurons).\n",
    "- **Output Layer**: Matches the number of classes (3 for Iris species).\n",
    "\n",
    "Let’s load our data first."
   ]
  },
  {
   "cell_type": "markdown",
   "metadata": {},
   "source": [
    "## 2. Loading and Preparing the Iris Dataset\n",
    "\n",
    "The **Iris dataset** has 150 samples, 4 features (sepal/petal length/width), and 3 classes (species: Setosa, Versicolor, Virginica). We’ll load it using scikit-learn, split it into training and test sets, and preprocess it for TensorFlow.\n",
    "\n",
    "Run the code below to prepare the data."
   ]
  },
  {
   "cell_type": "code",
   "execution_count": null,
   "metadata": {},
   "outputs": [],
   "source": [
    "# Import libraries\n",
    "import tensorflow as tf\n",
    "from sklearn.datasets import load_iris\n",
    "from sklearn.model_selection import train_test_split\n",
    "from sklearn.preprocessing import StandardScaler\n",
    "import numpy as np\n",
    "\n",
    "# Load Iris dataset\n",
    "iris = load_iris()\n",
    "X = iris.data  # Features (4)\n",
    "y = iris.target  # Labels (0, 1, 2 for species)\n",
    "\n",
    "# Split into train and test sets (80% train, 20% test)\n",
    "X_train, X_test, y_train, y_test = train_test_split(X, y, test_size=0.2, random_state=42)\n",
    "\n",
    "# Standardize features (mean=0, std=1) for better training\n",
    "scaler = StandardScaler()\n",
    "X_train = scaler.fit_transform(X_train)\n",
    "X_test = scaler.transform(X_test)\n",
    "\n",
    "# Check shapes\n",
    "print(f'Training data shape: {X_train.shape}')\n",
    "print(f'Test data shape: {X_test.shape}')\n",
    "print(f'Example features (first sample): {X_train[0]}')\n",
    "print(f'Example label (first sample): {y_train[0]}')"
   ]
  },
  {
   "cell_type": "markdown",
   "metadata": {},
   "source": [
    "**Explanation**:\n",
    "- **X_train**: 120 samples, 4 features (standardized).\n",
    "- **y_train**: Labels (0, 1, or 2 for each species).\n",
    "- **StandardScaler**: Normalizes features to help the neural network learn faster.\n",
    "- The test set (`X_test`, `y_test`) is for evaluation (we’ll use it in Class 3)."
   ]
  },
  {
   "cell_type": "markdown",
   "metadata": {},
   "source": [
    "## 3. Building a Neural Network (Demo)\n",
    "\n",
    "Let’s build a simple neural network for Iris classification:\n",
    "- **Input Layer**: 4 neurons (one per feature).\n",
    "- **Hidden Layer**: 10 neurons with ReLU activation.\n",
    "- **Output Layer**: 3 neurons (one per class) with softmax activation.\n",
    "\n",
    "We’ll use Keras’ `Sequential` model and `Dense` layers. Run the code below to see it in action."
   ]
  },
  {
   "cell_type": "code",
   "execution_count": null,
   "metadata": {},
   "outputs": [],
   "source": [
    "# Build the neural network\n",
    "model = tf.keras.Sequential([\n",
    "    tf.keras.layers.Dense(10, activation='relu', input_shape=(4,)),  # Hidden layer (10 neurons)\n",
    "    tf.keras.layers.Dense(3, activation='softmax')  # Output layer (3 classes)\n",
    "])\n",
    "\n",
    "# Compile the model (set up for training)\n",
    "model.compile(\n",
    "    optimizer='adam',\n",
    "    loss='sparse_categorical_crossentropy',\n",
    "    metrics=['accuracy']\n",
    ")\n",
    "\n",
    "# Display model architecture\n",
    "model.summary()"
   ]
  },
  {
   "cell_type": "markdown",
   "metadata": {},
   "source": [
    "**Explanation**:\n",
    "- **Sequential**: Layers are stacked in order.\n",
    "- **Dense(10, activation='relu')**: 10 neurons, each connected to all 4 inputs, using ReLU.\n",
    "- **Dense(3, activation='softmax')**: 3 neurons outputting probabilities for each class.\n",
    "- **input_shape=(4,)**: Matches Iris’ 4 features (specified in the first layer).\n `\n",
    "- **Compile**:\n",
    "  - `optimizer='adam'`: Adjusts weights during training (details in Class 3).\n",
    "  - `loss='sparse_categorical_crossentropy'`: Measures error for multi-class classification.\n",
    "  - `metrics=['accuracy']`: Tracks classification accuracy.\n",
    "- **model.summary()**: Shows layers, parameters (weights/biases), and architecture.\n",
    "\n",
    "Notice the number of parameters:\n",
    "- Hidden layer: (4 inputs * 10 neurons) + 10 biases = 50 parameters.\n",
    "- Output layer: (10 inputs * 3 neurons) + 3 biases = 33 parameters."
   ]
  },
  {
   "cell_type": "markdown",
   "metadata": {},
   "source": [
    "## 4. Exercise: Modify and Build Your Own Network\n",
    "\n",
    "Now it’s your turn! Create a new neural network by modifying the architecture. Try one or more of the following:\n",
    "- Change the number of neurons in the hidden layer (e.g., 16 instead of 10).\n",
    "- Add a second hidden layer (e.g., another `Dense` layer with 8 neurons and ReLU).\n",
    "- Change the activation function in the hidden layer (e.g., use `sigmoid` instead of `relu`).\n",
    "\n",
    "**Task**:\n",
    "1. Copy the code below and modify it to create a new model.\n",
    "2. Compile the model with the same settings (`adam`, `sparse_categorical_crossentropy`, `accuracy`).\n",
    "3. Display the model summary.\n",
    "4. Answer the questions below.\n",
    "\n",
    "Use the code template to start."
   ]
  },
  {
   "cell_type": "code",
   "execution_count": null,
   "metadata": {},
   "outputs": [],
   "source": [
    "# Your neural network\n",
    "your_model = tf.keras.Sequential([\n",
    "    # TODO: Modify the layers below\n",
    "    tf.keras.layers.Dense(10, activation='relu', input_shape=(4,)),  # Hidden layer\n",
    "    tf.keras.layers.Dense(3, activation='softmax')  # Output layer\n",
    "])\n",
    "\n",
    "# Compile your model\n",
    "your_model.compile(\n",
    "    optimizer='adam',\n",
    "    loss='sparse_categorical_crossentropy',\n",
    "    metrics=['accuracy']\n",
    ")\n",
    "\n",
    "# Display summary\n",
    "your_model.summary()"
   ]
  },
  {
   "cell_type": "markdown",
   "metadata": {},
   "source": [
    "**Questions**:\n",
    "1. What changes did you make to the network (e.g., neurons, layers, activations)?\n",
    "2. How many total parameters does your new model have? (Check the summary.)\n",
    "3. Why do you think we use `softmax` in the output layer for this task?\n",
    "\n",
    "Write your answers in the markdown cell below."
   ]
  },
  {
   "cell_type": "markdown",
   "metadata": {},
   "source": [
    "## Your Answers\n",
    "\n",
    "1. **Changes made**: ______\n",
    "2. **Total parameters**: ______\n",
    "3. **Why softmax?**: ______"
   ]
  },
  {
   "cell_type": "markdown",
   "metadata": {},
   "source": [
    "## Wrap-Up\n",
    "\n",
    "Awesome job! Today, you:\n",
    "- Learned how to use TensorFlow/Keras to build a neural network.\n",
    "- Constructed a model for Iris classification with hidden and output layers.\n",
    "- Experimented with network architecture (neurons, layers, activations).\n",
    "- Understood model compilation (optimizer, loss, metrics).\n",
    "\n",
    "**Homework**:\n",
    "- Experiment with more changes to the network (e.g., add layers, try `tanh` activation).\n",
    "- Review the model summary and calculate the number of parameters by hand for your modified model.\n",
    "- Optional: Explore [TensorFlow’s Keras guide](https://www.tensorflow.org/guide/keras/sequential_model) for more examples.\n",
    "\n",
    "**Next Class**: We’ll train this network using forward/backward propagation and gradient descent, and see how it performs!\n",
    "\n",
    "**Tip**: If you hit errors, double-check your TensorFlow installation:\n",
    "```bash\n",
    "pip install tensorflow\n",
    "```"
   ]
  }
 ],
 "metadata": {
  "kernelspec": {
   "display_name": "Python 3",
   "language": "python",
   "name": "python3"
  },
  "language_info": {
   "codemirror_mode": {
    "name": "ipython",
    "version": 3
   },
   "file_extension": ".py",
   "mimetype": "text/x-python",
   "name": "python",
   "nbconvert_exporter": "python",
   "pygments_lexer": "ipython3",
   "version": "3.8.0"
  }
 },
 "nbformat": 4,
 "nbformat_minor": 4
}