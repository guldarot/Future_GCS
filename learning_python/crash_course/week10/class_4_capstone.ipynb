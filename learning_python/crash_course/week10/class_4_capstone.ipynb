{
 "cells": [
  {
   "cell_type": "markdown",
   "metadata": {},
   "source": [
    "# Class 4: Capstone Project Work and Presentation Prep\n",
    "\n",
    "## Welcome to Week 10, Class 4!\n",
    "This notebook is your workspace for implementing your **capstone project**, the culmination of Week 10. You’ll collect and preprocess data, train and evaluate a model, create visualizations, and prepare a presentation to showcase your work. This class ties together everything you’ve learned: NLP (Class 1), RNNs/transformers (Class 2), and deployment/ethics (Class 3).\n",
    "\n",
    "**Objectives**:\n",
    "- Implement an end-to-end AI project (data → model → results).\n",
    "- Create meaningful visualizations to communicate findings.\n",
    "- Prepare a clear, concise presentation of your project.\n",
    "- Reflect on ethical considerations in your work.\n",
    "\n",
    "**Let’s build something awesome!**"
   ]
  },
  {
   "cell_type": "markdown",
   "metadata": {},
   "source": [
    "## 1. Capstone Project Overview\n",
    "Your capstone project is a chance to apply AI to a problem you care about. Examples include:\n",
    "- **Text Sentiment Analysis**: Classify movie reviews as positive/negative (like Classes 1–2).\n",
    "- **Image Classification**: Identify objects in photos (e.g., cats vs. dogs).\n",
    "- **Predictive Modeling**: Forecast house prices or stock trends.\n",
    "\n",
    "**Project Steps**:\n",
    "1. Collect and preprocess a dataset.\n",
    "2. Train and evaluate a machine learning (ML) or deep learning (DL) model.\n",
    "3. Visualize results (e.g., confusion matrix, loss curves).\n",
    "4. Prepare a 5-minute presentation (problem, approach, results, challenges, ethics).\n",
    "\n",
    "**Discussion Question**: What’s your project idea? Share it with a peer!"
   ]
  },
  {
   "cell_type": "markdown",
   "metadata": {},
   "source": [
    "## 2. Setup\n",
    "Run the cell below to install common libraries. Add any specific ones your project needs (e.g., `tensorflow` for DL, `transformers` for NLP).\n",
    "\n",
    "**Tip**: Use Google Colab if your local setup is limited."
   ]
  },
  {
   "cell_type": "code",
   "execution_count": null,
   "metadata": {},
   "outputs": [],
   "source": [
    "# Install libraries (uncomment as needed)\n",
    "# !pip install numpy pandas scikit-learn tensorflow matplotlib seaborn nltk transformers\n",
    "\n",
    "# Import common libraries\n",
    "import numpy as np\n",
    "import pandas as pd\n",
    "import matplotlib.pyplot as plt\n",
    "import seaborn as sns\n",
    "from sklearn.model_selection import train_test_split\n",
    "from sklearn.metrics import accuracy_score, confusion_matrix, classification_report\n",
    "import warnings\n",
    "warnings.filter_warnings('ignore')\n",
    "\n",
    "# Add your project-specific imports here\n",
    "# e.g., import tensorflow as tf\n",
    "# e.g., from transformers import pipeline\n",
    "\n",
    "print(\"Setup complete!\")\n",
    "\n",
    "# Optional: Set plot style\n",
    "plt.style.use('seaborn')"
   ]
  },
  {
   "cell_type": "markdown",
   "metadata": {},
   "source": [
    "## 3. Project Implementation\n",
    "This section guides you through the key steps of your project. Use the code cells below or create new ones as needed. If you’re stuck, refer to Classes 1–3 or ask the instructor.\n",
    "\n",
    "**Note**: We’ll provide an example (sentiment analysis) to illustrate, but you should adapt the code to your project."
   ]
  },
  {
   "cell_type": "markdown",
   "metadata": {},
   "source": [
    "### 3.1 Step 1: Collect and Preprocess Data\n",
    "Find a dataset for your project (e.g., Kaggle, UCI, or custom data). Preprocess it to prepare for modeling.\n",
    "\n",
    "**Tips**:\n",
    "- For text: Tokenize, remove stop words, lemmatize (Class 1).\n",
    "- For images: Resize, normalize (e.g., scale pixels to 0–1).\n",
    "- For tabular data: Handle missing values, encode categories.\n",
    "\n",
    "**Example**: Sentiment analysis on a toy dataset."
   ]
  },
  {
   "cell_type": "code",
   "execution_count": null,
   "metadata": {},
   "outputs": [],
   "source": [
    "# Example: Toy sentiment dataset\n",
    "data = {\n",
    "    \"review\": [\n",
    "        \"Loved the movie so much\",\n",
    "        \"Terrible film, waste of time\",\n",
    "        \"Amazing acting and story\",\n",
    "        \"Hated it, really boring\"\n",
    "    ],\n",
    "    \"sentiment\": [1, 0, 1, 0]  # 1 = positive, 0 = negative\n",
    "}\n",
    "df = pd.DataFrame(data)\n",
    "print(\"Sample data:\\n\", df.head())\n",
    "\n",
    "# Your code: Load your dataset\n",
    "# e.g., df = pd.read_csv('your_dataset.csv')\n",
    "# e.g., from tensorflow.keras.datasets import cifar10\n",
    "\n",
    "# Your preprocessing code here\n",
    "# e.g., handle missing values, tokenize text, normalize images\n",
    "\n",
    "# Example preprocessing (text)\n",
    "from sklearn.feature_extraction.text import CountVectorizer\n",
    "vectorizer = CountVectorizer()\n",
    "X = vectorizer.fit_transform(df[\"review\"])\n",
    "y = df[\"sentiment\"]\n",
    "\n",
    "print(\"\\nFeatures shape:\", X.shape)"
   ]
  },
  {
   "cell_type": "markdown",
   "metadata": {},
   "source": [
    "**Your Turn**: Load your dataset and preprocess it. Describe your steps in a comment."
   ]
  },
  {
   "cell_type": "code",
   "execution_count": null,
   "metadata": {},
   "outputs": [],
   "source": [
    "# Your code here\n",
    "# Describe your preprocessing steps (e.g., 'Removed nulls, scaled features')\n",
    "\n",
    "# Example placeholder\n",
    "# df = pd.read_csv('my_data.csv')\n",
    "# X = df.drop('target', axis=1)\n",
    "# y = df['target']"
   ]
  },
  {
   "cell_type": "markdown",
   "metadata": {},
   "source": [
    "### 3.2 Step 2: Train and Evaluate a Model\n",
    "Choose a model based on your task:\n",
    "- **ML**: Logistic Regression, Random Forest (scikit-learn).\n",
    "- **DL**: LSTM, CNN (TensorFlow/Keras).\n",
    "- **NLP**: Pre-trained transformer (Hugging Face).\n",
    "\n",
    "Split your data, train the model, and evaluate it with metrics like accuracy, F1-score, or RMSE.\n",
    "\n",
    "**Example**: Train a Naive Bayes model for sentiment."
   ]
  },
  {
   "cell_type": "code",
   "execution_count": null,
   "metadata": {},
   "outputs": [],
   "source": [
    "# Example: Train Naive Bayes\n",
    "from sklearn.naive_bayes import MultinomialNB\n",
    "\n",
    "# Split data\n",
    "X_train, X_test, y_train, y_test = train_test_split(X, y, test_size=0.2, random_state=42)\n",
    "\n",
    "# Train\n",
    "model = MultinomialNB()\n",
    "model.fit(X_train, y_train)\n",
    "\n",
    "# Evaluate\n",
    "y_pred = model.predict(X_test)\n",
    "print(\"Accuracy:\", accuracy_score(y_test, y_pred))\n",
    "print(\"Classification Report:\\n\", classification_report(y_test, y_pred, target_names=[\"Negative\", \"Positive\"]))"
   ]
  },
  {
   "cell_type": "markdown",
   "metadata": {},
   "source": [
    "**Your Turn**: Train and evaluate your model. Include at least one metric."
   ]
  },
  {
   "cell_type": "code",
   "execution_count": null,
   "metadata": {},
   "outputs": [],
   "source": [
    "# Your code here\n",
    "# Describe your model choice and metric (e.g., 'Used Random Forest, evaluated with F1-score')\n",
    "\n",
    "# Example placeholder\n",
    "# from sklearn.ensemble import RandomForestClassifier\n",
    "# model = RandomForestClassifier()\n",
    "# model.fit(X_train, y_train)\n",
    "# y_pred = model.predict(X_test)\n",
    "# print(\"Accuracy:\", accuracy_score(y_test, y_pred))"
   ]
  },
  {
   "cell_type": "markdown",
   "metadata": {},
   "source": [
    "### 3.3 Step 3: Visualize Results\n",
    "Visualizations make your results clear and engaging. Ideas:\n",
    "- **Classification**: Confusion matrix, ROC curve.\n",
    "- **Regression**: Predicted vs. actual scatter plot.\n",
    "- **DL**: Training/validation loss curves.\n",
    "\n",
    "**Example**: Confusion matrix for sentiment analysis."
   ]
  },
  {
   "cell_type": "code",
   "execution_count": null,
   "metadata": {},
   "outputs": [],
   "source": [
    "# Example: Confusion matrix\n",
    "cm = confusion_matrix(y_test, y_pred)\n",
    "plt.figure(figsize=(6, 4))\n",
    "sns.heatmap(cm, annot=True, fmt=\"d\", cmap=\"Blues\", xticklabels=[\"Negative\", \"Positive\"], yticklabels=[\"Negative\", \"Positive\"])\n",
    "plt.xlabel(\"Predicted\")\n",
    "plt.ylabel(\"Actual\")\n",
    "plt.title(\"Confusion Matrix\")\n",
    "plt.show()"
   ]
  },
  {
   "cell_type": "markdown",
   "metadata": {},
   "source": [
    "**Your Turn**: Create at least one visualization for your project."
   ]
  },
  {
   "cell_type": "code",
   "execution_count": null,
   "metadata": {},
   "outputs": [],
   "source": [
    "# Your code here\n",
    "# Describe your visualization (e.g., 'Plotted loss curve to show training progress')\n",
    "\n",
    "# Example placeholder\n",
    "# plt.plot(history.history['loss'], label='Training Loss')\n",
    "# plt.plot(history.history['val_loss'], label='Validation Loss')\n",
    "# plt.xlabel('Epoch')\n",
    "# plt.ylabel('Loss')\n",
    "# plt.legend()\n",
    "# plt.show()"
   ]
  },
  {
   "cell_type": "markdown",
   "metadata": {},
   "source": [
    "## 4. Presentation Preparation\n",
    "Your presentation should be **5 minutes** and cover:\n",
    "1. **Problem**: What are you solving? Why is it important?\n",
    "2. **Approach**: How did you preprocess data and choose your model?\n",
    "3. **Results**: Show key metrics and visualizations.\n",
    "4. **Challenges**: What was hard? How did you overcome it?\n",
    "5. **Ethics**: Any biases or fairness issues? How would you address them?\n",
    "\n",
    "**Tips**:\n",
    "- Use 5–7 slides (e.g., Google Slides, PowerPoint).\n",
    "- Keep visuals simple (e.g., one chart per slide).\n",
    "- Practice explaining your project clearly to a non-technical audience.\n",
    "\n",
    "**Example Outline**:\n",
    "- Slide 1: Title, your name, project goal.\n",
    "- Slide 2: Problem statement and dataset.\n",
    "- Slide 3: Preprocessing and model choice.\n",
    "- Slide 4: Results (metric + visualization).\n",
    "- Slide 5: Challenges faced.\n",
    "- Slide 6: Ethical considerations.\n",
    "- Slide 7: Conclusion and next steps."
   ]
  },
  {
   "cell_type": "markdown",
   "metadata": {},
   "source": [
    "### 4.1 Draft Your Presentation Notes\n",
    "Use the cell below to jot down ideas for each slide."
   ]
  },
  {
   "cell_type": "markdown",
   "metadata": {},
   "source": [
    "**Your Turn**: Write a brief note for each presentation section."
   ]
  },
  {
   "cell_type": "code",
   "execution_count": null,
   "metadata": {},
   "outputs": [],
   "source": [
    "# Your notes here (run this as a markdown cell or comment)\n",
    "\"\"\"\n",
    "Problem: [e.g., Classifying spam emails to improve user experience]\n",
    "Approach: [e.g., Used TF-IDF and Logistic Regression]\n",
    "Results: [e.g., 95% accuracy, confusion matrix shows low false positives]\n",
    "Challenges: [e.g., Imbalanced dataset, fixed with oversampling]\n",
    "Ethics: [e.g., Risk of misclassifying legitimate emails, need diverse data]\n",
    "\"\"\""
   ]
  },
  {
   "cell_type": "markdown",
   "metadata": {},
   "source": [
    "## 5. Ethical Reflection\n",
    "Consider potential ethical issues in your project, such as:\n",
    "- **Bias**: Could your data favor one group? (e.g., reviews from only one demographic)\n",
    "- **Fairness**: Does your model treat all inputs equitably?\n",
    "- **Transparency**: Can users understand your predictions?\n",
    "\n",
    "**Example**: A sentiment model might misclassify slang-heavy reviews if trained on formal text, affecting fairness.\n",
    "\n",
    "**Your Turn**: Test your model with edge cases to spot biases."
   ]
  },
  {
   "cell_type": "code",
   "execution_count": null,
   "metadata": {},
   "outputs": [],
   "source": [
    "# Example: Test sentiment model with edge cases\n",
    "test_reviews = [\"This movie slaps!\", \"Not my vibe but okay\"]\n",
    "for review in test_reviews:\n",
    "    vector = vectorizer.transform([review])\n",
    "    pred = model.predict(vector)\n",
    "    print(f\"Review: {review}\\nPrediction: {'Positive' if pred[0] == 1 else 'Negative'}\\n\")\n",
    "\n",
    "# Your code here\n",
    "# Test your model with edge cases (e.g., slang, ambiguous inputs)\n",
    "# Describe findings (e.g., 'Model misclassified slang as negative')"
   ]
  },
  {
   "cell_type": "markdown",
   "metadata": {},
   "source": [
    "## 6. Wrap-Up\n",
    "You’ve made great progress on your capstone project! By now, you should have:\n",
    "- A preprocessed dataset and trained model.\n",
    "- At least one visualization.\n",
    "- Draft notes for your presentation.\n",
    "- Reflections on ethical issues.\n",
    "\n",
    "**Next Steps**:\n",
    "- Finalize your code and visualizations.\n",
    "- Create your presentation slides.\n",
    "- Practice your 5-minute talk.\n",
    "\n",
    "**Deliverables**:\n",
    "- Submit this notebook with your project code, visualizations, and presentation notes.\n",
    "- Submit your presentation slides (PDF or link).\n",
    "- Optional: Share your project code in a GitHub repo.\n",
    "\n",
    "**Homework**:\n",
    "- Finish your project implementation.\n",
    "- Prepare and rehearse your presentation.\n",
    "- Read: [How to Give a Great Data Science Talk](https://towardsdatascience.com/how-to-give-a-great-data-science-presentation).\n",
    "\n",
    "**Questions?** Ask the instructor or collaborate with peers. This is your chance to shine!\n",
    "\n",
    "Amazing work, and good luck presenting! 🚀"
   ]
  }
 ],
 "metadata": {
  "kernelspec": {
   "display_name": "Python 3",
   "language": "python",
   "name": "python3"
  },
  "language_info": {
   "codemirror_mode": {
    "name": "ipython",
    "version": 3
   },
   "file_extension": ".py",
   "mimetype": "text/x-python",
   "name": "python",
   "nbconvert_exporter": "python",
   "pygments_lexer": "ipython3",
   "version": "3.8.0"
  }
 },
 "nbformat": 4,
 "nbformat_minor": 4
}