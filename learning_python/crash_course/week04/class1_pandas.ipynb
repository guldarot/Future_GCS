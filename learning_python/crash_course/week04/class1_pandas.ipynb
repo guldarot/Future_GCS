{
 "cells": [
  {
   "cell_type": "markdown",
   "metadata": {},
   "source": [
    "# Class 1: Advanced Pandas for Data Manipulation\n",
    "\n",
    "**Week 4: Intermediate Python and Data Preprocessing**\n",
    "\n",
    "## Objectives\n",
    "- Learn to group data using pandas `groupby` for summarization.\n",
    "- Merge datasets to combine related information.\n",
    "- Handle missing data to clean datasets for analysis.\n",
    "\n",
    "## Dataset\n",
    "We'll use a simplified version of the Titanic dataset (`titanic.csv`), which includes columns like `PassengerId`, `Pclass`, `Name`, `Sex`, `Age`, `Fare`, and `Survived`. We'll also use a second dataset (`ticket_info.csv`) for merging exercises.\n",
    "\n",
    "## Instructions\n",
    "- Run the setup cell to load libraries and data.\n",
    "- Complete the exercises by filling in the code cells.\n",
    "- Use the hints if you're stuck.\n",
    "- Save your notebook and submit it if required.\n",
    "\n",
    "## Setup\n",
    "Run the cell below to import pandas and load the datasets."
   ]
  },
  {
   "cell_type": "code",
   "execution_count": null,
   "metadata": {},
   "outputs": [],
   "source": [
    "import pandas as pd\n",
    "\n",
    "# Load the Titanic dataset\n",
    "titanic = pd.read_csv('data/titanic.csv')\n",
    "\n",
    "# Load a sample ticket info dataset\n",
    "ticket_info = pd.read_csv('data/ticket_info.csv')\n",
    "\n",
    "# Display the first few rows\n",
    "print('Titanic dataset:')\n",
    "print(titanic.head())\n",
    "print('\\nTicket info dataset:')\n",
    "print(ticket_info.head())"
   ]
  },
  {
   "cell_type": "markdown",
   "metadata": {},
   "source": [
    "## Exercise 1: Grouping Data\n",
    "\n",
    "**Goal**: Use `groupby` to summarize data by categories.\n",
    "\n",
    "**Task**: Group the Titanic dataset by `Pclass` (passenger class) and compute:\n",
    "- The average `Fare` for each class.\n",
    "- The number of passengers (`count`) in each class.\n",
    "\n",
    "**Steps**:\n",
    "1. Use `titanic.groupby('Pclass')`.\n",
    "2. Apply aggregation functions like `mean()` and `count()`.\n",
    "3. Display the results.\n",
    "\n",
    "**Hint**: You can use `.agg({'column': 'function'})` to apply specific functions to columns."
   ]
  },
  {
   "cell_type": "code",
   "execution_count": null,
   "metadata": {},
   "outputs": [],
   "source": [
    "# Your code here\n",
    "\n",
    "# Group by Pclass and compute average Fare\n",
    "fare_by_class = # YOUR CODE\n",
    "print('Average Fare by Class:')\n",
    "print(fare_by_class)\n",
    "\n",
    "# Group by Pclass and count passengers\n",
    "count_by_class = # YOUR CODE\n",
    "print('\\nPassenger Count by Class:')\n",
    "print(count_by_class)"
   ]
  },
  {
   "cell_type": "markdown",
   "metadata": {},
   "source": [
    "## Solution (Instructor Reference)\n",
    "\n",
    "Uncomment and run the cell below to check your work. Try to complete the exercise yourself first!\n",
    "\n",
    "```python\n",
    "# fare_by_class = titanic.groupby('Pclass')['Fare'].mean()\n",
    "# print('Average Fare by Class:')\n",
    "# print(fare_by_class)\n",
    "# count_by_class = titanic.groupby('Pclass')['PassengerId'].count()\n",
    "# print('\\nPassenger Count by Class:')\n",
    "# print(count_by_class)\n",
    "```"
   ]
  },
  {
   "cell_type": "markdown",
   "metadata": {},
   "source": [
    "## Exercise 2: Merging Datasets\n",
    "\n",
    "**Goal**: Combine related datasets using `merge`.\n",
    "\n",
    "**Task**: Merge the Titanic dataset with `ticket_info.csv` to add ticket details (e.g., `TicketNumber`, `Cabin`) to passenger records.\n",
    "- Use `PassengerId` as the key.\n",
    "- Perform an **inner merge** to keep only matching records.\n",
    "\n",
    "**Steps**:\n",
    "1. Use `pd.merge()` with `titanic` and `ticket_info`.\n",
    "2. Specify `on='PassengerId'` and `how='inner'`.\n",
    "3. Display the first 5 rows of the merged dataset.\n",
    "\n",
    "**Hint**: The syntax is `pd.merge(df1, df2, on='key_column', how='merge_type')`."
   ]
  },
  {
   "cell_type": "code",
   "execution_count": null,
   "metadata": {},
   "outputs": [],
   "source": [
    "# Your code here\n",
    "\n",
    "# Merge titanic and ticket_info\n",
    "merged_df = # YOUR CODE\n",
    "print('Merged Dataset:')\n",
    "print(merged_df.head())"
   ]
  },
  {
   "cell_type": "markdown",
   "metadata": {},
   "source": [
    "## Solution (Instructor Reference)\n",
    "\n",
    "Uncomment and run the cell below to check your work.\n",
    "\n",
    "```python\n",
    "# merged_df = pd.merge(titanic, ticket_info, on='PassengerId', how='inner')\n",
    "# print('Merged Dataset:')\n",
    "# print(merged_df.head())\n",
    "```"
   ]
  },
  {
   "cell_type": "markdown",
   "metadata": {},
   "source": [
    "## Exercise 3: Handling Missing Data\n",
    "\n",
    "**Goal**: Clean the dataset by addressing missing values.\n",
    "\n",
    "**Task**:\n",
    "1. Identify missing values in the Titanic dataset (e.g., check `Age` and `Cabin`).\n",
    "2. Fill missing `Age` values with the median age.\n",
    "3. Drop rows where `Cabin` is missing (optional: discuss why dropping is okay here).\n",
    "4. Verify that there are no missing `Age` values left.\n",
    "\n",
    "**Steps**:\n",
    "1. Use `isna().sum()` to check for missing values.\n",
    "2. Use `fillna()` to impute `Age` with the median.\n",
    "3. Use `dropna()` to remove rows with missing `Cabin`.\n",
    "4. Recheck missing values.\n",
    "\n",
    "**Hint**: Compute the median with `titanic['Age'].median()`."
   ]
  },
  {
   "cell_type": "code",
   "execution_count": null,
   "metadata": {},
   "outputs": [],
   "source": [
    "# Your code here\n",
    "\n",
    "# Check for missing values\n",
    "print('Missing Values Before:')\n",
    "print(titanic.isna().sum())\n",
    "\n",
    "# Fill missing Age with median\n",
    "# YOUR CODE\n",
    "\n",
    "# Drop rows with missing Cabin\n",
    "# YOUR CODE\n",
    "\n",
    "# Check for missing values again\n",
    "print('\\nMissing Values After:')\n",
    "print(titanic.isna().sum())"
   ]
  },
  {
   "cell_type": "markdown",
   "metadata": {},
   "source": [
    "## Solution (Instructor Reference)\n",
    "\n",
    "Uncomment and run the cell below to check your work.\n",
    "\n",
    "```python\n",
    "# print('Missing Values Before:')\n",
    "# print(titanic.isna().sum())\n",
    "# titanic['Age'] = titanic['Age'].fillna(titanic['Age'].median())\n",
    "# titanic = titanic.dropna(subset=['Cabin'])\n",
    "# print('\\nMissing Values After:')\n",
    "# print(titanic.isna().sum())\n",
    "```"
   ]
  },
  {
   "cell_type": "markdown",
   "metadata": {},
   "source": [
    "## Bonus Challenge\n",
    "\n",
    "**Task**: Group the Titanic dataset by `Sex` and `Pclass`, then compute:\n",
    "- The average `Age` for each group.\n",
    "- The maximum `Fare` for each group.\n",
    "\n",
    "Display the results in a single DataFrame.\n",
    "\n",
    "**Hint**: Use `groupby(['Sex', 'Pclass'])` and `.agg()` with a dictionary."
   ]
  },
  {
   "cell_type": "code",
   "execution_count": null,
   "metadata": {},
   "outputs": [],
   "source": [
    "# Your code here\n",
    "\n",
    "# Group by Sex and Pclass, compute average Age and max Fare\n",
    "bonus_result = # YOUR CODE\n",
    "print('Bonus Result:')\n",
    "print(bonus_result)"
   ]
  },
  {
   "cell_type": "markdown",
   "metadata": {},
   "source": [
    "## Discussion Questions\n",
    "1. Why is grouping useful for understanding patterns in data?\n",
    "2. When merging datasets, what happens if you choose `how='left'` instead of `inner`?\n",
    "3. Why might you impute missing values instead of dropping them? When is dropping better?\n",
    "\n",
    "Feel free to jot down your thoughts in a new markdown cell below!"
   ]
  },
  {
   "cell_type": "markdown",
   "metadata": {},
   "source": [
    "## Your Notes\n",
    "\n",
    "(Add your thoughts here)"
   ]
  }
 ],
 "metadata": {
  "kernelspec": {
   "display_name": "Python 3",
   "language": "python",
   "name": "python3"
  },
  "language_info": {
   "codemirror_mode": {
    "name": "ipython",
    "version": 3
   },
   "file_extension": ".py",
   "mimetype": "text/x-python",
   "name": "python",
   "nbconvert_exporter": "python",
   "pygments_lexer": "ipython3",
   "version": "3.8.0"
  }
 },
 "nbformat": 4,
 "nbformat_minor": 4
}