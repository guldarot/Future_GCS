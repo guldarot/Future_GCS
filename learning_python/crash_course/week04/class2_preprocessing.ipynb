{
 "cells": [
  {
   "cell_type": "markdown",
   "metadata": {},
   "source": [
    "# Class 2: Data Preprocessing Techniques\n",
    "\n",
    "**Week 4: Intermediate Python and Data Preprocessing**\n",
    "\n",
    "## Objectives\n",
    "- Encode categorical variables (e.g., one-hot encoding, label encoding).\n",
    "- Scale numerical features using normalization and standardization.\n",
    "- Detect and handle outliers to clean datasets.\n",
    "- Understand why preprocessing is critical for AI models.\n",
    "\n",
    "## Dataset\n",
    "We'll continue using the Titanic dataset (`titanic.csv`) with columns like `PassengerId`, `Pclass`, `Name`, `Sex`, `Age`, `Fare`, `Embarked`, and `Survived`. This dataset includes categorical and numerical features, ideal for practicing preprocessing.\n",
    "\n",
    "## Instructions\n",
    "- Run the setup cell to load libraries and the dataset.\n",
    "- Complete the exercises by filling in the code cells.\n",
    "- Use the hints if you're stuck.\n",
    "- Save your notebook and submit it if required.\n",
    "\n",
    "## Setup\n",
    "Run the cell below to import libraries and load the Titanic dataset."
   ]
  },
  {
   "cell_type": "code",
   "execution_count": null,
   "metadata": {},
   "outputs": [],
   "source": [
    "import pandas as pd\n",
    "import numpy as np\n",
    "from sklearn.preprocessing import StandardScaler, MinMaxScaler\n",
    "\n",
    "# Load the Titanic dataset\n",
    "titanic = pd.read_csv('data/titanic.csv')\n",
    "\n",
    "# Display the first few rows\n",
    "print('Titanic dataset:')\n",
    "print(titanic.head())\n",
    "\n",
    "# Check data types and missing values\n",
    "print('\\nData Info:')\n",
    "print(titanic.info())"
   ]
  },
  {
   "cell_type": "markdown",
   "metadata": {},
   "source": [
    "## Exercise 1: Feature Encoding\n",
    "\n",
    "**Goal**: Convert categorical variables into numerical formats for machine learning.\n",
    "\n",
    "**Task**: Encode the `Sex` and `Embarked` columns:\n",
    "- Use **one-hot encoding** for `Sex` (creates binary columns like `Sex_male`, `Sex_female`).\n",
    "- Use **label encoding** for `Embarked` (maps categories like 'C', 'Q', 'S' to numbers).\n",
    "\n",
    "**Steps**:\n",
    "1. Use `pd.get_dummies()` for one-hot encoding `Sex`.\n",
    "2. Create a dictionary to map `Embarked` values (e.g., {'C': 0, 'Q': 1, 'S': 2}) and apply it using `map()`.\n",
    "3. Display the first 5 rows of the modified dataset.\n",
    "\n",
    "**Hint**: Handle missing values in `Embarked` by filling with the most common value (mode) before encoding."
   ]
  },
  {
   "cell_type": "code",
   "execution_count": null,
   "metadata": {},
   "outputs": [],
   "source": [
    "# Your code here\n",
    "\n",
    "# Handle missing values in Embarked\n",
    "titanic['Embarked'] = titanic['Embarked'].fillna(titanic['Embarked'].mode()[0])\n",
    "\n",
    "# One-hot encode Sex\n",
    "titanic = # YOUR CODE\n",
    "\n",
    "# Label encode Embarked\n",
    "embarked_mapping = {'C': 0, 'Q': 1, 'S': 2}\n",
    "titanic['Embarked'] = # YOUR CODE\n",
    "\n",
    "# Display the result\n",
    "print('Dataset after encoding:')\n",
    "print(titanic[['Sex_male', 'Sex_female', 'Embarked']].head())"
   ]
  },
  {
   "cell_type": "markdown",
   "metadata": {},
   "source": [
    "## Solution (Instructor Reference)\n",
    "\n",
    "Uncomment and run the cell below to check your work. Try to complete the exercise yourself first!\n",
    "\n",
    "```python\n",
    "# titanic['Embarked'] = titanic['Embarked'].fillna(titanic['Embarked'].mode()[0])\n",
    "# titanic = pd.get_dummies(titanic, columns=['Sex'], drop_first=False)\n",
    "# embarked_mapping = {'C': 0, 'Q': 1, 'S': 2}\n",
    "# titanic['Embarked'] = titanic['Embarked'].map(embarked_mapping)\n",
    "# print('Dataset after encoding:')\n",
    "# print(titanic[['Sex_male', 'Sex_female', 'Embarked']].head())\n",
    "```"
   ]
  },
  {
   "cell_type": "markdown",
   "metadata": {},
   "source": [
    "## Exercise 2: Normalization\n",
    "\n",
    "**Goal**: Scale numerical features to a [0,1] range using normalization.\n",
    "\n",
    "**Task**: Normalize the `Fare` column using scikit-learn's `MinMaxScaler`.\n",
    "- Fit the scaler to `Fare`.\n",
    "- Transform `Fare` and add it as a new column `Fare_normalized`.\n",
    "- Verify the min and max values of `Fare_normalized`.\n",
    "\n",
    "**Steps**:\n",
    "1. Create a `MinMaxScaler` object.\n",
    "2. Reshape `Fare` to a 2D array (required by scikit-learn) using `.values.reshape(-1, 1)`.\n",
    "3. Fit and transform `Fare`, then add the result to the DataFrame.\n",
    "4. Check min and max with `.min()` and `.max()`.\n",
    "\n",
    "**Hint**: Use `scaler.fit_transform()` to do both steps at once."
   ]
  },
  {
   "cell_type": "code",
   "execution_count": null,
   "metadata": {},
   "outputs": [],
   "source": [
    "# Your code here\n",
    "\n",
    "# Initialize MinMaxScaler\n",
    "scaler = # YOUR CODE\n",
    "\n",
    "# Normalize Fare\n",
    "titanic['Fare_normalized'] = # YOUR CODE\n",
    "\n",
    "# Verify min and max\n",
    "print('Fare_normalized min:', titanic['Fare_normalized'].min())\n",
    "print('Fare_normalized max:', titanic['Fare_normalized'].max())\n",
    "print(titanic[['Fare', 'Fare_normalized']].head())"
   ]
  },
  {
   "cell_type": "markdown",
   "metadata": {},
   "source": [
    "## Solution (Instructor Reference)\n",
    "\n",
    "Uncomment and run the cell below to check your work.\n",
    "\n",
    "```python\n",
    "# scaler = MinMaxScaler()\n",
    "# titanic['Fare_normalized'] = scaler.fit_transform(titanic[['Fare']].values.reshape(-1, 1))\n",
    "# print('Fare_normalized min:', titanic['Fare_normalized'].min())\n",
    "# print('Fare_normalized max:', titanic['Fare_normalized'].max())\n",
    "# print(titanic[['Fare', 'Fare_normalized']].head())\n",
    "```"
   ]
  },
  {
   "cell_type": "markdown",
   "metadata": {},
   "source": [
    "## Exercise 3: Standardization\n",
    "\n",
    "**Goal**: Scale numerical features to have mean=0 and standard deviation=1 using standardization.\n",
    "\n",
    "**Task**: Standardize the `Age` column using `StandardScaler`.\n",
    "- Handle missing `Age` values by filling with the median.\n",
    "- Fit the scaler to `Age`.\n",
    "- Transform `Age` and add it as `Age_standardized`.\n",
    "- Verify the mean and std (should be ~0 and ~1).\n",
    "\n",
    "**Steps**:\n",
    "1. Fill missing `Age` values with `titanic['Age'].median()`.\n",
    "2. Use `StandardScaler` to standardize `Age`.\n",
    "3. Check mean and std with `.mean()` and `.std()`.\n",
    "\n",
    "**Hint**: Use `scaler.fit_transform()` and reshape `Age` like in Exercise 2."
   ]
  },
  {
   "cell_type": "code",
   "execution_count": null,
   "metadata": {},
   "outputs": [],
   "source": [
    "# Your code here\n",
    "\n",
    "# Handle missing Age values\n",
    "titanic['Age'] = # YOUR CODE\n",
    "\n",
    "# Initialize StandardScaler\n",
    "scaler = # YOUR CODE\n",
    "\n",
    "# Standardize Age\n",
    "titanic['Age_standardized'] = # YOUR CODE\n",
    "\n",
    "# Verify mean and std\n",
    "print('Age_standardized mean:', titanic['Age_standardized'].mean())\n",
    "print('Age_standardized std:', titanic['Age_standardized'].std())\n",
    "print(titanic[['Age', 'Age_standardized']].head())"
   ]
  },
  {
   "cell_type": "markdown",
   "metadata": {},
   "source": [
    "## Solution (Instructor Reference)\n",
    "\n",
    "Uncomment and run the cell below to check your work.\n",
    "\n",
    "```python\n",
    "# titanic['Age'] = titanic['Age'].fillna(titanic['Age'].median())\n",
    "# scaler = StandardScaler()\n",
    "# titanic['Age_standardized'] = scaler.fit_transform(titanic[['Age']].values.reshape(-1, 1))\n",
    "# print('Age_standardized mean:', titanic['Age_standardized'].mean())\n",
    "# print('Age_standardized std:', titanic['Age_standardized'].std())\n",
    "# print(titanic[['Age', 'Age_standardized']].head())\n",
    "```"
   ]
  },
  {
   "cell_type": "markdown",
   "metadata": {},
   "source": [
    "## Exercise 4: Outlier Detection\n",
    "\n",
    "**Goal**: Identify and handle outliers to improve data quality.\n",
    "\n",
    "**Task**: Detect outliers in `Fare` using the Interquartile Range (IQR) method.\n",
    "- Calculate Q1, Q3, and IQR for `Fare`.\n",
    "- Identify outliers (values < Q1 - 1.5*IQR or > Q3 + 1.5*IQR).\n",
    "- Print the number of outliers and display a few example rows.\n",
    "\n",
    "**Steps**:\n",
    "1. Compute Q1 and Q3 using `quantile(0.25)` and `quantile(0.75)`.\n",
    "2. Calculate IQR = Q3 - Q1.\n",
    "3. Define outlier bounds and filter the DataFrame.\n",
    "4. Count and display outliers.\n",
    "\n",
    "**Hint**: Use boolean indexing to select outliers."
   ]
  },
  {
   "cell_type": "code",
   "execution_count": null,
   "metadata": {},
   "outputs": [],
   "source": [
    "# Your code here\n",
    "\n",
    "# Calculate Q1, Q3, and IQR for Fare\n",
    "Q1 = # YOUR CODE\n",
    "Q3 = # YOUR CODE\n",
    "IQR = # YOUR CODE\n",
    "\n",
    "# Define outlier bounds\n",
    "lower_bound = # YOUR CODE\n",
    "upper_bound = # YOUR CODE\n",
    "\n",
    "# Identify outliers\n",
    "outliers = # YOUR CODE\n",
    "\n",
    "# Print results\n",
    "print('Number of outliers in Fare:', len(outliers))\n",
    "print('Example outliers:')\n",
    "print(outliers[['Fare']].head())"
   ]
  },
  {
   "cell_type": "markdown",
   "metadata": {},
   "source": [
    "## Solution (Instructor Reference)\n",
    "\n",
    "Uncomment and run the cell below to check your work.\n",
    "\n",
    "```python\n",
    "# Q1 = titanic['Fare'].quantile(0.25)\n",
    "# Q3 = titanic['Fare'].quantile(0.75)\n",
    "# IQR = Q3 - Q1\n",
    "# lower_bound = Q1 - 1.5 * IQR\n",
    "# upper_bound = Q3 + 1.5 * IQR\n",
    "# outliers = titanic[(titanic['Fare'] < lower_bound) | (titanic['Fare'] > upper_bound)]\n",
    "# print('Number of outliers in Fare:', len(outliers))\n",
    "# print('Example outliers:')\n",
    "# print(outliers[['Fare']].head())\n",
    "```"
   ]
  },
  {
   "cell_type": "markdown",
   "metadata": {},
   "source": [
    "## Bonus Challenge\n",
    "\n",
    "**Task**: Apply one-hot encoding to `Pclass` and normalize both `Age` and `Fare` in a single `MinMaxScaler`.\n",
    "- Create a new DataFrame with encoded `Pclass`, normalized `Age`, and normalized `Fare`.\n",
    "- Display the first 5 rows.\n",
    "\n",
    "**Hint**: Use `scaler.fit_transform()` on a DataFrame with multiple columns."
   ]
  },
  {
   "cell_type": "code",
   "execution_count": null,
   "metadata": {},
   "outputs": [],
   "source": [
    "# Your code here\n",
    "\n",
    "# One-hot encode Pclass and normalize Age and Fare\n",
    "# YOUR CODE\n",
    "\n",
    "print('Bonus Result:')\n",
    "# print YOUR RESULT"
   ]
  },
  {
   "cell_type": "markdown",
   "metadata": {},
   "source": [
    "## Discussion Questions\n",
    "1. Why is one-hot encoding preferred over label encoding for non-ordinal categories?\n",
    "2. When should you use normalization vs. standardization?\n",
    "3. How do outliers affect machine learning models, and what are other ways to handle them?\n",
    "\n",
    "Feel free to jot down your thoughts in a new markdown cell below!"
   ]
  },
  {
   "cell_type": "markdown",
   "metadata": {},
   "source": [
    "## Your Notes\n",
    "\n",
    "(Add your thoughts here)"
   ]
  }
 ],
 "metadata": {
  "kernelspec": {
   "display_name": "Python 3",
   "language": "python",
   "name": "python3"
  },
  "language_info": {
   "codemirror_mode": {
    "name": "ipython",
    "version": 3
   },
   "file_extension": ".py",
   "mimetype": "text/x-python",
   "name": "python",
   "nbconvert_exporter": "python",
   "pygments_lexer": "ipython3",
   "version": "3.8.0"
  }
 },
 "nbformat": 4,
 "nbformat_minor": 4
}